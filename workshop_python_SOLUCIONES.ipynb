{
  "cells": [
    {
      "cell_type": "markdown",
      "metadata": {
        "id": "view-in-github",
        "colab_type": "text"
      },
      "source": [
        "<a href=\"https://colab.research.google.com/github/estebanrucan/workshop-me-intro-python-2022/blob/main/workshop_python_SOLUCIONES.ipynb\" target=\"_parent\"><img src=\"https://colab.research.google.com/assets/colab-badge.svg\" alt=\"Open In Colab\"/></a>"
      ]
    },
    {
      "cell_type": "markdown",
      "metadata": {
        "id": "vjMpflG0-nQF"
      },
      "source": [
        "# Introducción al uso de Python para Análisis de Datos\n",
        "### Miércoles 27 de Julio 2022\n",
        "\n",
        "<img src=\"https://raw.githubusercontent.com/estebanrucan/workshop-me-intro-python-2022/main/img/1658758848147.jpg\"  height=\"450px\">\n",
        "\n",
        "* <a href=\"https://colab.research.google.com/\" target=\"_blank\"/>LINK A GOOGLE COLAB.</a>\n",
        "* <a href=\"https://github.com/estebanrucan/workshop-me-intro-python-2022/\" target=\"_blank\"/>LINK DONDE ESTARÁN LAS SOLUCIONES.</a>\n"
      ]
    },
    {
      "cell_type": "markdown",
      "metadata": {
        "id": "E05DMqFp-nQL"
      },
      "source": [
        "## Contenidos\n",
        "\n",
        "<style>\n",
        "\n",
        ".row {\n",
        "  width: 100%;\n",
        "  display: flex;\n",
        "  flex-direction: row;\n",
        "  justify-content: center;\n",
        "  gap: 2em;\n",
        "}\n",
        ".block {\n",
        "  width: 400px;\n",
        "}\n",
        "\n",
        "</style>\n",
        "\n",
        "<div class=\"row\">\n",
        "\n",
        "<div class=\"block\">\n",
        "\n",
        "## Primer bloque\n",
        "\n",
        "### Containers\n",
        "* Listas, Tuplas, Diccionarios.\n",
        "* Subsettings.\n",
        "* Funciones y métodos importantes.\n",
        "\n",
        "### Estructuras de control\n",
        "* Estructuras condicionales.\n",
        "* Estructuras iterativas.\n",
        "* Comprensión.\n",
        "\n",
        "### Funciones\n",
        "* Built-in\n",
        "* Definidas por usuario: `def` y `lambda`.\n",
        "* Diferencia con métodos.\n",
        "* Librerías y pip.\n",
        "\n",
        "</div>\n",
        "\n",
        "<div class=\"block\">\n",
        "\n",
        "## Segundo bloque\n",
        "\n",
        "### Pandas\n",
        "* Estructuras DataFrame y Series.\n",
        "* Carga de bases de datos.\n",
        "* Transformación básica de datos.\n",
        "\n",
        "### Visualización de Datos\n",
        "* Desde objetos iterables.\n",
        "* Desde DataFrames.\n",
        "\n",
        "### Referencias\n",
        "* Referencias.\n",
        "* Material complementario y links de interés.\n",
        "\n",
        "</div>\n",
        "</div>\n",
        "\n",
        "---"
      ]
    },
    {
      "cell_type": "markdown",
      "metadata": {
        "id": "L1o1EkqE3K0c"
      },
      "source": [
        "### ¿Qué es Python?\n",
        "\n",
        "<img \n",
        "    src=\"https://dataismm.ai/wp-content/uploads/2019/04/python-transparent-background.png\" \n",
        "    alt=\"\"\n",
        "    style=\"width:500px;\">\n",
        "\n",
        "*Lanzado en 1989*. Última versión estable: 3.10.5 (06/06/2022)\n",
        "\n",
        "* Lenguaje de programación multiparadigma: programación funcional, orientada a objetos e imperativa.\n",
        "* Lenguaje de alto nivel: sencillo de aprender por su alta similitud con el lenguaje humano.\n",
        "* Lenguaje interpretado: hay un intermediario.\n",
        "* Utiliza identación: sangrías.\n",
        "* De tipado fuerte y dinámico: el tipo de variable importa pero se puede mutar.\n",
        "* Facilita el trabajo con Inteligencia Artificial, Big Data, Machine Learning y Data Science.\n",
        "* Gran comunidad debido a sus amplias posibilidades.\n",
        "* Actualmente, aplicaciones como *Spotify* o *Netflix* se desarrollan bajo este lenguaje."
      ]
    },
    {
      "cell_type": "code",
      "source": [
        "print(\"Hola mundo!\")"
      ],
      "metadata": {
        "colab": {
          "base_uri": "https://localhost:8080/"
        },
        "id": "PQfas4g0_hz5",
        "outputId": "d2d27821-4fdd-48f5-e6d2-caacfed31b2b"
      },
      "execution_count": null,
      "outputs": [
        {
          "output_type": "stream",
          "name": "stdout",
          "text": [
            "Hola mundo!\n"
          ]
        }
      ]
    },
    {
      "cell_type": "markdown",
      "metadata": {
        "id": "bl2ZjND1-nQM"
      },
      "source": [
        "## Containers"
      ]
    },
    {
      "cell_type": "markdown",
      "metadata": {
        "id": "snHpNxEd-nQM"
      },
      "source": [
        "\n",
        "* Se pueden definir como una colección de objetos dentro de una variable.\n",
        "* Entre los que más destacan: `listas`, `tuplas` y `diccionarios`.\n",
        "* `Listas`: Contienen un set de valores que son guardados de forma secuencial. Es mutable, es decir, se pueden agregar, quitar o modificar elementos dentro de este.\n",
        "* `Tuplas`: Estas no son mutables, pero tienen la ventaja de usar menos memoria y ser más rápidas.\n",
        "* `Diccionarios`: Estos tienen la ventaja de poder identificar cada elementos a través de una `key`."
      ]
    },
    {
      "cell_type": "code",
      "execution_count": null,
      "metadata": {
        "id": "grjbeI0B-nQN",
        "colab": {
          "base_uri": "https://localhost:8080/"
        },
        "outputId": "9df0a6ad-1b35-4b97-b6b7-2f82c22bddd1"
      },
      "outputs": [
        {
          "output_type": "stream",
          "name": "stdout",
          "text": [
            "['Esteban', 'Ursula', 'Sebastián', 'Dario']\n"
          ]
        }
      ],
      "source": [
        "# Ejemplo de lista\n",
        "ejemplo_lista = [\"Esteban\", \"Ursula\", \"Sebastián\", \"Dario\"] # Con corchetes cuadrados\n",
        "print(ejemplo_lista)"
      ]
    },
    {
      "cell_type": "markdown",
      "source": [
        ""
      ],
      "metadata": {
        "id": "69YFv9_BA6b7"
      }
    },
    {
      "cell_type": "code",
      "execution_count": null,
      "metadata": {
        "id": "9QHM1kK7-irW",
        "colab": {
          "base_uri": "https://localhost:8080/"
        },
        "outputId": "1993fa42-aaca-4c54-f6b5-d5d31f476475"
      },
      "outputs": [
        {
          "output_type": "stream",
          "name": "stdout",
          "text": [
            "('Esteban', 'Dario', 'Juan', 'Fabián')\n"
          ]
        }
      ],
      "source": [
        "# Ejemplo de tupla\n",
        "ejemplo_tupla = (\"Esteban\", \"Dario\", \"Juan\", \"Fabián\") # Paréntesis redondos\n",
        "print(ejemplo_tupla)"
      ]
    },
    {
      "cell_type": "code",
      "execution_count": null,
      "metadata": {
        "id": "nJLEWvpN3K0g",
        "colab": {
          "base_uri": "https://localhost:8080/"
        },
        "outputId": "fd4070c7-3d09-4aa7-95dd-e8f9318a2a40"
      },
      "outputs": [
        {
          "output_type": "stream",
          "name": "stdout",
          "text": [
            "{'Esteban': 23, 'Sebastian': 50, 'Fabian': 30, 'Yasmin': 30}\n"
          ]
        }
      ],
      "source": [
        "# Ejemplo de diccionario\n",
        "ejemplo_diccionario = {\"Esteban\": 23, \"Sebastian\": 50, \"Fabian\": 30, \"Yasmin\": 30} # Con llaves\n",
        "# Key: indicador, debe ser no mutable, no se puede repetir una vez usado\n",
        "\n",
        "print(ejemplo_diccionario)"
      ]
    },
    {
      "cell_type": "markdown",
      "metadata": {
        "id": "8wARlV5--nQO"
      },
      "source": [
        "### Subsettings"
      ]
    },
    {
      "cell_type": "markdown",
      "metadata": {
        "id": "W09kw8_z-nQO"
      },
      "source": [
        "<img src=\"https://cdn.programiz.com/sites/tutorial2program/files/python-list-index.png\" width=\"500px\">"
      ]
    },
    {
      "cell_type": "markdown",
      "metadata": {
        "id": "s8Ept4YD-nQP"
      },
      "source": [
        "* Existe la posibilidad de acceder a objectos dentro de containers usando paréntesis rectangulares.\n",
        "* Para acceder a objetos del tipo `listas` y `tuplas` la sintaxis es idéntica. Numeración de índices comienza desde el 0.\n",
        "* Para `diccionarios`, podemos acceder a los elementos escribiendo el nombre de la `key` entre paréntesis rectangulares."
      ]
    },
    {
      "cell_type": "code",
      "execution_count": null,
      "metadata": {
        "id": "cj7ObEYz-nQP",
        "colab": {
          "base_uri": "https://localhost:8080/"
        },
        "outputId": "8dd63fdf-c848-4614-94c8-42f5e43303d0"
      },
      "outputs": [
        {
          "output_type": "stream",
          "name": "stdout",
          "text": [
            "Ursula\n",
            "Sebastián\n",
            "23\n"
          ]
        }
      ],
      "source": [
        "# Subsettings en listas: accediendo al elemento numero 2 de izq. a der.\n",
        "print(ejemplo_lista[1]) # escribir numero 1 quiere decir extraer segunda posición\n",
        "\n",
        "# penúltimo elemento:\n",
        "print(ejemplo_lista[-2])\n",
        "\n",
        "# Subsettings en diccionarios: \n",
        "print(ejemplo_diccionario[\"Esteban\"]) # Indicamos la llave"
      ]
    },
    {
      "cell_type": "markdown",
      "metadata": {
        "id": "y50Q2TjX-nQQ"
      },
      "source": [
        "### Métodos importantes para listas\n",
        "\n",
        "* `append` : Agregar elemento al final.\n",
        "* `pop`    : Retorna y elimina el objecto ubicado en el índice indicado.\n",
        "* `remove` : Se usa cuando se conoce el nombre del elemento pero no su posición.\n",
        "* `reverse`: Cambia dirección en que se encuetran ubicacos los elementos de una lista.\n",
        "* `sort`   : Por defecto, ordena elementos de menor a mayor.\n",
        "* `index`: Busca un elemento dentro de una lista y entrega la posición.\n",
        "\n",
        "### Funciones importantes para listas.\n",
        "\n",
        "* `len`      : Indica tamaño de lista.\n",
        "* `min`      : Mínimo valor dentro de lista.\n",
        "* `max`      : Máximo valor dentro de lista.\n",
        "* `sum`      : Suma elementos dentro de lista.\n",
        "* `zip`      : concatena listas en un objeto iterable, luego podemos usar la función `list` para acceder al resultado.\n",
        "* `enumerate`: Crea un containter donde cada posición esta compuesta por una tupla conteniendo el índice y elementos de una lista. Podemos usar la función `list` para acceder al resultado"
      ]
    },
    {
      "cell_type": "code",
      "execution_count": null,
      "metadata": {
        "id": "wfCbET8b-nQQ"
      },
      "outputs": [],
      "source": [
        "precios = [1000, 2000, 1500, 300, 600, 500, 5000]\n",
        "nombres = [\"Esteban\", \"Sebastián\", \"Ana\", \"María\", \"Victoria\", \"Francisco\", \"Carlos\"]"
      ]
    },
    {
      "cell_type": "code",
      "execution_count": null,
      "metadata": {
        "id": "DZIlieIA-nQR"
      },
      "outputs": [],
      "source": [
        "# Ejemplos de funciones y métodos\n",
        "# METODOS: # funciones asociadas a un objeto ya creado, se accede a ellas a trvés de un punto.\n",
        "precios.sort()"
      ]
    },
    {
      "cell_type": "code",
      "source": [
        "print(precios)"
      ],
      "metadata": {
        "colab": {
          "base_uri": "https://localhost:8080/"
        },
        "id": "bHYFdLHYFC3P",
        "outputId": "226d7403-18f5-4d30-c257-4504e6450287"
      },
      "execution_count": null,
      "outputs": [
        {
          "output_type": "stream",
          "name": "stdout",
          "text": [
            "[300, 500, 600, 1000, 1500, 2000, 5000]\n"
          ]
        }
      ]
    },
    {
      "cell_type": "code",
      "execution_count": null,
      "metadata": {
        "id": "vBSbYqcKBtCE",
        "colab": {
          "base_uri": "https://localhost:8080/"
        },
        "outputId": "204b0079-de04-4d15-ca19-f8629e5f24c8"
      },
      "outputs": [
        {
          "output_type": "stream",
          "name": "stdout",
          "text": [
            "7\n"
          ]
        }
      ],
      "source": [
        "# FUNCIONES:\n",
        "# ver cuantos elementos hay en mi lista de precios\n",
        "print(len(precios))"
      ]
    },
    {
      "cell_type": "code",
      "execution_count": null,
      "metadata": {
        "id": "BdXIn6alCJuO",
        "colab": {
          "base_uri": "https://localhost:8080/"
        },
        "outputId": "d6dfe3f4-ecd6-449f-ea69-e8e29f231339"
      },
      "outputs": [
        {
          "output_type": "stream",
          "name": "stdout",
          "text": [
            "[(0, 'Esteban'), (1, 'Sebastián'), (2, 'Ana'), (3, 'María'), (4, 'Victoria'), (5, 'Francisco'), (6, 'Carlos')]\n",
            "[(300, 'Esteban'), (500, 'Sebastián'), (600, 'Ana'), (1000, 'María'), (1500, 'Victoria'), (2000, 'Francisco'), (5000, 'Carlos')]\n"
          ]
        }
      ],
      "source": [
        "# enumerate:\n",
        "print(list(enumerate(nombres))) # generador\n",
        "print(list(zip(precios, nombres)))"
      ]
    },
    {
      "cell_type": "markdown",
      "metadata": {
        "id": "GtVFdhhM-nQR"
      },
      "source": [
        "### Métodos importantes para diccionarios\n",
        "* `items` : Entrega una lista conteniendo una tupla para para par `key`, `valor`.\n",
        "* `keys`   : Entrega una lista con todas las `keys` de un diccionario.\n",
        "* `values`: Entrega una lista con todos los `valores` de un diccionario.\n",
        "* `pop`   : Elimina del diccionario y retorna elemento ubicado en cierta `key`."
      ]
    },
    {
      "cell_type": "code",
      "execution_count": null,
      "metadata": {
        "id": "lXDG_669-nQR",
        "colab": {
          "base_uri": "https://localhost:8080/"
        },
        "outputId": "2f275035-d19f-41f5-8fe4-753c46a4f5a7"
      },
      "outputs": [
        {
          "output_type": "stream",
          "name": "stdout",
          "text": [
            "dict_keys(['Esteban', 'Sebastian', 'Fabian', 'Yasmin'])\n",
            "dict_values([23, 50, 30, 30])\n"
          ]
        }
      ],
      "source": [
        "# Ejemplos de métodos para diccionarios\n",
        "# Para hacer subsettings, primero envolver con función list\n",
        "print(ejemplo_diccionario.keys())\n",
        "print(ejemplo_diccionario.values())"
      ]
    },
    {
      "cell_type": "markdown",
      "metadata": {
        "id": "At2AvjS--nQS"
      },
      "source": [
        "## Control de flujo"
      ]
    },
    {
      "cell_type": "markdown",
      "metadata": {
        "id": "TVxp5gRL-nQS"
      },
      "source": [
        "### Operadores\n",
        "\n",
        "* **Operadores comparativos** : Estas expresiones comparan dos valores y evaluan si son `True` o `False`. Estos son `<`,   `>`,  `<=`, `>=`, `==`, `!=`.\n",
        "* **Operadores lógicos**      : Estos operan entre elementos que son del tipo booleano (`True/False`). Encontramos a `or`, `and` y `not`.\n",
        "* **Operadores de asignación**: Estos asignan un valor a una variable u operador. Están `=`,                               `+=`, `-=`, `*=`, `/=`, entre otros.\n",
        "* **Operadores de membresía** : Comprueban si un valor en particular se encuentran en un container (como `listas` o `tuplas`). Son `in` y `not in`."
      ]
    },
    {
      "cell_type": "code",
      "execution_count": null,
      "metadata": {
        "id": "vtnQpEai-nQS",
        "colab": {
          "base_uri": "https://localhost:8080/"
        },
        "outputId": "64e671ec-4093-4002-c2d8-0a117361c2ea"
      },
      "outputs": [
        {
          "output_type": "stream",
          "name": "stdout",
          "text": [
            "True\n",
            "True\n",
            "True\n",
            "False\n",
            "False\n",
            "True\n",
            "True\n"
          ]
        }
      ],
      "source": [
        "# Ejemplos de operadores comparativos\n",
        "print(20 > 10)\n",
        "print(30 <= 30)\n",
        "print(\"Sergio\" == \"Sergio\") # == comparativo, = asignar\n",
        "print(\"Esteban\" != \"Esteban\")\n",
        "# Operadores lógicos\n",
        "print(True and False)\n",
        "print(True or True)\n",
        "print(True or False)"
      ]
    },
    {
      "cell_type": "code",
      "execution_count": null,
      "metadata": {
        "id": "foI81-fWEVFs"
      },
      "outputs": [],
      "source": [
        "# asignaciones\n",
        "esteban = \"texto\""
      ]
    },
    {
      "cell_type": "code",
      "source": [
        "asistencia = 100\n",
        "asistencia = asistencia * 4\n",
        "print(asistencia)"
      ],
      "metadata": {
        "colab": {
          "base_uri": "https://localhost:8080/"
        },
        "id": "YYRRosHfKmv4",
        "outputId": "40463255-626a-44ec-b858-8e4b1e0e91c1"
      },
      "execution_count": null,
      "outputs": [
        {
          "output_type": "stream",
          "name": "stdout",
          "text": [
            "400\n"
          ]
        }
      ]
    },
    {
      "cell_type": "code",
      "source": [
        "asistencia = 100\n",
        "asistencia *= 4 # Atajo para lo de arriba\n",
        "print(asistencia)"
      ],
      "metadata": {
        "colab": {
          "base_uri": "https://localhost:8080/"
        },
        "id": "hCFNGVg1K_Kn",
        "outputId": "614deaf4-de40-449d-b38f-e6d870523f9c"
      },
      "execution_count": null,
      "outputs": [
        {
          "output_type": "stream",
          "name": "stdout",
          "text": [
            "400\n"
          ]
        }
      ]
    },
    {
      "cell_type": "code",
      "execution_count": null,
      "metadata": {
        "id": "ASYl62ylE85S",
        "colab": {
          "base_uri": "https://localhost:8080/"
        },
        "outputId": "e1990cf6-553d-449e-9808-f8cdd8aaaf90"
      },
      "outputs": [
        {
          "output_type": "stream",
          "name": "stdout",
          "text": [
            "['Esteban', 'Sebastián', 'Ana', 'María', 'Victoria', 'Francisco', 'Carlos']\n"
          ]
        }
      ],
      "source": [
        "# Membresía\n",
        "print(nombres)"
      ]
    },
    {
      "cell_type": "code",
      "source": [
        "print(\"Ana\" in nombres)\n",
        "print(\"Dario\" in nombres)"
      ],
      "metadata": {
        "colab": {
          "base_uri": "https://localhost:8080/"
        },
        "id": "fW_h1RTZLm8r",
        "outputId": "f0591d68-1a24-47f8-a0bc-63eaa55ff6e9"
      },
      "execution_count": null,
      "outputs": [
        {
          "output_type": "stream",
          "name": "stdout",
          "text": [
            "True\n",
            "False\n"
          ]
        }
      ]
    },
    {
      "cell_type": "markdown",
      "metadata": {
        "id": "wtETXNxT-nQS"
      },
      "source": [
        "### Estructuras condicionales\n",
        "\n",
        "* Evalúan una condición o un grupo de condiciones. En Python, el constructo `if-elif-else` es usado para este propósito.\n",
        "* Pueden ser anidados."
      ]
    },
    {
      "cell_type": "code",
      "execution_count": null,
      "metadata": {
        "id": "ciDX-Emp-nQS",
        "colab": {
          "base_uri": "https://localhost:8080/"
        },
        "outputId": "d8d5d251-aa42-4979-dc88-babc48c312a5"
      },
      "outputs": [
        {
          "output_type": "stream",
          "name": "stdout",
          "text": [
            "Somos pocos pero locos.\n"
          ]
        }
      ],
      "source": [
        "# Ejemplo sentencia if-elif-else\n",
        "asistencia = 70\n",
        "\n",
        "if asistencia > 200:\n",
        "  print(\"Somos demasiados!\")\n",
        "elif asistencia > 100: # elif: else if\n",
        "  print(\"Gracias por asistir\")\n",
        "else:\n",
        "  print(\"Somos pocos pero locos.\")"
      ]
    },
    {
      "cell_type": "markdown",
      "metadata": {
        "id": "XN020nyV-nQT"
      },
      "source": [
        "### Estructuras iterativas\n",
        "\n",
        "* Son usados para evaluar una porción de códido reiteradamente. Una sola ejecución de un bloque de código es llamada `iteración` y las estructuras iterativas van a través de múltiples rondas de iteraciones. En Python, las estructuras iterativas son `while` y `for`.\n",
        "* `while`: Es usando cuando queremos ejecutar una instrucción en particular mientras una condición es `True`.\n",
        "* `for`: Es usado para ejecutar un bloque de código una cantidad predefinida de veces. Puede ser usadado con cualquier tipo de objeto iterable (como `listas` o `tuplas`). También es usado comúnmente con la función `range`.\n"
      ]
    },
    {
      "cell_type": "code",
      "execution_count": null,
      "metadata": {
        "id": "037NkhI2-nQT",
        "colab": {
          "base_uri": "https://localhost:8080/"
        },
        "outputId": "8c800d8d-0d85-48c9-e51f-ce281c6c85fd"
      },
      "outputs": [
        {
          "output_type": "stream",
          "name": "stdout",
          "text": [
            "['Esteban', 'Sebastián', 'Ana', 'María', 'Victoria', 'Francisco', 'Carlos']\n"
          ]
        }
      ],
      "source": [
        "# Ejemplo for: sumar números impares ubicados entre 1 y 500\n",
        "print(nombres)"
      ]
    },
    {
      "cell_type": "code",
      "source": [
        "for nombre in nombres:\n",
        "  print(\"Hola\", nombre)"
      ],
      "metadata": {
        "colab": {
          "base_uri": "https://localhost:8080/"
        },
        "id": "faRlc_JsSuQp",
        "outputId": "b667cb21-5089-41e6-8061-5100ced6bfdf"
      },
      "execution_count": null,
      "outputs": [
        {
          "output_type": "stream",
          "name": "stdout",
          "text": [
            "Hola Esteban\n",
            "Hola Sebastián\n",
            "Hola Ana\n",
            "Hola María\n",
            "Hola Victoria\n",
            "Hola Francisco\n",
            "Hola Carlos\n"
          ]
        }
      ]
    },
    {
      "cell_type": "code",
      "source": [
        "numeros = list(range(1, 501))\n",
        "print(numeros)"
      ],
      "metadata": {
        "colab": {
          "base_uri": "https://localhost:8080/"
        },
        "id": "JceQyKPnTG2g",
        "outputId": "c81e568c-96f6-4870-fe37-3a0cb6d0faec"
      },
      "execution_count": null,
      "outputs": [
        {
          "output_type": "stream",
          "name": "stdout",
          "text": [
            "[1, 2, 3, 4, 5, 6, 7, 8, 9, 10, 11, 12, 13, 14, 15, 16, 17, 18, 19, 20, 21, 22, 23, 24, 25, 26, 27, 28, 29, 30, 31, 32, 33, 34, 35, 36, 37, 38, 39, 40, 41, 42, 43, 44, 45, 46, 47, 48, 49, 50, 51, 52, 53, 54, 55, 56, 57, 58, 59, 60, 61, 62, 63, 64, 65, 66, 67, 68, 69, 70, 71, 72, 73, 74, 75, 76, 77, 78, 79, 80, 81, 82, 83, 84, 85, 86, 87, 88, 89, 90, 91, 92, 93, 94, 95, 96, 97, 98, 99, 100, 101, 102, 103, 104, 105, 106, 107, 108, 109, 110, 111, 112, 113, 114, 115, 116, 117, 118, 119, 120, 121, 122, 123, 124, 125, 126, 127, 128, 129, 130, 131, 132, 133, 134, 135, 136, 137, 138, 139, 140, 141, 142, 143, 144, 145, 146, 147, 148, 149, 150, 151, 152, 153, 154, 155, 156, 157, 158, 159, 160, 161, 162, 163, 164, 165, 166, 167, 168, 169, 170, 171, 172, 173, 174, 175, 176, 177, 178, 179, 180, 181, 182, 183, 184, 185, 186, 187, 188, 189, 190, 191, 192, 193, 194, 195, 196, 197, 198, 199, 200, 201, 202, 203, 204, 205, 206, 207, 208, 209, 210, 211, 212, 213, 214, 215, 216, 217, 218, 219, 220, 221, 222, 223, 224, 225, 226, 227, 228, 229, 230, 231, 232, 233, 234, 235, 236, 237, 238, 239, 240, 241, 242, 243, 244, 245, 246, 247, 248, 249, 250, 251, 252, 253, 254, 255, 256, 257, 258, 259, 260, 261, 262, 263, 264, 265, 266, 267, 268, 269, 270, 271, 272, 273, 274, 275, 276, 277, 278, 279, 280, 281, 282, 283, 284, 285, 286, 287, 288, 289, 290, 291, 292, 293, 294, 295, 296, 297, 298, 299, 300, 301, 302, 303, 304, 305, 306, 307, 308, 309, 310, 311, 312, 313, 314, 315, 316, 317, 318, 319, 320, 321, 322, 323, 324, 325, 326, 327, 328, 329, 330, 331, 332, 333, 334, 335, 336, 337, 338, 339, 340, 341, 342, 343, 344, 345, 346, 347, 348, 349, 350, 351, 352, 353, 354, 355, 356, 357, 358, 359, 360, 361, 362, 363, 364, 365, 366, 367, 368, 369, 370, 371, 372, 373, 374, 375, 376, 377, 378, 379, 380, 381, 382, 383, 384, 385, 386, 387, 388, 389, 390, 391, 392, 393, 394, 395, 396, 397, 398, 399, 400, 401, 402, 403, 404, 405, 406, 407, 408, 409, 410, 411, 412, 413, 414, 415, 416, 417, 418, 419, 420, 421, 422, 423, 424, 425, 426, 427, 428, 429, 430, 431, 432, 433, 434, 435, 436, 437, 438, 439, 440, 441, 442, 443, 444, 445, 446, 447, 448, 449, 450, 451, 452, 453, 454, 455, 456, 457, 458, 459, 460, 461, 462, 463, 464, 465, 466, 467, 468, 469, 470, 471, 472, 473, 474, 475, 476, 477, 478, 479, 480, 481, 482, 483, 484, 485, 486, 487, 488, 489, 490, 491, 492, 493, 494, 495, 496, 497, 498, 499, 500]\n"
          ]
        }
      ]
    },
    {
      "cell_type": "code",
      "source": [
        "print(31 % 2)"
      ],
      "metadata": {
        "colab": {
          "base_uri": "https://localhost:8080/"
        },
        "id": "tiyc8jCzThSn",
        "outputId": "b4125d2d-9441-47e9-f3e6-ce8da638acc6"
      },
      "execution_count": null,
      "outputs": [
        {
          "output_type": "stream",
          "name": "stdout",
          "text": [
            "1\n"
          ]
        }
      ]
    },
    {
      "cell_type": "code",
      "source": [
        "acumulador = 0\n",
        "\n",
        "for num in numeros: # Recorro cada uno de los números\n",
        "  if num % 2 == 1: # Probar que número sea impar\n",
        "    acumulador += num # Sumo el número al acumulador si se cumple condición\n",
        "\n",
        "print(acumulador)"
      ],
      "metadata": {
        "colab": {
          "base_uri": "https://localhost:8080/"
        },
        "id": "MUjwUtjMTTaw",
        "outputId": "b14b48aa-f450-4775-ecc2-2b88a899700f"
      },
      "execution_count": null,
      "outputs": [
        {
          "output_type": "stream",
          "name": "stdout",
          "text": [
            "62500\n"
          ]
        }
      ]
    },
    {
      "cell_type": "markdown",
      "metadata": {
        "id": "TxwABKc6-nQU"
      },
      "source": [
        "### Listas por comprensión"
      ]
    },
    {
      "cell_type": "markdown",
      "metadata": {
        "id": "osLd0xYI-nQU"
      },
      "source": [
        "Es una forma de crear listas a través de objetos iterables mucho más elegante y contraida respecto a la sentencia `for`. Además, se pueden añadir estructuras `if-else`."
      ]
    },
    {
      "cell_type": "code",
      "execution_count": null,
      "metadata": {
        "id": "mrqZOnMy-nQU",
        "colab": {
          "base_uri": "https://localhost:8080/"
        },
        "outputId": "644d5b62-807c-4c27-fe41-ef3980900ab8"
      },
      "outputs": [
        {
          "output_type": "stream",
          "name": "stdout",
          "text": [
            "[1, 3, 5, 7, 9, 11, 13, 15, 17, 19, 21, 23, 25, 27, 29, 31, 33, 35, 37, 39, 41, 43, 45, 47, 49, 51, 53, 55, 57, 59, 61, 63, 65, 67, 69, 71, 73, 75, 77, 79, 81, 83, 85, 87, 89, 91, 93, 95, 97, 99, 101, 103, 105, 107, 109, 111, 113, 115, 117, 119, 121, 123, 125, 127, 129, 131, 133, 135, 137, 139, 141, 143, 145, 147, 149, 151, 153, 155, 157, 159, 161, 163, 165, 167, 169, 171, 173, 175, 177, 179, 181, 183, 185, 187, 189, 191, 193, 195, 197, 199, 201, 203, 205, 207, 209, 211, 213, 215, 217, 219, 221, 223, 225, 227, 229, 231, 233, 235, 237, 239, 241, 243, 245, 247, 249, 251, 253, 255, 257, 259, 261, 263, 265, 267, 269, 271, 273, 275, 277, 279, 281, 283, 285, 287, 289, 291, 293, 295, 297, 299, 301, 303, 305, 307, 309, 311, 313, 315, 317, 319, 321, 323, 325, 327, 329, 331, 333, 335, 337, 339, 341, 343, 345, 347, 349, 351, 353, 355, 357, 359, 361, 363, 365, 367, 369, 371, 373, 375, 377, 379, 381, 383, 385, 387, 389, 391, 393, 395, 397, 399, 401, 403, 405, 407, 409, 411, 413, 415, 417, 419, 421, 423, 425, 427, 429, 431, 433, 435, 437, 439, 441, 443, 445, 447, 449, 451, 453, 455, 457, 459, 461, 463, 465, 467, 469, 471, 473, 475, 477, 479, 481, 483, 485, 487, 489, 491, 493, 495, 497, 499]\n",
            "62500\n"
          ]
        }
      ],
      "source": [
        "# Ejemplo de lista por comprensión: sumar números impares ubicados entre 1 y 500\n",
        "numeros_impares = [num for num in numeros if num % 2 == 1]\n",
        "print(numeros_impares)\n",
        "print(sum(numeros_impares))"
      ]
    },
    {
      "cell_type": "markdown",
      "metadata": {
        "id": "S4k43RaH-nQU"
      },
      "source": [
        "## Funciones y métodos\n",
        "\n",
        "Una función es un bloque de código con un nombre asociado, que recibe cero o más argumentos como entrada, sigue una secuencia de sentencias, la cuales ejecuta una operación deseada y devuelve un valor y/o realiza una tarea, este bloque puede ser llamados cuando se necesite."
      ]
    },
    {
      "cell_type": "markdown",
      "metadata": {
        "id": "ZK_mdw3E-nQU"
      },
      "source": [
        "### Funciones `built-in` (ya están incorporadas)\n",
        "Algunas son:\n",
        "* `abs(v)`      : entrega valor absoluto de un valor.\n",
        "* `all(x)`      : retorna `True` si todos los valores de un iterable son `True`.\n",
        "* `any(x)`      : retorna `True` si algún valor de un iterable es `True`.\n",
        "* `bool(v)`     : retorna True al menos que el valor ingresado sea vacío, `False`, `None` o 0.\n",
        "* `float(v)`    : transforma valor a número de punto flotante (a decimal).\n",
        "* `int(v)`      : transforma valor a número entero.\n",
        "* `list(x)`     : crea un objeto tipo lista.\n",
        "* `pow(b,e)`    : calcula $b^e$ (alternativa a `b**e`).\n",
        "* `print(o)`    : convierte a `string` y muestra en pantalla un objeto.\n",
        "* `range(i,f,s)`: crea una secuencia de números enteros desde `i` hasta `f-1` con salto `s`.\n",
        "* `round(v, n)` : redondea un valor a `n` decimales.\n",
        "* `str(o)`      : convierte un objecto a `string`.\n",
        "* `type(o)`        : retorna tipo de un objeto."
      ]
    },
    {
      "cell_type": "code",
      "execution_count": null,
      "metadata": {
        "id": "XGTMXkNy-nQU"
      },
      "outputs": [],
      "source": [
        "# Ejemplos de funciones \n"
      ]
    },
    {
      "cell_type": "markdown",
      "metadata": {
        "id": "PrntifgO-nQV"
      },
      "source": [
        "### Definidas por el usuario\n",
        "\n",
        "* `def`: Es una definición de función usada para crear funciones personalizadas. Esta no ejecuta el cuerpo de la función, solo lo hace cuando esta es llamada, usualmente se termina con la sentencia `return`.\n",
        "* `lambda`: Es una forma contraida para realizar funciones personalizas. A diferencia de `def`, esta no posee un nombre y por lo tanto no puede ser referenciada más tarde."
      ]
    },
    {
      "cell_type": "markdown",
      "metadata": {
        "id": "AMfbbplz-nQV"
      },
      "source": [
        "Definir \n",
        "\n",
        "$$f(x) = \\left\\{\n",
        "\\begin{array}{ll}\n",
        "2x + 1  & x \\leq 0  \\\\ x^2   & x > 0\n",
        "\\end{array} \\right.$$"
      ]
    },
    {
      "cell_type": "code",
      "execution_count": null,
      "metadata": {
        "id": "CLTXqYn--nQV"
      },
      "outputs": [],
      "source": [
        "# Ejemplo def\n",
        "def f(x):\n",
        "  if x <= 0:\n",
        "    return 2*x + 1\n",
        "  else:\n",
        "    return x ** 2"
      ]
    },
    {
      "cell_type": "code",
      "source": [
        "print(f(5))"
      ],
      "metadata": {
        "colab": {
          "base_uri": "https://localhost:8080/"
        },
        "id": "sHNpPbIcWgpq",
        "outputId": "d443f0e7-a1da-4102-9017-21a034d1c967"
      },
      "execution_count": null,
      "outputs": [
        {
          "output_type": "stream",
          "name": "stdout",
          "text": [
            "25\n"
          ]
        }
      ]
    },
    {
      "cell_type": "code",
      "source": [
        "print(f(-5))"
      ],
      "metadata": {
        "colab": {
          "base_uri": "https://localhost:8080/"
        },
        "id": "erT8F_loWn9a",
        "outputId": "0e2b53b3-59b6-4b33-a1c4-20baafcb434d"
      },
      "execution_count": null,
      "outputs": [
        {
          "output_type": "stream",
          "name": "stdout",
          "text": [
            "-9\n"
          ]
        }
      ]
    },
    {
      "cell_type": "code",
      "execution_count": null,
      "metadata": {
        "id": "Rc5TVegm-nQV",
        "colab": {
          "base_uri": "https://localhost:8080/"
        },
        "outputId": "75ccf77c-8f37-4fde-c754-36b3e8e34b1b"
      },
      "outputs": [
        {
          "output_type": "stream",
          "name": "stdout",
          "text": [
            "25\n",
            "-9\n"
          ]
        }
      ],
      "source": [
        "# Ejemplo lambda\n",
        "f_anonima = lambda x: 2*x + 1 if x <= 0 else x ** 2\n",
        "print(f_anonima(5))\n",
        "print(f_anonima(-5))"
      ]
    },
    {
      "cell_type": "markdown",
      "metadata": {
        "id": "EEbb6A4n-nQV"
      },
      "source": [
        "### Diferencia con métodos"
      ]
    },
    {
      "cell_type": "markdown",
      "metadata": {
        "id": "Ouo_m4-y-nQV"
      },
      "source": [
        "La principal diferencia es que un `método` es parte de una clase, o sea que es parte de la funcionalidad que tiene un objeto. En cambio, las `funciones` están definidas por si mismas."
      ]
    },
    {
      "cell_type": "code",
      "execution_count": null,
      "metadata": {
        "id": "3iHrIrB5-nQV"
      },
      "outputs": [],
      "source": [
        "# Ejemplo de método\n"
      ]
    },
    {
      "cell_type": "code",
      "execution_count": null,
      "metadata": {
        "id": "v5Dhx02_-nQW"
      },
      "outputs": [],
      "source": [
        "# Ejemplo de función\n"
      ]
    },
    {
      "cell_type": "markdown",
      "metadata": {
        "id": "kt-s3dgB-nQW"
      },
      "source": [
        "### Manejo de librerías\n",
        "\n",
        "<img src=\"https://thinktecno.com/wp-content/uploads/2020/11/1605037028_Como-instalar-un-modulo-de-Python-con-PIP.png\" width=\"500px\">\n",
        "\n",
        "* Al momento de programar, a veces nos vemos en la necesidad de añadir nuevas funcionalidades al código, esto es gracias a las `librerías`, que nos aportan un grupo de `módulos` (o funciones).\n",
        "* Cada `librería` cuenta con una estructura definida para cumplir cierta finalidad.\n",
        "* Algunas de las `librerías` más importantes en Python para el análisis de datos son `NumPy`, `Pandas` y `Matplotlib`. \n",
        "\n",
        "#### Importación de librerías y módulos\n",
        "\n",
        "* Existe más de una forma para importar `librerías`, además podemos asignar un `alias` a la librería o función específica que importemos.\n",
        "* **Importar una librería**: `import libreria` o `import libreria as alias`. Podemos acceder a los módulos de la librería importada de la siguiente forma: `libreria.modulo` o `alias.modulo` respectivamente.\n",
        "* **Importar un módulo**: `from libreria import modulo` o `from libreria import modulo as alias`.  \n",
        "\n"
      ]
    },
    {
      "cell_type": "code",
      "execution_count": null,
      "metadata": {
        "id": "Nl1nCevz-nQW",
        "colab": {
          "base_uri": "https://localhost:8080/"
        },
        "outputId": "85a74f8c-41e0-4faa-b4b1-b6eb4413b700"
      },
      "outputs": [
        {
          "output_type": "stream",
          "name": "stdout",
          "text": [
            "[ 300  500  600 1000 1500 2000 5000]\n"
          ]
        }
      ],
      "source": [
        "# Ejemplo de importación de librerías\n",
        "import numpy as np\n",
        "\n",
        "array_precios = np.array(precios)\n",
        "print(array_precios)"
      ]
    },
    {
      "cell_type": "markdown",
      "metadata": {
        "id": "ancfsWWm-nQW"
      },
      "source": [
        "#### Instalación de librerías\n",
        "* Desde un Jupyter Notebook es muy facil instalar `librerías` desde gestores como `pip` o `Anaconda`. \n",
        "* Para instalar una librería debemos escribir `!pip install libreria` o `!conda install librería` si estamos usando este gestor.\n",
        "* En Google Colab ya vienen pre-instaladas algunas librerías básicas para el Análisis de Datos, por lo que directamente se pueden utilizar.\n",
        "* Una vez instaladas podemos importarlas normalmente."
      ]
    },
    {
      "cell_type": "code",
      "execution_count": null,
      "metadata": {
        "id": "L2aWZXQI-nQW",
        "colab": {
          "base_uri": "https://localhost:8080/"
        },
        "outputId": "50929684-a130-40cd-a3be-1c1679f3fffc"
      },
      "outputs": [
        {
          "output_type": "stream",
          "name": "stdout",
          "text": [
            "Looking in indexes: https://pypi.org/simple, https://us-python.pkg.dev/colab-wheels/public/simple/\n",
            "Collecting sweetviz\n",
            "  Downloading sweetviz-2.1.4-py3-none-any.whl (15.1 MB)\n",
            "\u001b[K     |████████████████████████████████| 15.1 MB 5.1 MB/s \n",
            "\u001b[?25hRequirement already satisfied: jinja2>=2.11.1 in /usr/local/lib/python3.7/dist-packages (from sweetviz) (2.11.3)\n",
            "Requirement already satisfied: pandas!=1.0.0,!=1.0.1,!=1.0.2,>=0.25.3 in /usr/local/lib/python3.7/dist-packages (from sweetviz) (1.3.5)\n",
            "Requirement already satisfied: scipy>=1.3.2 in /usr/local/lib/python3.7/dist-packages (from sweetviz) (1.7.3)\n",
            "Requirement already satisfied: tqdm>=4.43.0 in /usr/local/lib/python3.7/dist-packages (from sweetviz) (4.64.0)\n",
            "Requirement already satisfied: matplotlib>=3.1.3 in /usr/local/lib/python3.7/dist-packages (from sweetviz) (3.2.2)\n",
            "Requirement already satisfied: numpy>=1.16.0 in /usr/local/lib/python3.7/dist-packages (from sweetviz) (1.21.6)\n",
            "Requirement already satisfied: importlib-resources>=1.2.0 in /usr/local/lib/python3.7/dist-packages (from sweetviz) (5.9.0)\n",
            "Requirement already satisfied: zipp>=3.1.0 in /usr/local/lib/python3.7/dist-packages (from importlib-resources>=1.2.0->sweetviz) (3.8.1)\n",
            "Requirement already satisfied: MarkupSafe>=0.23 in /usr/local/lib/python3.7/dist-packages (from jinja2>=2.11.1->sweetviz) (2.0.1)\n",
            "Requirement already satisfied: cycler>=0.10 in /usr/local/lib/python3.7/dist-packages (from matplotlib>=3.1.3->sweetviz) (0.11.0)\n",
            "Requirement already satisfied: pyparsing!=2.0.4,!=2.1.2,!=2.1.6,>=2.0.1 in /usr/local/lib/python3.7/dist-packages (from matplotlib>=3.1.3->sweetviz) (3.0.9)\n",
            "Requirement already satisfied: kiwisolver>=1.0.1 in /usr/local/lib/python3.7/dist-packages (from matplotlib>=3.1.3->sweetviz) (1.4.4)\n",
            "Requirement already satisfied: python-dateutil>=2.1 in /usr/local/lib/python3.7/dist-packages (from matplotlib>=3.1.3->sweetviz) (2.8.2)\n",
            "Requirement already satisfied: typing-extensions in /usr/local/lib/python3.7/dist-packages (from kiwisolver>=1.0.1->matplotlib>=3.1.3->sweetviz) (4.1.1)\n",
            "Requirement already satisfied: pytz>=2017.3 in /usr/local/lib/python3.7/dist-packages (from pandas!=1.0.0,!=1.0.1,!=1.0.2,>=0.25.3->sweetviz) (2022.1)\n",
            "Requirement already satisfied: six>=1.5 in /usr/local/lib/python3.7/dist-packages (from python-dateutil>=2.1->matplotlib>=3.1.3->sweetviz) (1.15.0)\n",
            "Installing collected packages: sweetviz\n",
            "Successfully installed sweetviz-2.1.4\n"
          ]
        }
      ],
      "source": [
        "# Ejemplo de instalación de librerías: instalar librería \"sweetviz\"\n",
        "!pip install sweetviz"
      ]
    },
    {
      "cell_type": "code",
      "source": [
        "import sweetviz"
      ],
      "metadata": {
        "id": "ATvMQefPYuZP"
      },
      "execution_count": null,
      "outputs": []
    },
    {
      "cell_type": "markdown",
      "metadata": {
        "id": "qJtrQtND-nQY"
      },
      "source": [
        "## Pandas\n",
        "\n",
        "<img src=\"https://hermes.digitalinnovation.one/articles/cover/c068580b-7f2d-4314-a559-697487b644df.jpg\" width=\"500px\">"
      ]
    },
    {
      "cell_type": "markdown",
      "metadata": {
        "id": "-nvX3KD2-nQY"
      },
      "source": [
        "* Fue desarrollada en 2008 con el propósito de manejar series de tiempo. Su nombre se puede descomponer como _Panel Data_.\n",
        "* Por convención se importa con el alias `pd`.\n",
        "* Tiene soporte para cargar archivos y guardar archivos fuera de Python.\n",
        "* Tiene una performance bastante aceptable al estar desarrollada bajo _Cython_ (Uso de Python bajo el lenguaje C).\n",
        "* Rápida conexión con otras librerías como `NumPy`, `Matplotlib`, `Scipy` y `Scikit-learn`.\n",
        "* Soporte para transformación de datos.\n",
        "* Manejo de datos faltantes.\n",
        "* Etc."
      ]
    },
    {
      "cell_type": "markdown",
      "metadata": {
        "id": "bPTFrek6-nQZ"
      },
      "source": [
        "### Estructura DataFrame y Series\n",
        "\n",
        "* `Series`: Estructura de datos unidimensional con un conjunto de datos asociados a un índice. Se puede crear directamente desde un `array` o una `lista`.\n",
        "* `DataFrame`: Es una extensión de las `Series`. Mientras que un objecto `Series` contiene dos componentes: un set de valores e índices asociados, el `DataFrame` contiene tres componentes: Eje 0 (filas), Eje 1 (columnas) e índices asociados a cada fila. Su estrcutura básica es el `array` de NumPy. Se puede crear directamente desde un `diccionario`."
      ]
    },
    {
      "cell_type": "code",
      "execution_count": null,
      "metadata": {
        "id": "sXMm1UQ2-nQZ",
        "colab": {
          "base_uri": "https://localhost:8080/"
        },
        "outputId": "e457e04e-9313-453b-ac66-b4c4040daf5f"
      },
      "outputs": [
        {
          "output_type": "stream",
          "name": "stdout",
          "text": [
            "0    1000\n",
            "1    2000\n",
            "2    1500\n",
            "3     300\n",
            "4     600\n",
            "5     500\n",
            "6    5000\n",
            "dtype: int64\n"
          ]
        }
      ],
      "source": [
        "import pandas as pd\n",
        "precios = [1000, 2000, 1500, 300, 600, 500, 5000]\n",
        "# Ejemplo de crear Series\n",
        "serie_precios = pd.Series(precios)\n",
        "print(serie_precios)"
      ]
    },
    {
      "cell_type": "code",
      "execution_count": null,
      "metadata": {
        "id": "IlcrQ0HK-nQZ",
        "colab": {
          "base_uri": "https://localhost:8080/",
          "height": 206
        },
        "outputId": "d3459449-03f4-48fe-da0d-1261d54f9ab2"
      },
      "outputs": [
        {
          "output_type": "display_data",
          "data": {
            "text/plain": [
              "        País  Mundiales  Copas América\n",
              "0      Chile          0              2\n",
              "1  Argentina          2             15\n",
              "2    Bolivia          0              1\n",
              "3       Perú          0              2\n",
              "4     Brasil          5              9"
            ],
            "text/html": [
              "\n",
              "  <div id=\"df-0a49d180-7836-40b9-b3d3-b98ee86800d2\">\n",
              "    <div class=\"colab-df-container\">\n",
              "      <div>\n",
              "<style scoped>\n",
              "    .dataframe tbody tr th:only-of-type {\n",
              "        vertical-align: middle;\n",
              "    }\n",
              "\n",
              "    .dataframe tbody tr th {\n",
              "        vertical-align: top;\n",
              "    }\n",
              "\n",
              "    .dataframe thead th {\n",
              "        text-align: right;\n",
              "    }\n",
              "</style>\n",
              "<table border=\"1\" class=\"dataframe\">\n",
              "  <thead>\n",
              "    <tr style=\"text-align: right;\">\n",
              "      <th></th>\n",
              "      <th>País</th>\n",
              "      <th>Mundiales</th>\n",
              "      <th>Copas América</th>\n",
              "    </tr>\n",
              "  </thead>\n",
              "  <tbody>\n",
              "    <tr>\n",
              "      <th>0</th>\n",
              "      <td>Chile</td>\n",
              "      <td>0</td>\n",
              "      <td>2</td>\n",
              "    </tr>\n",
              "    <tr>\n",
              "      <th>1</th>\n",
              "      <td>Argentina</td>\n",
              "      <td>2</td>\n",
              "      <td>15</td>\n",
              "    </tr>\n",
              "    <tr>\n",
              "      <th>2</th>\n",
              "      <td>Bolivia</td>\n",
              "      <td>0</td>\n",
              "      <td>1</td>\n",
              "    </tr>\n",
              "    <tr>\n",
              "      <th>3</th>\n",
              "      <td>Perú</td>\n",
              "      <td>0</td>\n",
              "      <td>2</td>\n",
              "    </tr>\n",
              "    <tr>\n",
              "      <th>4</th>\n",
              "      <td>Brasil</td>\n",
              "      <td>5</td>\n",
              "      <td>9</td>\n",
              "    </tr>\n",
              "  </tbody>\n",
              "</table>\n",
              "</div>\n",
              "      <button class=\"colab-df-convert\" onclick=\"convertToInteractive('df-0a49d180-7836-40b9-b3d3-b98ee86800d2')\"\n",
              "              title=\"Convert this dataframe to an interactive table.\"\n",
              "              style=\"display:none;\">\n",
              "        \n",
              "  <svg xmlns=\"http://www.w3.org/2000/svg\" height=\"24px\"viewBox=\"0 0 24 24\"\n",
              "       width=\"24px\">\n",
              "    <path d=\"M0 0h24v24H0V0z\" fill=\"none\"/>\n",
              "    <path d=\"M18.56 5.44l.94 2.06.94-2.06 2.06-.94-2.06-.94-.94-2.06-.94 2.06-2.06.94zm-11 1L8.5 8.5l.94-2.06 2.06-.94-2.06-.94L8.5 2.5l-.94 2.06-2.06.94zm10 10l.94 2.06.94-2.06 2.06-.94-2.06-.94-.94-2.06-.94 2.06-2.06.94z\"/><path d=\"M17.41 7.96l-1.37-1.37c-.4-.4-.92-.59-1.43-.59-.52 0-1.04.2-1.43.59L10.3 9.45l-7.72 7.72c-.78.78-.78 2.05 0 2.83L4 21.41c.39.39.9.59 1.41.59.51 0 1.02-.2 1.41-.59l7.78-7.78 2.81-2.81c.8-.78.8-2.07 0-2.86zM5.41 20L4 18.59l7.72-7.72 1.47 1.35L5.41 20z\"/>\n",
              "  </svg>\n",
              "      </button>\n",
              "      \n",
              "  <style>\n",
              "    .colab-df-container {\n",
              "      display:flex;\n",
              "      flex-wrap:wrap;\n",
              "      gap: 12px;\n",
              "    }\n",
              "\n",
              "    .colab-df-convert {\n",
              "      background-color: #E8F0FE;\n",
              "      border: none;\n",
              "      border-radius: 50%;\n",
              "      cursor: pointer;\n",
              "      display: none;\n",
              "      fill: #1967D2;\n",
              "      height: 32px;\n",
              "      padding: 0 0 0 0;\n",
              "      width: 32px;\n",
              "    }\n",
              "\n",
              "    .colab-df-convert:hover {\n",
              "      background-color: #E2EBFA;\n",
              "      box-shadow: 0px 1px 2px rgba(60, 64, 67, 0.3), 0px 1px 3px 1px rgba(60, 64, 67, 0.15);\n",
              "      fill: #174EA6;\n",
              "    }\n",
              "\n",
              "    [theme=dark] .colab-df-convert {\n",
              "      background-color: #3B4455;\n",
              "      fill: #D2E3FC;\n",
              "    }\n",
              "\n",
              "    [theme=dark] .colab-df-convert:hover {\n",
              "      background-color: #434B5C;\n",
              "      box-shadow: 0px 1px 3px 1px rgba(0, 0, 0, 0.15);\n",
              "      filter: drop-shadow(0px 1px 2px rgba(0, 0, 0, 0.3));\n",
              "      fill: #FFFFFF;\n",
              "    }\n",
              "  </style>\n",
              "\n",
              "      <script>\n",
              "        const buttonEl =\n",
              "          document.querySelector('#df-0a49d180-7836-40b9-b3d3-b98ee86800d2 button.colab-df-convert');\n",
              "        buttonEl.style.display =\n",
              "          google.colab.kernel.accessAllowed ? 'block' : 'none';\n",
              "\n",
              "        async function convertToInteractive(key) {\n",
              "          const element = document.querySelector('#df-0a49d180-7836-40b9-b3d3-b98ee86800d2');\n",
              "          const dataTable =\n",
              "            await google.colab.kernel.invokeFunction('convertToInteractive',\n",
              "                                                     [key], {});\n",
              "          if (!dataTable) return;\n",
              "\n",
              "          const docLinkHtml = 'Like what you see? Visit the ' +\n",
              "            '<a target=\"_blank\" href=https://colab.research.google.com/notebooks/data_table.ipynb>data table notebook</a>'\n",
              "            + ' to learn more about interactive tables.';\n",
              "          element.innerHTML = '';\n",
              "          dataTable['output_type'] = 'display_data';\n",
              "          await google.colab.output.renderOutput(dataTable, element);\n",
              "          const docLink = document.createElement('div');\n",
              "          docLink.innerHTML = docLinkHtml;\n",
              "          element.appendChild(docLink);\n",
              "        }\n",
              "      </script>\n",
              "    </div>\n",
              "  </div>\n",
              "  "
            ]
          },
          "metadata": {}
        }
      ],
      "source": [
        "diccionario = {\n",
        "    \"País\"     : [\"Chile\", \"Argentina\", \"Bolivia\", \"Perú\", \"Brasil\"],\n",
        "    \"Mundiales\": [0, 2, 0, 0, 5],\n",
        "    \"Copas América\" : [2, 15, 1, 2, 9]\n",
        "}\n",
        "# Ejemplo de crear DataFrame\n",
        "\n",
        "data_paises = pd.DataFrame(diccionario)\n",
        "display(data_paises) # display: print para tablas"
      ]
    },
    {
      "cell_type": "markdown",
      "metadata": {
        "id": "KajtNQYj-nQZ"
      },
      "source": [
        "### Carga de datos\n",
        "\n",
        "* `Pandas` puede leer datos desde una gran variedad de formatos usando sus funciones de carga.\n",
        "* Algunas de estas funciones son `pd.read_csv`, `pd.read_excel`, `read_html` y `read_stata`.\n",
        "* Podemos indicar varios argumentos como `columns`, `date_parser` o `index_col`.\n",
        "* Además, accedemos a las cinco primeras entradas de las bases de datos cargadas con el método `head()`. \n",
        "* Obtenemos una descripción cuantitativa con el método `describe()`.\n",
        "* Visualizamos tipos de variables y datos faltantes con el método `info()`.\n",
        "* Obtenemos columnas de la base de datos con el método `columns`.\n",
        "\n",
        "Caguemos la base de datos `BTC-USD.csv`, que nos indica el valor del Bitcoin en dólares desde 2014 a la fecha. La puede encontrar disponible en el siguiente [link](https://github.com/estebanrucan/taller-python/raw/master/data/BTC-USD.csv)."
      ]
    },
    {
      "cell_type": "code",
      "execution_count": null,
      "metadata": {
        "id": "6NGW4eHU-nQZ",
        "colab": {
          "base_uri": "https://localhost:8080/",
          "height": 424
        },
        "outputId": "91b0da58-8991-43ba-a0c7-6855c4546d3e"
      },
      "outputs": [
        {
          "output_type": "display_data",
          "data": {
            "text/plain": [
              "           Date          Open          High           Low         Close  \\\n",
              "0    2014-09-17    465.864014    468.174011    452.421997    457.334015   \n",
              "1    2014-09-18    456.859985    456.859985    413.104004    424.440002   \n",
              "2    2014-09-19    424.102997    427.834991    384.532013    394.795990   \n",
              "3    2014-09-20    394.673004    423.295990    389.882996    408.903992   \n",
              "4    2014-09-21    408.084991    412.425995    393.181000    398.821014   \n",
              "...         ...           ...           ...           ...           ...   \n",
              "2865 2022-07-22  23163.751953  23671.927734  22603.416016  22714.978516   \n",
              "2866 2022-07-23  22706.984375  22977.210938  22002.910156  22465.478516   \n",
              "2867 2022-07-24  22465.509766  22974.001953  22306.839844  22609.164063   \n",
              "2868 2022-07-25  22607.156250  22649.121094  21361.642578  21361.701172   \n",
              "2869 2022-07-26           NaN           NaN           NaN           NaN   \n",
              "\n",
              "         Adj Close        Volume  \n",
              "0       457.334015  2.105680e+07  \n",
              "1       424.440002  3.448320e+07  \n",
              "2       394.795990  3.791970e+07  \n",
              "3       408.903992  3.686360e+07  \n",
              "4       398.821014  2.658010e+07  \n",
              "...            ...           ...  \n",
              "2865  22714.978516  3.142156e+10  \n",
              "2866  22465.478516  2.402180e+10  \n",
              "2867  22609.164063  2.356550e+10  \n",
              "2868  21361.701172  3.557456e+10  \n",
              "2869           NaN           NaN  \n",
              "\n",
              "[2870 rows x 7 columns]"
            ],
            "text/html": [
              "\n",
              "  <div id=\"df-377e13f7-21ae-4397-8cac-e58a3a37f413\">\n",
              "    <div class=\"colab-df-container\">\n",
              "      <div>\n",
              "<style scoped>\n",
              "    .dataframe tbody tr th:only-of-type {\n",
              "        vertical-align: middle;\n",
              "    }\n",
              "\n",
              "    .dataframe tbody tr th {\n",
              "        vertical-align: top;\n",
              "    }\n",
              "\n",
              "    .dataframe thead th {\n",
              "        text-align: right;\n",
              "    }\n",
              "</style>\n",
              "<table border=\"1\" class=\"dataframe\">\n",
              "  <thead>\n",
              "    <tr style=\"text-align: right;\">\n",
              "      <th></th>\n",
              "      <th>Date</th>\n",
              "      <th>Open</th>\n",
              "      <th>High</th>\n",
              "      <th>Low</th>\n",
              "      <th>Close</th>\n",
              "      <th>Adj Close</th>\n",
              "      <th>Volume</th>\n",
              "    </tr>\n",
              "  </thead>\n",
              "  <tbody>\n",
              "    <tr>\n",
              "      <th>0</th>\n",
              "      <td>2014-09-17</td>\n",
              "      <td>465.864014</td>\n",
              "      <td>468.174011</td>\n",
              "      <td>452.421997</td>\n",
              "      <td>457.334015</td>\n",
              "      <td>457.334015</td>\n",
              "      <td>2.105680e+07</td>\n",
              "    </tr>\n",
              "    <tr>\n",
              "      <th>1</th>\n",
              "      <td>2014-09-18</td>\n",
              "      <td>456.859985</td>\n",
              "      <td>456.859985</td>\n",
              "      <td>413.104004</td>\n",
              "      <td>424.440002</td>\n",
              "      <td>424.440002</td>\n",
              "      <td>3.448320e+07</td>\n",
              "    </tr>\n",
              "    <tr>\n",
              "      <th>2</th>\n",
              "      <td>2014-09-19</td>\n",
              "      <td>424.102997</td>\n",
              "      <td>427.834991</td>\n",
              "      <td>384.532013</td>\n",
              "      <td>394.795990</td>\n",
              "      <td>394.795990</td>\n",
              "      <td>3.791970e+07</td>\n",
              "    </tr>\n",
              "    <tr>\n",
              "      <th>3</th>\n",
              "      <td>2014-09-20</td>\n",
              "      <td>394.673004</td>\n",
              "      <td>423.295990</td>\n",
              "      <td>389.882996</td>\n",
              "      <td>408.903992</td>\n",
              "      <td>408.903992</td>\n",
              "      <td>3.686360e+07</td>\n",
              "    </tr>\n",
              "    <tr>\n",
              "      <th>4</th>\n",
              "      <td>2014-09-21</td>\n",
              "      <td>408.084991</td>\n",
              "      <td>412.425995</td>\n",
              "      <td>393.181000</td>\n",
              "      <td>398.821014</td>\n",
              "      <td>398.821014</td>\n",
              "      <td>2.658010e+07</td>\n",
              "    </tr>\n",
              "    <tr>\n",
              "      <th>...</th>\n",
              "      <td>...</td>\n",
              "      <td>...</td>\n",
              "      <td>...</td>\n",
              "      <td>...</td>\n",
              "      <td>...</td>\n",
              "      <td>...</td>\n",
              "      <td>...</td>\n",
              "    </tr>\n",
              "    <tr>\n",
              "      <th>2865</th>\n",
              "      <td>2022-07-22</td>\n",
              "      <td>23163.751953</td>\n",
              "      <td>23671.927734</td>\n",
              "      <td>22603.416016</td>\n",
              "      <td>22714.978516</td>\n",
              "      <td>22714.978516</td>\n",
              "      <td>3.142156e+10</td>\n",
              "    </tr>\n",
              "    <tr>\n",
              "      <th>2866</th>\n",
              "      <td>2022-07-23</td>\n",
              "      <td>22706.984375</td>\n",
              "      <td>22977.210938</td>\n",
              "      <td>22002.910156</td>\n",
              "      <td>22465.478516</td>\n",
              "      <td>22465.478516</td>\n",
              "      <td>2.402180e+10</td>\n",
              "    </tr>\n",
              "    <tr>\n",
              "      <th>2867</th>\n",
              "      <td>2022-07-24</td>\n",
              "      <td>22465.509766</td>\n",
              "      <td>22974.001953</td>\n",
              "      <td>22306.839844</td>\n",
              "      <td>22609.164063</td>\n",
              "      <td>22609.164063</td>\n",
              "      <td>2.356550e+10</td>\n",
              "    </tr>\n",
              "    <tr>\n",
              "      <th>2868</th>\n",
              "      <td>2022-07-25</td>\n",
              "      <td>22607.156250</td>\n",
              "      <td>22649.121094</td>\n",
              "      <td>21361.642578</td>\n",
              "      <td>21361.701172</td>\n",
              "      <td>21361.701172</td>\n",
              "      <td>3.557456e+10</td>\n",
              "    </tr>\n",
              "    <tr>\n",
              "      <th>2869</th>\n",
              "      <td>2022-07-26</td>\n",
              "      <td>NaN</td>\n",
              "      <td>NaN</td>\n",
              "      <td>NaN</td>\n",
              "      <td>NaN</td>\n",
              "      <td>NaN</td>\n",
              "      <td>NaN</td>\n",
              "    </tr>\n",
              "  </tbody>\n",
              "</table>\n",
              "<p>2870 rows × 7 columns</p>\n",
              "</div>\n",
              "      <button class=\"colab-df-convert\" onclick=\"convertToInteractive('df-377e13f7-21ae-4397-8cac-e58a3a37f413')\"\n",
              "              title=\"Convert this dataframe to an interactive table.\"\n",
              "              style=\"display:none;\">\n",
              "        \n",
              "  <svg xmlns=\"http://www.w3.org/2000/svg\" height=\"24px\"viewBox=\"0 0 24 24\"\n",
              "       width=\"24px\">\n",
              "    <path d=\"M0 0h24v24H0V0z\" fill=\"none\"/>\n",
              "    <path d=\"M18.56 5.44l.94 2.06.94-2.06 2.06-.94-2.06-.94-.94-2.06-.94 2.06-2.06.94zm-11 1L8.5 8.5l.94-2.06 2.06-.94-2.06-.94L8.5 2.5l-.94 2.06-2.06.94zm10 10l.94 2.06.94-2.06 2.06-.94-2.06-.94-.94-2.06-.94 2.06-2.06.94z\"/><path d=\"M17.41 7.96l-1.37-1.37c-.4-.4-.92-.59-1.43-.59-.52 0-1.04.2-1.43.59L10.3 9.45l-7.72 7.72c-.78.78-.78 2.05 0 2.83L4 21.41c.39.39.9.59 1.41.59.51 0 1.02-.2 1.41-.59l7.78-7.78 2.81-2.81c.8-.78.8-2.07 0-2.86zM5.41 20L4 18.59l7.72-7.72 1.47 1.35L5.41 20z\"/>\n",
              "  </svg>\n",
              "      </button>\n",
              "      \n",
              "  <style>\n",
              "    .colab-df-container {\n",
              "      display:flex;\n",
              "      flex-wrap:wrap;\n",
              "      gap: 12px;\n",
              "    }\n",
              "\n",
              "    .colab-df-convert {\n",
              "      background-color: #E8F0FE;\n",
              "      border: none;\n",
              "      border-radius: 50%;\n",
              "      cursor: pointer;\n",
              "      display: none;\n",
              "      fill: #1967D2;\n",
              "      height: 32px;\n",
              "      padding: 0 0 0 0;\n",
              "      width: 32px;\n",
              "    }\n",
              "\n",
              "    .colab-df-convert:hover {\n",
              "      background-color: #E2EBFA;\n",
              "      box-shadow: 0px 1px 2px rgba(60, 64, 67, 0.3), 0px 1px 3px 1px rgba(60, 64, 67, 0.15);\n",
              "      fill: #174EA6;\n",
              "    }\n",
              "\n",
              "    [theme=dark] .colab-df-convert {\n",
              "      background-color: #3B4455;\n",
              "      fill: #D2E3FC;\n",
              "    }\n",
              "\n",
              "    [theme=dark] .colab-df-convert:hover {\n",
              "      background-color: #434B5C;\n",
              "      box-shadow: 0px 1px 3px 1px rgba(0, 0, 0, 0.15);\n",
              "      filter: drop-shadow(0px 1px 2px rgba(0, 0, 0, 0.3));\n",
              "      fill: #FFFFFF;\n",
              "    }\n",
              "  </style>\n",
              "\n",
              "      <script>\n",
              "        const buttonEl =\n",
              "          document.querySelector('#df-377e13f7-21ae-4397-8cac-e58a3a37f413 button.colab-df-convert');\n",
              "        buttonEl.style.display =\n",
              "          google.colab.kernel.accessAllowed ? 'block' : 'none';\n",
              "\n",
              "        async function convertToInteractive(key) {\n",
              "          const element = document.querySelector('#df-377e13f7-21ae-4397-8cac-e58a3a37f413');\n",
              "          const dataTable =\n",
              "            await google.colab.kernel.invokeFunction('convertToInteractive',\n",
              "                                                     [key], {});\n",
              "          if (!dataTable) return;\n",
              "\n",
              "          const docLinkHtml = 'Like what you see? Visit the ' +\n",
              "            '<a target=\"_blank\" href=https://colab.research.google.com/notebooks/data_table.ipynb>data table notebook</a>'\n",
              "            + ' to learn more about interactive tables.';\n",
              "          element.innerHTML = '';\n",
              "          dataTable['output_type'] = 'display_data';\n",
              "          await google.colab.output.renderOutput(dataTable, element);\n",
              "          const docLink = document.createElement('div');\n",
              "          docLink.innerHTML = docLinkHtml;\n",
              "          element.appendChild(docLink);\n",
              "        }\n",
              "      </script>\n",
              "    </div>\n",
              "  </div>\n",
              "  "
            ]
          },
          "metadata": {}
        }
      ],
      "source": [
        "# Ejemplo carga de bases de datos: Cargar BTC-USD.csv, mostrar cinco primeras entradas, descripción cuantitativa e información sobre datos faltantes.\n",
        "data_bitcoin = pd.read_csv(\"BTC-USD (1).csv\", parse_dates=[\"Date\"])\n",
        "display(data_bitcoin)\n"
      ]
    },
    {
      "cell_type": "code",
      "source": [
        "display(data_bitcoin.head(5))"
      ],
      "metadata": {
        "colab": {
          "base_uri": "https://localhost:8080/",
          "height": 206
        },
        "id": "c4U6hTbVbk74",
        "outputId": "87757091-7e14-40cc-d5e0-7363a9e9e516"
      },
      "execution_count": null,
      "outputs": [
        {
          "output_type": "display_data",
          "data": {
            "text/plain": [
              "        Date        Open        High         Low       Close   Adj Close  \\\n",
              "0 2014-09-17  465.864014  468.174011  452.421997  457.334015  457.334015   \n",
              "1 2014-09-18  456.859985  456.859985  413.104004  424.440002  424.440002   \n",
              "2 2014-09-19  424.102997  427.834991  384.532013  394.795990  394.795990   \n",
              "3 2014-09-20  394.673004  423.295990  389.882996  408.903992  408.903992   \n",
              "4 2014-09-21  408.084991  412.425995  393.181000  398.821014  398.821014   \n",
              "\n",
              "       Volume  \n",
              "0  21056800.0  \n",
              "1  34483200.0  \n",
              "2  37919700.0  \n",
              "3  36863600.0  \n",
              "4  26580100.0  "
            ],
            "text/html": [
              "\n",
              "  <div id=\"df-891b3237-0c0a-4c11-b925-5908b02dd98f\">\n",
              "    <div class=\"colab-df-container\">\n",
              "      <div>\n",
              "<style scoped>\n",
              "    .dataframe tbody tr th:only-of-type {\n",
              "        vertical-align: middle;\n",
              "    }\n",
              "\n",
              "    .dataframe tbody tr th {\n",
              "        vertical-align: top;\n",
              "    }\n",
              "\n",
              "    .dataframe thead th {\n",
              "        text-align: right;\n",
              "    }\n",
              "</style>\n",
              "<table border=\"1\" class=\"dataframe\">\n",
              "  <thead>\n",
              "    <tr style=\"text-align: right;\">\n",
              "      <th></th>\n",
              "      <th>Date</th>\n",
              "      <th>Open</th>\n",
              "      <th>High</th>\n",
              "      <th>Low</th>\n",
              "      <th>Close</th>\n",
              "      <th>Adj Close</th>\n",
              "      <th>Volume</th>\n",
              "    </tr>\n",
              "  </thead>\n",
              "  <tbody>\n",
              "    <tr>\n",
              "      <th>0</th>\n",
              "      <td>2014-09-17</td>\n",
              "      <td>465.864014</td>\n",
              "      <td>468.174011</td>\n",
              "      <td>452.421997</td>\n",
              "      <td>457.334015</td>\n",
              "      <td>457.334015</td>\n",
              "      <td>21056800.0</td>\n",
              "    </tr>\n",
              "    <tr>\n",
              "      <th>1</th>\n",
              "      <td>2014-09-18</td>\n",
              "      <td>456.859985</td>\n",
              "      <td>456.859985</td>\n",
              "      <td>413.104004</td>\n",
              "      <td>424.440002</td>\n",
              "      <td>424.440002</td>\n",
              "      <td>34483200.0</td>\n",
              "    </tr>\n",
              "    <tr>\n",
              "      <th>2</th>\n",
              "      <td>2014-09-19</td>\n",
              "      <td>424.102997</td>\n",
              "      <td>427.834991</td>\n",
              "      <td>384.532013</td>\n",
              "      <td>394.795990</td>\n",
              "      <td>394.795990</td>\n",
              "      <td>37919700.0</td>\n",
              "    </tr>\n",
              "    <tr>\n",
              "      <th>3</th>\n",
              "      <td>2014-09-20</td>\n",
              "      <td>394.673004</td>\n",
              "      <td>423.295990</td>\n",
              "      <td>389.882996</td>\n",
              "      <td>408.903992</td>\n",
              "      <td>408.903992</td>\n",
              "      <td>36863600.0</td>\n",
              "    </tr>\n",
              "    <tr>\n",
              "      <th>4</th>\n",
              "      <td>2014-09-21</td>\n",
              "      <td>408.084991</td>\n",
              "      <td>412.425995</td>\n",
              "      <td>393.181000</td>\n",
              "      <td>398.821014</td>\n",
              "      <td>398.821014</td>\n",
              "      <td>26580100.0</td>\n",
              "    </tr>\n",
              "  </tbody>\n",
              "</table>\n",
              "</div>\n",
              "      <button class=\"colab-df-convert\" onclick=\"convertToInteractive('df-891b3237-0c0a-4c11-b925-5908b02dd98f')\"\n",
              "              title=\"Convert this dataframe to an interactive table.\"\n",
              "              style=\"display:none;\">\n",
              "        \n",
              "  <svg xmlns=\"http://www.w3.org/2000/svg\" height=\"24px\"viewBox=\"0 0 24 24\"\n",
              "       width=\"24px\">\n",
              "    <path d=\"M0 0h24v24H0V0z\" fill=\"none\"/>\n",
              "    <path d=\"M18.56 5.44l.94 2.06.94-2.06 2.06-.94-2.06-.94-.94-2.06-.94 2.06-2.06.94zm-11 1L8.5 8.5l.94-2.06 2.06-.94-2.06-.94L8.5 2.5l-.94 2.06-2.06.94zm10 10l.94 2.06.94-2.06 2.06-.94-2.06-.94-.94-2.06-.94 2.06-2.06.94z\"/><path d=\"M17.41 7.96l-1.37-1.37c-.4-.4-.92-.59-1.43-.59-.52 0-1.04.2-1.43.59L10.3 9.45l-7.72 7.72c-.78.78-.78 2.05 0 2.83L4 21.41c.39.39.9.59 1.41.59.51 0 1.02-.2 1.41-.59l7.78-7.78 2.81-2.81c.8-.78.8-2.07 0-2.86zM5.41 20L4 18.59l7.72-7.72 1.47 1.35L5.41 20z\"/>\n",
              "  </svg>\n",
              "      </button>\n",
              "      \n",
              "  <style>\n",
              "    .colab-df-container {\n",
              "      display:flex;\n",
              "      flex-wrap:wrap;\n",
              "      gap: 12px;\n",
              "    }\n",
              "\n",
              "    .colab-df-convert {\n",
              "      background-color: #E8F0FE;\n",
              "      border: none;\n",
              "      border-radius: 50%;\n",
              "      cursor: pointer;\n",
              "      display: none;\n",
              "      fill: #1967D2;\n",
              "      height: 32px;\n",
              "      padding: 0 0 0 0;\n",
              "      width: 32px;\n",
              "    }\n",
              "\n",
              "    .colab-df-convert:hover {\n",
              "      background-color: #E2EBFA;\n",
              "      box-shadow: 0px 1px 2px rgba(60, 64, 67, 0.3), 0px 1px 3px 1px rgba(60, 64, 67, 0.15);\n",
              "      fill: #174EA6;\n",
              "    }\n",
              "\n",
              "    [theme=dark] .colab-df-convert {\n",
              "      background-color: #3B4455;\n",
              "      fill: #D2E3FC;\n",
              "    }\n",
              "\n",
              "    [theme=dark] .colab-df-convert:hover {\n",
              "      background-color: #434B5C;\n",
              "      box-shadow: 0px 1px 3px 1px rgba(0, 0, 0, 0.15);\n",
              "      filter: drop-shadow(0px 1px 2px rgba(0, 0, 0, 0.3));\n",
              "      fill: #FFFFFF;\n",
              "    }\n",
              "  </style>\n",
              "\n",
              "      <script>\n",
              "        const buttonEl =\n",
              "          document.querySelector('#df-891b3237-0c0a-4c11-b925-5908b02dd98f button.colab-df-convert');\n",
              "        buttonEl.style.display =\n",
              "          google.colab.kernel.accessAllowed ? 'block' : 'none';\n",
              "\n",
              "        async function convertToInteractive(key) {\n",
              "          const element = document.querySelector('#df-891b3237-0c0a-4c11-b925-5908b02dd98f');\n",
              "          const dataTable =\n",
              "            await google.colab.kernel.invokeFunction('convertToInteractive',\n",
              "                                                     [key], {});\n",
              "          if (!dataTable) return;\n",
              "\n",
              "          const docLinkHtml = 'Like what you see? Visit the ' +\n",
              "            '<a target=\"_blank\" href=https://colab.research.google.com/notebooks/data_table.ipynb>data table notebook</a>'\n",
              "            + ' to learn more about interactive tables.';\n",
              "          element.innerHTML = '';\n",
              "          dataTable['output_type'] = 'display_data';\n",
              "          await google.colab.output.renderOutput(dataTable, element);\n",
              "          const docLink = document.createElement('div');\n",
              "          docLink.innerHTML = docLinkHtml;\n",
              "          element.appendChild(docLink);\n",
              "        }\n",
              "      </script>\n",
              "    </div>\n",
              "  </div>\n",
              "  "
            ]
          },
          "metadata": {}
        }
      ]
    },
    {
      "cell_type": "code",
      "source": [
        "data_bitcoin.info()"
      ],
      "metadata": {
        "colab": {
          "base_uri": "https://localhost:8080/"
        },
        "id": "XE1xid-Jbyim",
        "outputId": "6b12a0f1-154d-4e7e-e6b7-a7d7c3f243d7"
      },
      "execution_count": null,
      "outputs": [
        {
          "output_type": "stream",
          "name": "stdout",
          "text": [
            "<class 'pandas.core.frame.DataFrame'>\n",
            "RangeIndex: 2870 entries, 0 to 2869\n",
            "Data columns (total 7 columns):\n",
            " #   Column     Non-Null Count  Dtype         \n",
            "---  ------     --------------  -----         \n",
            " 0   Date       2870 non-null   datetime64[ns]\n",
            " 1   Open       2869 non-null   float64       \n",
            " 2   High       2869 non-null   float64       \n",
            " 3   Low        2869 non-null   float64       \n",
            " 4   Close      2869 non-null   float64       \n",
            " 5   Adj Close  2869 non-null   float64       \n",
            " 6   Volume     2869 non-null   float64       \n",
            "dtypes: datetime64[ns](1), float64(6)\n",
            "memory usage: 157.1 KB\n"
          ]
        }
      ]
    },
    {
      "cell_type": "markdown",
      "metadata": {
        "id": "dCZkKQr4-nQa"
      },
      "source": [
        "### Seleccionar columnas\n",
        "\n",
        "* Además de incorporar métodos a los objetos `DataFrame`, también podemos utilizar subsettings. A continuación tres formas de hacerlo.\n",
        "* __Incorporar subsetting directamente__: `datos[listado_de_columnas]`.\n",
        "* __Seleccionar columnas de acuerdo a su localización__: `datos.loc[:, listado_de_columnas]`.\n",
        "* __Seleccionar columnas de acuerdo a su índice__: `datos.iloc[:, lista_con_indices_de_columnas]`.\n",
        "* Si seleccionamos solo una variable, obtendremos un objeto del tipo `Series`."
      ]
    },
    {
      "cell_type": "code",
      "execution_count": null,
      "metadata": {
        "id": "PJ8omzRk-nQa",
        "colab": {
          "base_uri": "https://localhost:8080/",
          "height": 424
        },
        "outputId": "44300903-8ae6-4db2-a6ec-b03f74a84619"
      },
      "outputs": [
        {
          "output_type": "display_data",
          "data": {
            "text/plain": [
              "           Date          Open\n",
              "0    2014-09-17    465.864014\n",
              "1    2014-09-18    456.859985\n",
              "2    2014-09-19    424.102997\n",
              "3    2014-09-20    394.673004\n",
              "4    2014-09-21    408.084991\n",
              "...         ...           ...\n",
              "2865 2022-07-22  23163.751953\n",
              "2866 2022-07-23  22706.984375\n",
              "2867 2022-07-24  22465.509766\n",
              "2868 2022-07-25  22607.156250\n",
              "2869 2022-07-26           NaN\n",
              "\n",
              "[2870 rows x 2 columns]"
            ],
            "text/html": [
              "\n",
              "  <div id=\"df-a813c3cc-4aec-4422-affd-aa1b0abd95fd\">\n",
              "    <div class=\"colab-df-container\">\n",
              "      <div>\n",
              "<style scoped>\n",
              "    .dataframe tbody tr th:only-of-type {\n",
              "        vertical-align: middle;\n",
              "    }\n",
              "\n",
              "    .dataframe tbody tr th {\n",
              "        vertical-align: top;\n",
              "    }\n",
              "\n",
              "    .dataframe thead th {\n",
              "        text-align: right;\n",
              "    }\n",
              "</style>\n",
              "<table border=\"1\" class=\"dataframe\">\n",
              "  <thead>\n",
              "    <tr style=\"text-align: right;\">\n",
              "      <th></th>\n",
              "      <th>Date</th>\n",
              "      <th>Open</th>\n",
              "    </tr>\n",
              "  </thead>\n",
              "  <tbody>\n",
              "    <tr>\n",
              "      <th>0</th>\n",
              "      <td>2014-09-17</td>\n",
              "      <td>465.864014</td>\n",
              "    </tr>\n",
              "    <tr>\n",
              "      <th>1</th>\n",
              "      <td>2014-09-18</td>\n",
              "      <td>456.859985</td>\n",
              "    </tr>\n",
              "    <tr>\n",
              "      <th>2</th>\n",
              "      <td>2014-09-19</td>\n",
              "      <td>424.102997</td>\n",
              "    </tr>\n",
              "    <tr>\n",
              "      <th>3</th>\n",
              "      <td>2014-09-20</td>\n",
              "      <td>394.673004</td>\n",
              "    </tr>\n",
              "    <tr>\n",
              "      <th>4</th>\n",
              "      <td>2014-09-21</td>\n",
              "      <td>408.084991</td>\n",
              "    </tr>\n",
              "    <tr>\n",
              "      <th>...</th>\n",
              "      <td>...</td>\n",
              "      <td>...</td>\n",
              "    </tr>\n",
              "    <tr>\n",
              "      <th>2865</th>\n",
              "      <td>2022-07-22</td>\n",
              "      <td>23163.751953</td>\n",
              "    </tr>\n",
              "    <tr>\n",
              "      <th>2866</th>\n",
              "      <td>2022-07-23</td>\n",
              "      <td>22706.984375</td>\n",
              "    </tr>\n",
              "    <tr>\n",
              "      <th>2867</th>\n",
              "      <td>2022-07-24</td>\n",
              "      <td>22465.509766</td>\n",
              "    </tr>\n",
              "    <tr>\n",
              "      <th>2868</th>\n",
              "      <td>2022-07-25</td>\n",
              "      <td>22607.156250</td>\n",
              "    </tr>\n",
              "    <tr>\n",
              "      <th>2869</th>\n",
              "      <td>2022-07-26</td>\n",
              "      <td>NaN</td>\n",
              "    </tr>\n",
              "  </tbody>\n",
              "</table>\n",
              "<p>2870 rows × 2 columns</p>\n",
              "</div>\n",
              "      <button class=\"colab-df-convert\" onclick=\"convertToInteractive('df-a813c3cc-4aec-4422-affd-aa1b0abd95fd')\"\n",
              "              title=\"Convert this dataframe to an interactive table.\"\n",
              "              style=\"display:none;\">\n",
              "        \n",
              "  <svg xmlns=\"http://www.w3.org/2000/svg\" height=\"24px\"viewBox=\"0 0 24 24\"\n",
              "       width=\"24px\">\n",
              "    <path d=\"M0 0h24v24H0V0z\" fill=\"none\"/>\n",
              "    <path d=\"M18.56 5.44l.94 2.06.94-2.06 2.06-.94-2.06-.94-.94-2.06-.94 2.06-2.06.94zm-11 1L8.5 8.5l.94-2.06 2.06-.94-2.06-.94L8.5 2.5l-.94 2.06-2.06.94zm10 10l.94 2.06.94-2.06 2.06-.94-2.06-.94-.94-2.06-.94 2.06-2.06.94z\"/><path d=\"M17.41 7.96l-1.37-1.37c-.4-.4-.92-.59-1.43-.59-.52 0-1.04.2-1.43.59L10.3 9.45l-7.72 7.72c-.78.78-.78 2.05 0 2.83L4 21.41c.39.39.9.59 1.41.59.51 0 1.02-.2 1.41-.59l7.78-7.78 2.81-2.81c.8-.78.8-2.07 0-2.86zM5.41 20L4 18.59l7.72-7.72 1.47 1.35L5.41 20z\"/>\n",
              "  </svg>\n",
              "      </button>\n",
              "      \n",
              "  <style>\n",
              "    .colab-df-container {\n",
              "      display:flex;\n",
              "      flex-wrap:wrap;\n",
              "      gap: 12px;\n",
              "    }\n",
              "\n",
              "    .colab-df-convert {\n",
              "      background-color: #E8F0FE;\n",
              "      border: none;\n",
              "      border-radius: 50%;\n",
              "      cursor: pointer;\n",
              "      display: none;\n",
              "      fill: #1967D2;\n",
              "      height: 32px;\n",
              "      padding: 0 0 0 0;\n",
              "      width: 32px;\n",
              "    }\n",
              "\n",
              "    .colab-df-convert:hover {\n",
              "      background-color: #E2EBFA;\n",
              "      box-shadow: 0px 1px 2px rgba(60, 64, 67, 0.3), 0px 1px 3px 1px rgba(60, 64, 67, 0.15);\n",
              "      fill: #174EA6;\n",
              "    }\n",
              "\n",
              "    [theme=dark] .colab-df-convert {\n",
              "      background-color: #3B4455;\n",
              "      fill: #D2E3FC;\n",
              "    }\n",
              "\n",
              "    [theme=dark] .colab-df-convert:hover {\n",
              "      background-color: #434B5C;\n",
              "      box-shadow: 0px 1px 3px 1px rgba(0, 0, 0, 0.15);\n",
              "      filter: drop-shadow(0px 1px 2px rgba(0, 0, 0, 0.3));\n",
              "      fill: #FFFFFF;\n",
              "    }\n",
              "  </style>\n",
              "\n",
              "      <script>\n",
              "        const buttonEl =\n",
              "          document.querySelector('#df-a813c3cc-4aec-4422-affd-aa1b0abd95fd button.colab-df-convert');\n",
              "        buttonEl.style.display =\n",
              "          google.colab.kernel.accessAllowed ? 'block' : 'none';\n",
              "\n",
              "        async function convertToInteractive(key) {\n",
              "          const element = document.querySelector('#df-a813c3cc-4aec-4422-affd-aa1b0abd95fd');\n",
              "          const dataTable =\n",
              "            await google.colab.kernel.invokeFunction('convertToInteractive',\n",
              "                                                     [key], {});\n",
              "          if (!dataTable) return;\n",
              "\n",
              "          const docLinkHtml = 'Like what you see? Visit the ' +\n",
              "            '<a target=\"_blank\" href=https://colab.research.google.com/notebooks/data_table.ipynb>data table notebook</a>'\n",
              "            + ' to learn more about interactive tables.';\n",
              "          element.innerHTML = '';\n",
              "          dataTable['output_type'] = 'display_data';\n",
              "          await google.colab.output.renderOutput(dataTable, element);\n",
              "          const docLink = document.createElement('div');\n",
              "          docLink.innerHTML = docLinkHtml;\n",
              "          element.appendChild(docLink);\n",
              "        }\n",
              "      </script>\n",
              "    </div>\n",
              "  </div>\n",
              "  "
            ]
          },
          "metadata": {}
        }
      ],
      "source": [
        "# Ejemplo de seleccionar columnas: seleccionar variables \"Date\" y \"Open\" de la base de datos de Bitcoin.\n",
        "seleccion_datos_bc = data_bitcoin[[\"Date\", \"Open\"]]\n",
        "display(seleccion_datos_bc)"
      ]
    },
    {
      "cell_type": "code",
      "execution_count": null,
      "metadata": {
        "id": "zI2B0vfjVbyi",
        "colab": {
          "base_uri": "https://localhost:8080/"
        },
        "outputId": "40e4c121-1114-4b8e-8892-910f884a3df7"
      },
      "outputs": [
        {
          "output_type": "stream",
          "name": "stdout",
          "text": [
            "Index(['Date', 'Open', 'High', 'Low', 'Close', 'Adj Close', 'Volume'], dtype='object')\n"
          ]
        }
      ],
      "source": [
        "# ver nombres de columnas\n",
        "print(data_bitcoin.columns)"
      ]
    },
    {
      "cell_type": "code",
      "execution_count": null,
      "metadata": {
        "id": "Yr3eVKBWVk9z",
        "colab": {
          "base_uri": "https://localhost:8080/",
          "height": 300
        },
        "outputId": "e9f9f544-5e64-4967-9b45-06350e4611c1"
      },
      "outputs": [
        {
          "output_type": "display_data",
          "data": {
            "text/plain": [
              "               Open          High           Low         Close     Adj Close  \\\n",
              "count   2869.000000   2869.000000   2869.000000   2869.000000   2869.000000   \n",
              "mean   12492.695319  12817.675384  12128.108852  12498.340228  12498.340228   \n",
              "std    16547.336608  16974.659737  16051.600035  16542.928102  16542.928102   \n",
              "min      176.897003    211.731003    171.509995    178.102997    178.102997   \n",
              "25%      639.411011    644.682007    630.693970    639.890015    639.890015   \n",
              "50%     6596.879883   6719.959961   6468.310059   6596.540039   6596.540039   \n",
              "75%    11685.700195  11958.500000  11393.374023  11711.505859  11711.505859   \n",
              "max    67549.734375  68789.625000  66382.062500  67566.828125  67566.828125   \n",
              "\n",
              "             Volume  \n",
              "count  2.869000e+03  \n",
              "mean   1.553143e+10  \n",
              "std    1.990619e+10  \n",
              "min    5.914570e+06  \n",
              "25%    8.692060e+07  \n",
              "50%    5.955113e+09  \n",
              "75%    2.642819e+10  \n",
              "max    3.509679e+11  "
            ],
            "text/html": [
              "\n",
              "  <div id=\"df-d73b9202-f452-480f-a381-df9544dac119\">\n",
              "    <div class=\"colab-df-container\">\n",
              "      <div>\n",
              "<style scoped>\n",
              "    .dataframe tbody tr th:only-of-type {\n",
              "        vertical-align: middle;\n",
              "    }\n",
              "\n",
              "    .dataframe tbody tr th {\n",
              "        vertical-align: top;\n",
              "    }\n",
              "\n",
              "    .dataframe thead th {\n",
              "        text-align: right;\n",
              "    }\n",
              "</style>\n",
              "<table border=\"1\" class=\"dataframe\">\n",
              "  <thead>\n",
              "    <tr style=\"text-align: right;\">\n",
              "      <th></th>\n",
              "      <th>Open</th>\n",
              "      <th>High</th>\n",
              "      <th>Low</th>\n",
              "      <th>Close</th>\n",
              "      <th>Adj Close</th>\n",
              "      <th>Volume</th>\n",
              "    </tr>\n",
              "  </thead>\n",
              "  <tbody>\n",
              "    <tr>\n",
              "      <th>count</th>\n",
              "      <td>2869.000000</td>\n",
              "      <td>2869.000000</td>\n",
              "      <td>2869.000000</td>\n",
              "      <td>2869.000000</td>\n",
              "      <td>2869.000000</td>\n",
              "      <td>2.869000e+03</td>\n",
              "    </tr>\n",
              "    <tr>\n",
              "      <th>mean</th>\n",
              "      <td>12492.695319</td>\n",
              "      <td>12817.675384</td>\n",
              "      <td>12128.108852</td>\n",
              "      <td>12498.340228</td>\n",
              "      <td>12498.340228</td>\n",
              "      <td>1.553143e+10</td>\n",
              "    </tr>\n",
              "    <tr>\n",
              "      <th>std</th>\n",
              "      <td>16547.336608</td>\n",
              "      <td>16974.659737</td>\n",
              "      <td>16051.600035</td>\n",
              "      <td>16542.928102</td>\n",
              "      <td>16542.928102</td>\n",
              "      <td>1.990619e+10</td>\n",
              "    </tr>\n",
              "    <tr>\n",
              "      <th>min</th>\n",
              "      <td>176.897003</td>\n",
              "      <td>211.731003</td>\n",
              "      <td>171.509995</td>\n",
              "      <td>178.102997</td>\n",
              "      <td>178.102997</td>\n",
              "      <td>5.914570e+06</td>\n",
              "    </tr>\n",
              "    <tr>\n",
              "      <th>25%</th>\n",
              "      <td>639.411011</td>\n",
              "      <td>644.682007</td>\n",
              "      <td>630.693970</td>\n",
              "      <td>639.890015</td>\n",
              "      <td>639.890015</td>\n",
              "      <td>8.692060e+07</td>\n",
              "    </tr>\n",
              "    <tr>\n",
              "      <th>50%</th>\n",
              "      <td>6596.879883</td>\n",
              "      <td>6719.959961</td>\n",
              "      <td>6468.310059</td>\n",
              "      <td>6596.540039</td>\n",
              "      <td>6596.540039</td>\n",
              "      <td>5.955113e+09</td>\n",
              "    </tr>\n",
              "    <tr>\n",
              "      <th>75%</th>\n",
              "      <td>11685.700195</td>\n",
              "      <td>11958.500000</td>\n",
              "      <td>11393.374023</td>\n",
              "      <td>11711.505859</td>\n",
              "      <td>11711.505859</td>\n",
              "      <td>2.642819e+10</td>\n",
              "    </tr>\n",
              "    <tr>\n",
              "      <th>max</th>\n",
              "      <td>67549.734375</td>\n",
              "      <td>68789.625000</td>\n",
              "      <td>66382.062500</td>\n",
              "      <td>67566.828125</td>\n",
              "      <td>67566.828125</td>\n",
              "      <td>3.509679e+11</td>\n",
              "    </tr>\n",
              "  </tbody>\n",
              "</table>\n",
              "</div>\n",
              "      <button class=\"colab-df-convert\" onclick=\"convertToInteractive('df-d73b9202-f452-480f-a381-df9544dac119')\"\n",
              "              title=\"Convert this dataframe to an interactive table.\"\n",
              "              style=\"display:none;\">\n",
              "        \n",
              "  <svg xmlns=\"http://www.w3.org/2000/svg\" height=\"24px\"viewBox=\"0 0 24 24\"\n",
              "       width=\"24px\">\n",
              "    <path d=\"M0 0h24v24H0V0z\" fill=\"none\"/>\n",
              "    <path d=\"M18.56 5.44l.94 2.06.94-2.06 2.06-.94-2.06-.94-.94-2.06-.94 2.06-2.06.94zm-11 1L8.5 8.5l.94-2.06 2.06-.94-2.06-.94L8.5 2.5l-.94 2.06-2.06.94zm10 10l.94 2.06.94-2.06 2.06-.94-2.06-.94-.94-2.06-.94 2.06-2.06.94z\"/><path d=\"M17.41 7.96l-1.37-1.37c-.4-.4-.92-.59-1.43-.59-.52 0-1.04.2-1.43.59L10.3 9.45l-7.72 7.72c-.78.78-.78 2.05 0 2.83L4 21.41c.39.39.9.59 1.41.59.51 0 1.02-.2 1.41-.59l7.78-7.78 2.81-2.81c.8-.78.8-2.07 0-2.86zM5.41 20L4 18.59l7.72-7.72 1.47 1.35L5.41 20z\"/>\n",
              "  </svg>\n",
              "      </button>\n",
              "      \n",
              "  <style>\n",
              "    .colab-df-container {\n",
              "      display:flex;\n",
              "      flex-wrap:wrap;\n",
              "      gap: 12px;\n",
              "    }\n",
              "\n",
              "    .colab-df-convert {\n",
              "      background-color: #E8F0FE;\n",
              "      border: none;\n",
              "      border-radius: 50%;\n",
              "      cursor: pointer;\n",
              "      display: none;\n",
              "      fill: #1967D2;\n",
              "      height: 32px;\n",
              "      padding: 0 0 0 0;\n",
              "      width: 32px;\n",
              "    }\n",
              "\n",
              "    .colab-df-convert:hover {\n",
              "      background-color: #E2EBFA;\n",
              "      box-shadow: 0px 1px 2px rgba(60, 64, 67, 0.3), 0px 1px 3px 1px rgba(60, 64, 67, 0.15);\n",
              "      fill: #174EA6;\n",
              "    }\n",
              "\n",
              "    [theme=dark] .colab-df-convert {\n",
              "      background-color: #3B4455;\n",
              "      fill: #D2E3FC;\n",
              "    }\n",
              "\n",
              "    [theme=dark] .colab-df-convert:hover {\n",
              "      background-color: #434B5C;\n",
              "      box-shadow: 0px 1px 3px 1px rgba(0, 0, 0, 0.15);\n",
              "      filter: drop-shadow(0px 1px 2px rgba(0, 0, 0, 0.3));\n",
              "      fill: #FFFFFF;\n",
              "    }\n",
              "  </style>\n",
              "\n",
              "      <script>\n",
              "        const buttonEl =\n",
              "          document.querySelector('#df-d73b9202-f452-480f-a381-df9544dac119 button.colab-df-convert');\n",
              "        buttonEl.style.display =\n",
              "          google.colab.kernel.accessAllowed ? 'block' : 'none';\n",
              "\n",
              "        async function convertToInteractive(key) {\n",
              "          const element = document.querySelector('#df-d73b9202-f452-480f-a381-df9544dac119');\n",
              "          const dataTable =\n",
              "            await google.colab.kernel.invokeFunction('convertToInteractive',\n",
              "                                                     [key], {});\n",
              "          if (!dataTable) return;\n",
              "\n",
              "          const docLinkHtml = 'Like what you see? Visit the ' +\n",
              "            '<a target=\"_blank\" href=https://colab.research.google.com/notebooks/data_table.ipynb>data table notebook</a>'\n",
              "            + ' to learn more about interactive tables.';\n",
              "          element.innerHTML = '';\n",
              "          dataTable['output_type'] = 'display_data';\n",
              "          await google.colab.output.renderOutput(dataTable, element);\n",
              "          const docLink = document.createElement('div');\n",
              "          docLink.innerHTML = docLinkHtml;\n",
              "          element.appendChild(docLink);\n",
              "        }\n",
              "      </script>\n",
              "    </div>\n",
              "  </div>\n",
              "  "
            ]
          },
          "metadata": {}
        }
      ],
      "source": [
        "# ver resúmenes numéricos\n",
        "display(data_bitcoin.describe())"
      ]
    },
    {
      "cell_type": "markdown",
      "metadata": {
        "id": "VaGiOsi0-nQa"
      },
      "source": [
        "### Crear columnas\n",
        "* Se realiza un subsetting indicando el nombre que tendrá la nueva variable, acompañada de un signo `=` y la información que contendrá esta."
      ]
    },
    {
      "cell_type": "code",
      "execution_count": null,
      "metadata": {
        "id": "hBzlNMLk-nQa",
        "colab": {
          "base_uri": "https://localhost:8080/",
          "height": 215
        },
        "outputId": "60f892a3-ed25-4cd2-aab2-5b585c820318"
      },
      "outputs": [
        {
          "output_type": "display_data",
          "data": {
            "text/plain": [
              "        Date        Open        High         Low       Close   Adj Close  \\\n",
              "0 2014-09-17  465.864014  468.174011  452.421997  457.334015  457.334015   \n",
              "1 2014-09-18  456.859985  456.859985  413.104004  424.440002  424.440002   \n",
              "2 2014-09-19  424.102997  427.834991  384.532013  394.795990  394.795990   \n",
              "3 2014-09-20  394.673004  423.295990  389.882996  408.903992  408.903992   \n",
              "4 2014-09-21  408.084991  412.425995  393.181000  398.821014  398.821014   \n",
              "\n",
              "       Volume        Var  \n",
              "0  21056800.0  15.752014  \n",
              "1  34483200.0  43.755981  \n",
              "2  37919700.0  43.302978  \n",
              "3  36863600.0  33.412994  \n",
              "4  26580100.0  19.244995  "
            ],
            "text/html": [
              "\n",
              "  <div id=\"df-726ab36b-27c2-41e3-8f51-ba79d78d1e06\">\n",
              "    <div class=\"colab-df-container\">\n",
              "      <div>\n",
              "<style scoped>\n",
              "    .dataframe tbody tr th:only-of-type {\n",
              "        vertical-align: middle;\n",
              "    }\n",
              "\n",
              "    .dataframe tbody tr th {\n",
              "        vertical-align: top;\n",
              "    }\n",
              "\n",
              "    .dataframe thead th {\n",
              "        text-align: right;\n",
              "    }\n",
              "</style>\n",
              "<table border=\"1\" class=\"dataframe\">\n",
              "  <thead>\n",
              "    <tr style=\"text-align: right;\">\n",
              "      <th></th>\n",
              "      <th>Date</th>\n",
              "      <th>Open</th>\n",
              "      <th>High</th>\n",
              "      <th>Low</th>\n",
              "      <th>Close</th>\n",
              "      <th>Adj Close</th>\n",
              "      <th>Volume</th>\n",
              "      <th>Var</th>\n",
              "    </tr>\n",
              "  </thead>\n",
              "  <tbody>\n",
              "    <tr>\n",
              "      <th>0</th>\n",
              "      <td>2014-09-17</td>\n",
              "      <td>465.864014</td>\n",
              "      <td>468.174011</td>\n",
              "      <td>452.421997</td>\n",
              "      <td>457.334015</td>\n",
              "      <td>457.334015</td>\n",
              "      <td>21056800.0</td>\n",
              "      <td>15.752014</td>\n",
              "    </tr>\n",
              "    <tr>\n",
              "      <th>1</th>\n",
              "      <td>2014-09-18</td>\n",
              "      <td>456.859985</td>\n",
              "      <td>456.859985</td>\n",
              "      <td>413.104004</td>\n",
              "      <td>424.440002</td>\n",
              "      <td>424.440002</td>\n",
              "      <td>34483200.0</td>\n",
              "      <td>43.755981</td>\n",
              "    </tr>\n",
              "    <tr>\n",
              "      <th>2</th>\n",
              "      <td>2014-09-19</td>\n",
              "      <td>424.102997</td>\n",
              "      <td>427.834991</td>\n",
              "      <td>384.532013</td>\n",
              "      <td>394.795990</td>\n",
              "      <td>394.795990</td>\n",
              "      <td>37919700.0</td>\n",
              "      <td>43.302978</td>\n",
              "    </tr>\n",
              "    <tr>\n",
              "      <th>3</th>\n",
              "      <td>2014-09-20</td>\n",
              "      <td>394.673004</td>\n",
              "      <td>423.295990</td>\n",
              "      <td>389.882996</td>\n",
              "      <td>408.903992</td>\n",
              "      <td>408.903992</td>\n",
              "      <td>36863600.0</td>\n",
              "      <td>33.412994</td>\n",
              "    </tr>\n",
              "    <tr>\n",
              "      <th>4</th>\n",
              "      <td>2014-09-21</td>\n",
              "      <td>408.084991</td>\n",
              "      <td>412.425995</td>\n",
              "      <td>393.181000</td>\n",
              "      <td>398.821014</td>\n",
              "      <td>398.821014</td>\n",
              "      <td>26580100.0</td>\n",
              "      <td>19.244995</td>\n",
              "    </tr>\n",
              "  </tbody>\n",
              "</table>\n",
              "</div>\n",
              "      <button class=\"colab-df-convert\" onclick=\"convertToInteractive('df-726ab36b-27c2-41e3-8f51-ba79d78d1e06')\"\n",
              "              title=\"Convert this dataframe to an interactive table.\"\n",
              "              style=\"display:none;\">\n",
              "        \n",
              "  <svg xmlns=\"http://www.w3.org/2000/svg\" height=\"24px\"viewBox=\"0 0 24 24\"\n",
              "       width=\"24px\">\n",
              "    <path d=\"M0 0h24v24H0V0z\" fill=\"none\"/>\n",
              "    <path d=\"M18.56 5.44l.94 2.06.94-2.06 2.06-.94-2.06-.94-.94-2.06-.94 2.06-2.06.94zm-11 1L8.5 8.5l.94-2.06 2.06-.94-2.06-.94L8.5 2.5l-.94 2.06-2.06.94zm10 10l.94 2.06.94-2.06 2.06-.94-2.06-.94-.94-2.06-.94 2.06-2.06.94z\"/><path d=\"M17.41 7.96l-1.37-1.37c-.4-.4-.92-.59-1.43-.59-.52 0-1.04.2-1.43.59L10.3 9.45l-7.72 7.72c-.78.78-.78 2.05 0 2.83L4 21.41c.39.39.9.59 1.41.59.51 0 1.02-.2 1.41-.59l7.78-7.78 2.81-2.81c.8-.78.8-2.07 0-2.86zM5.41 20L4 18.59l7.72-7.72 1.47 1.35L5.41 20z\"/>\n",
              "  </svg>\n",
              "      </button>\n",
              "      \n",
              "  <style>\n",
              "    .colab-df-container {\n",
              "      display:flex;\n",
              "      flex-wrap:wrap;\n",
              "      gap: 12px;\n",
              "    }\n",
              "\n",
              "    .colab-df-convert {\n",
              "      background-color: #E8F0FE;\n",
              "      border: none;\n",
              "      border-radius: 50%;\n",
              "      cursor: pointer;\n",
              "      display: none;\n",
              "      fill: #1967D2;\n",
              "      height: 32px;\n",
              "      padding: 0 0 0 0;\n",
              "      width: 32px;\n",
              "    }\n",
              "\n",
              "    .colab-df-convert:hover {\n",
              "      background-color: #E2EBFA;\n",
              "      box-shadow: 0px 1px 2px rgba(60, 64, 67, 0.3), 0px 1px 3px 1px rgba(60, 64, 67, 0.15);\n",
              "      fill: #174EA6;\n",
              "    }\n",
              "\n",
              "    [theme=dark] .colab-df-convert {\n",
              "      background-color: #3B4455;\n",
              "      fill: #D2E3FC;\n",
              "    }\n",
              "\n",
              "    [theme=dark] .colab-df-convert:hover {\n",
              "      background-color: #434B5C;\n",
              "      box-shadow: 0px 1px 3px 1px rgba(0, 0, 0, 0.15);\n",
              "      filter: drop-shadow(0px 1px 2px rgba(0, 0, 0, 0.3));\n",
              "      fill: #FFFFFF;\n",
              "    }\n",
              "  </style>\n",
              "\n",
              "      <script>\n",
              "        const buttonEl =\n",
              "          document.querySelector('#df-726ab36b-27c2-41e3-8f51-ba79d78d1e06 button.colab-df-convert');\n",
              "        buttonEl.style.display =\n",
              "          google.colab.kernel.accessAllowed ? 'block' : 'none';\n",
              "\n",
              "        async function convertToInteractive(key) {\n",
              "          const element = document.querySelector('#df-726ab36b-27c2-41e3-8f51-ba79d78d1e06');\n",
              "          const dataTable =\n",
              "            await google.colab.kernel.invokeFunction('convertToInteractive',\n",
              "                                                     [key], {});\n",
              "          if (!dataTable) return;\n",
              "\n",
              "          const docLinkHtml = 'Like what you see? Visit the ' +\n",
              "            '<a target=\"_blank\" href=https://colab.research.google.com/notebooks/data_table.ipynb>data table notebook</a>'\n",
              "            + ' to learn more about interactive tables.';\n",
              "          element.innerHTML = '';\n",
              "          dataTable['output_type'] = 'display_data';\n",
              "          await google.colab.output.renderOutput(dataTable, element);\n",
              "          const docLink = document.createElement('div');\n",
              "          docLink.innerHTML = docLinkHtml;\n",
              "          element.appendChild(docLink);\n",
              "        }\n",
              "      </script>\n",
              "    </div>\n",
              "  </div>\n",
              "  "
            ]
          },
          "metadata": {}
        }
      ],
      "source": [
        "# Ejemplo de crear variables: Calcular rango de variación diario del Bitcoin en dólares.\n",
        "data_bitcoin[\"Var\"] = data_bitcoin[\"High\"] - data_bitcoin[\"Low\"]\n",
        "display(data_bitcoin.head())"
      ]
    },
    {
      "cell_type": "markdown",
      "metadata": {
        "id": "vNdroW73-nQa"
      },
      "source": [
        "### Filtrar datos bajo una condición.\n",
        "* Se emplea de forma similar a seleccionar variables: `datos[condicion]`.\n",
        "* Para consultas sencillas podemos usar el método `query(\"condicion\")`."
      ]
    },
    {
      "cell_type": "code",
      "execution_count": null,
      "metadata": {
        "id": "VVosVQsp-nQa",
        "colab": {
          "base_uri": "https://localhost:8080/",
          "height": 424
        },
        "outputId": "00e83820-a946-4bde-de93-59a89befada2"
      },
      "outputs": [
        {
          "output_type": "display_data",
          "data": {
            "text/plain": [
              "           Date          Open          High           Low         Close  \\\n",
              "2298 2021-01-01  28994.009766  29600.626953  28803.585938  29374.152344   \n",
              "2299 2021-01-02  29376.455078  33155.117188  29091.181641  32127.267578   \n",
              "2300 2021-01-03  32129.408203  34608.558594  32052.316406  32782.023438   \n",
              "2301 2021-01-04  32810.949219  33440.218750  28722.755859  31971.914063   \n",
              "2302 2021-01-05  31977.041016  34437.589844  30221.187500  33992.429688   \n",
              "...         ...           ...           ...           ...           ...   \n",
              "2658 2021-12-27  50802.609375  51956.328125  50499.468750  50640.417969   \n",
              "2659 2021-12-28  50679.859375  50679.859375  47414.210938  47588.855469   \n",
              "2660 2021-12-29  47623.871094  48119.742188  46201.496094  46444.710938   \n",
              "2661 2021-12-30  46490.605469  47879.964844  46060.312500  47178.125000   \n",
              "2662 2021-12-31  47169.371094  48472.527344  45819.953125  46306.445313   \n",
              "\n",
              "         Adj Close        Volume          Var  \n",
              "2298  29374.152344  4.073030e+10   797.041015  \n",
              "2299  32127.267578  6.786542e+10  4063.935547  \n",
              "2300  32782.023438  7.866524e+10  2556.242188  \n",
              "2301  31971.914063  8.116348e+10  4717.462891  \n",
              "2302  33992.429688  6.754732e+10  4216.402344  \n",
              "...            ...           ...          ...  \n",
              "2658  50640.417969  2.432435e+10  1456.859375  \n",
              "2659  47588.855469  3.343038e+10  3265.648437  \n",
              "2660  46444.710938  3.004923e+10  1918.246094  \n",
              "2661  47178.125000  2.668649e+10  1819.652344  \n",
              "2662  46306.445313  3.697417e+10  2652.574219  \n",
              "\n",
              "[365 rows x 8 columns]"
            ],
            "text/html": [
              "\n",
              "  <div id=\"df-740d11f3-f0cc-41d5-8680-cfd57a7ea127\">\n",
              "    <div class=\"colab-df-container\">\n",
              "      <div>\n",
              "<style scoped>\n",
              "    .dataframe tbody tr th:only-of-type {\n",
              "        vertical-align: middle;\n",
              "    }\n",
              "\n",
              "    .dataframe tbody tr th {\n",
              "        vertical-align: top;\n",
              "    }\n",
              "\n",
              "    .dataframe thead th {\n",
              "        text-align: right;\n",
              "    }\n",
              "</style>\n",
              "<table border=\"1\" class=\"dataframe\">\n",
              "  <thead>\n",
              "    <tr style=\"text-align: right;\">\n",
              "      <th></th>\n",
              "      <th>Date</th>\n",
              "      <th>Open</th>\n",
              "      <th>High</th>\n",
              "      <th>Low</th>\n",
              "      <th>Close</th>\n",
              "      <th>Adj Close</th>\n",
              "      <th>Volume</th>\n",
              "      <th>Var</th>\n",
              "    </tr>\n",
              "  </thead>\n",
              "  <tbody>\n",
              "    <tr>\n",
              "      <th>2298</th>\n",
              "      <td>2021-01-01</td>\n",
              "      <td>28994.009766</td>\n",
              "      <td>29600.626953</td>\n",
              "      <td>28803.585938</td>\n",
              "      <td>29374.152344</td>\n",
              "      <td>29374.152344</td>\n",
              "      <td>4.073030e+10</td>\n",
              "      <td>797.041015</td>\n",
              "    </tr>\n",
              "    <tr>\n",
              "      <th>2299</th>\n",
              "      <td>2021-01-02</td>\n",
              "      <td>29376.455078</td>\n",
              "      <td>33155.117188</td>\n",
              "      <td>29091.181641</td>\n",
              "      <td>32127.267578</td>\n",
              "      <td>32127.267578</td>\n",
              "      <td>6.786542e+10</td>\n",
              "      <td>4063.935547</td>\n",
              "    </tr>\n",
              "    <tr>\n",
              "      <th>2300</th>\n",
              "      <td>2021-01-03</td>\n",
              "      <td>32129.408203</td>\n",
              "      <td>34608.558594</td>\n",
              "      <td>32052.316406</td>\n",
              "      <td>32782.023438</td>\n",
              "      <td>32782.023438</td>\n",
              "      <td>7.866524e+10</td>\n",
              "      <td>2556.242188</td>\n",
              "    </tr>\n",
              "    <tr>\n",
              "      <th>2301</th>\n",
              "      <td>2021-01-04</td>\n",
              "      <td>32810.949219</td>\n",
              "      <td>33440.218750</td>\n",
              "      <td>28722.755859</td>\n",
              "      <td>31971.914063</td>\n",
              "      <td>31971.914063</td>\n",
              "      <td>8.116348e+10</td>\n",
              "      <td>4717.462891</td>\n",
              "    </tr>\n",
              "    <tr>\n",
              "      <th>2302</th>\n",
              "      <td>2021-01-05</td>\n",
              "      <td>31977.041016</td>\n",
              "      <td>34437.589844</td>\n",
              "      <td>30221.187500</td>\n",
              "      <td>33992.429688</td>\n",
              "      <td>33992.429688</td>\n",
              "      <td>6.754732e+10</td>\n",
              "      <td>4216.402344</td>\n",
              "    </tr>\n",
              "    <tr>\n",
              "      <th>...</th>\n",
              "      <td>...</td>\n",
              "      <td>...</td>\n",
              "      <td>...</td>\n",
              "      <td>...</td>\n",
              "      <td>...</td>\n",
              "      <td>...</td>\n",
              "      <td>...</td>\n",
              "      <td>...</td>\n",
              "    </tr>\n",
              "    <tr>\n",
              "      <th>2658</th>\n",
              "      <td>2021-12-27</td>\n",
              "      <td>50802.609375</td>\n",
              "      <td>51956.328125</td>\n",
              "      <td>50499.468750</td>\n",
              "      <td>50640.417969</td>\n",
              "      <td>50640.417969</td>\n",
              "      <td>2.432435e+10</td>\n",
              "      <td>1456.859375</td>\n",
              "    </tr>\n",
              "    <tr>\n",
              "      <th>2659</th>\n",
              "      <td>2021-12-28</td>\n",
              "      <td>50679.859375</td>\n",
              "      <td>50679.859375</td>\n",
              "      <td>47414.210938</td>\n",
              "      <td>47588.855469</td>\n",
              "      <td>47588.855469</td>\n",
              "      <td>3.343038e+10</td>\n",
              "      <td>3265.648437</td>\n",
              "    </tr>\n",
              "    <tr>\n",
              "      <th>2660</th>\n",
              "      <td>2021-12-29</td>\n",
              "      <td>47623.871094</td>\n",
              "      <td>48119.742188</td>\n",
              "      <td>46201.496094</td>\n",
              "      <td>46444.710938</td>\n",
              "      <td>46444.710938</td>\n",
              "      <td>3.004923e+10</td>\n",
              "      <td>1918.246094</td>\n",
              "    </tr>\n",
              "    <tr>\n",
              "      <th>2661</th>\n",
              "      <td>2021-12-30</td>\n",
              "      <td>46490.605469</td>\n",
              "      <td>47879.964844</td>\n",
              "      <td>46060.312500</td>\n",
              "      <td>47178.125000</td>\n",
              "      <td>47178.125000</td>\n",
              "      <td>2.668649e+10</td>\n",
              "      <td>1819.652344</td>\n",
              "    </tr>\n",
              "    <tr>\n",
              "      <th>2662</th>\n",
              "      <td>2021-12-31</td>\n",
              "      <td>47169.371094</td>\n",
              "      <td>48472.527344</td>\n",
              "      <td>45819.953125</td>\n",
              "      <td>46306.445313</td>\n",
              "      <td>46306.445313</td>\n",
              "      <td>3.697417e+10</td>\n",
              "      <td>2652.574219</td>\n",
              "    </tr>\n",
              "  </tbody>\n",
              "</table>\n",
              "<p>365 rows × 8 columns</p>\n",
              "</div>\n",
              "      <button class=\"colab-df-convert\" onclick=\"convertToInteractive('df-740d11f3-f0cc-41d5-8680-cfd57a7ea127')\"\n",
              "              title=\"Convert this dataframe to an interactive table.\"\n",
              "              style=\"display:none;\">\n",
              "        \n",
              "  <svg xmlns=\"http://www.w3.org/2000/svg\" height=\"24px\"viewBox=\"0 0 24 24\"\n",
              "       width=\"24px\">\n",
              "    <path d=\"M0 0h24v24H0V0z\" fill=\"none\"/>\n",
              "    <path d=\"M18.56 5.44l.94 2.06.94-2.06 2.06-.94-2.06-.94-.94-2.06-.94 2.06-2.06.94zm-11 1L8.5 8.5l.94-2.06 2.06-.94-2.06-.94L8.5 2.5l-.94 2.06-2.06.94zm10 10l.94 2.06.94-2.06 2.06-.94-2.06-.94-.94-2.06-.94 2.06-2.06.94z\"/><path d=\"M17.41 7.96l-1.37-1.37c-.4-.4-.92-.59-1.43-.59-.52 0-1.04.2-1.43.59L10.3 9.45l-7.72 7.72c-.78.78-.78 2.05 0 2.83L4 21.41c.39.39.9.59 1.41.59.51 0 1.02-.2 1.41-.59l7.78-7.78 2.81-2.81c.8-.78.8-2.07 0-2.86zM5.41 20L4 18.59l7.72-7.72 1.47 1.35L5.41 20z\"/>\n",
              "  </svg>\n",
              "      </button>\n",
              "      \n",
              "  <style>\n",
              "    .colab-df-container {\n",
              "      display:flex;\n",
              "      flex-wrap:wrap;\n",
              "      gap: 12px;\n",
              "    }\n",
              "\n",
              "    .colab-df-convert {\n",
              "      background-color: #E8F0FE;\n",
              "      border: none;\n",
              "      border-radius: 50%;\n",
              "      cursor: pointer;\n",
              "      display: none;\n",
              "      fill: #1967D2;\n",
              "      height: 32px;\n",
              "      padding: 0 0 0 0;\n",
              "      width: 32px;\n",
              "    }\n",
              "\n",
              "    .colab-df-convert:hover {\n",
              "      background-color: #E2EBFA;\n",
              "      box-shadow: 0px 1px 2px rgba(60, 64, 67, 0.3), 0px 1px 3px 1px rgba(60, 64, 67, 0.15);\n",
              "      fill: #174EA6;\n",
              "    }\n",
              "\n",
              "    [theme=dark] .colab-df-convert {\n",
              "      background-color: #3B4455;\n",
              "      fill: #D2E3FC;\n",
              "    }\n",
              "\n",
              "    [theme=dark] .colab-df-convert:hover {\n",
              "      background-color: #434B5C;\n",
              "      box-shadow: 0px 1px 3px 1px rgba(0, 0, 0, 0.15);\n",
              "      filter: drop-shadow(0px 1px 2px rgba(0, 0, 0, 0.3));\n",
              "      fill: #FFFFFF;\n",
              "    }\n",
              "  </style>\n",
              "\n",
              "      <script>\n",
              "        const buttonEl =\n",
              "          document.querySelector('#df-740d11f3-f0cc-41d5-8680-cfd57a7ea127 button.colab-df-convert');\n",
              "        buttonEl.style.display =\n",
              "          google.colab.kernel.accessAllowed ? 'block' : 'none';\n",
              "\n",
              "        async function convertToInteractive(key) {\n",
              "          const element = document.querySelector('#df-740d11f3-f0cc-41d5-8680-cfd57a7ea127');\n",
              "          const dataTable =\n",
              "            await google.colab.kernel.invokeFunction('convertToInteractive',\n",
              "                                                     [key], {});\n",
              "          if (!dataTable) return;\n",
              "\n",
              "          const docLinkHtml = 'Like what you see? Visit the ' +\n",
              "            '<a target=\"_blank\" href=https://colab.research.google.com/notebooks/data_table.ipynb>data table notebook</a>'\n",
              "            + ' to learn more about interactive tables.';\n",
              "          element.innerHTML = '';\n",
              "          dataTable['output_type'] = 'display_data';\n",
              "          await google.colab.output.renderOutput(dataTable, element);\n",
              "          const docLink = document.createElement('div');\n",
              "          docLink.innerHTML = docLinkHtml;\n",
              "          element.appendChild(docLink);\n",
              "        }\n",
              "      </script>\n",
              "    </div>\n",
              "  </div>\n",
              "  "
            ]
          },
          "metadata": {}
        }
      ],
      "source": [
        "# Ejemplo de filtro: seleccione los datos que corresponden solo al año 2021\n",
        "condicion = data_bitcoin[\"Date\"].dt.year == 2021\n",
        "display(data_bitcoin[condicion])"
      ]
    },
    {
      "cell_type": "code",
      "source": [
        "display(data_bitcoin.query(\"Open > 65000\")[[\"Date\", \"Open\"]])"
      ],
      "metadata": {
        "colab": {
          "base_uri": "https://localhost:8080/",
          "height": 175
        },
        "id": "l85EZdAkfkT2",
        "outputId": "c1e06c8e-13af-4238-f578-08bb27fcdf7b"
      },
      "execution_count": null,
      "outputs": [
        {
          "output_type": "display_data",
          "data": {
            "text/plain": [
              "           Date          Open\n",
              "2591 2021-10-21  66002.234375\n",
              "2610 2021-11-09  67549.734375\n",
              "2611 2021-11-10  66953.335938\n",
              "2616 2021-11-15  65521.289063"
            ],
            "text/html": [
              "\n",
              "  <div id=\"df-66ef65af-4218-4363-9539-f7ff1aa4d011\">\n",
              "    <div class=\"colab-df-container\">\n",
              "      <div>\n",
              "<style scoped>\n",
              "    .dataframe tbody tr th:only-of-type {\n",
              "        vertical-align: middle;\n",
              "    }\n",
              "\n",
              "    .dataframe tbody tr th {\n",
              "        vertical-align: top;\n",
              "    }\n",
              "\n",
              "    .dataframe thead th {\n",
              "        text-align: right;\n",
              "    }\n",
              "</style>\n",
              "<table border=\"1\" class=\"dataframe\">\n",
              "  <thead>\n",
              "    <tr style=\"text-align: right;\">\n",
              "      <th></th>\n",
              "      <th>Date</th>\n",
              "      <th>Open</th>\n",
              "    </tr>\n",
              "  </thead>\n",
              "  <tbody>\n",
              "    <tr>\n",
              "      <th>2591</th>\n",
              "      <td>2021-10-21</td>\n",
              "      <td>66002.234375</td>\n",
              "    </tr>\n",
              "    <tr>\n",
              "      <th>2610</th>\n",
              "      <td>2021-11-09</td>\n",
              "      <td>67549.734375</td>\n",
              "    </tr>\n",
              "    <tr>\n",
              "      <th>2611</th>\n",
              "      <td>2021-11-10</td>\n",
              "      <td>66953.335938</td>\n",
              "    </tr>\n",
              "    <tr>\n",
              "      <th>2616</th>\n",
              "      <td>2021-11-15</td>\n",
              "      <td>65521.289063</td>\n",
              "    </tr>\n",
              "  </tbody>\n",
              "</table>\n",
              "</div>\n",
              "      <button class=\"colab-df-convert\" onclick=\"convertToInteractive('df-66ef65af-4218-4363-9539-f7ff1aa4d011')\"\n",
              "              title=\"Convert this dataframe to an interactive table.\"\n",
              "              style=\"display:none;\">\n",
              "        \n",
              "  <svg xmlns=\"http://www.w3.org/2000/svg\" height=\"24px\"viewBox=\"0 0 24 24\"\n",
              "       width=\"24px\">\n",
              "    <path d=\"M0 0h24v24H0V0z\" fill=\"none\"/>\n",
              "    <path d=\"M18.56 5.44l.94 2.06.94-2.06 2.06-.94-2.06-.94-.94-2.06-.94 2.06-2.06.94zm-11 1L8.5 8.5l.94-2.06 2.06-.94-2.06-.94L8.5 2.5l-.94 2.06-2.06.94zm10 10l.94 2.06.94-2.06 2.06-.94-2.06-.94-.94-2.06-.94 2.06-2.06.94z\"/><path d=\"M17.41 7.96l-1.37-1.37c-.4-.4-.92-.59-1.43-.59-.52 0-1.04.2-1.43.59L10.3 9.45l-7.72 7.72c-.78.78-.78 2.05 0 2.83L4 21.41c.39.39.9.59 1.41.59.51 0 1.02-.2 1.41-.59l7.78-7.78 2.81-2.81c.8-.78.8-2.07 0-2.86zM5.41 20L4 18.59l7.72-7.72 1.47 1.35L5.41 20z\"/>\n",
              "  </svg>\n",
              "      </button>\n",
              "      \n",
              "  <style>\n",
              "    .colab-df-container {\n",
              "      display:flex;\n",
              "      flex-wrap:wrap;\n",
              "      gap: 12px;\n",
              "    }\n",
              "\n",
              "    .colab-df-convert {\n",
              "      background-color: #E8F0FE;\n",
              "      border: none;\n",
              "      border-radius: 50%;\n",
              "      cursor: pointer;\n",
              "      display: none;\n",
              "      fill: #1967D2;\n",
              "      height: 32px;\n",
              "      padding: 0 0 0 0;\n",
              "      width: 32px;\n",
              "    }\n",
              "\n",
              "    .colab-df-convert:hover {\n",
              "      background-color: #E2EBFA;\n",
              "      box-shadow: 0px 1px 2px rgba(60, 64, 67, 0.3), 0px 1px 3px 1px rgba(60, 64, 67, 0.15);\n",
              "      fill: #174EA6;\n",
              "    }\n",
              "\n",
              "    [theme=dark] .colab-df-convert {\n",
              "      background-color: #3B4455;\n",
              "      fill: #D2E3FC;\n",
              "    }\n",
              "\n",
              "    [theme=dark] .colab-df-convert:hover {\n",
              "      background-color: #434B5C;\n",
              "      box-shadow: 0px 1px 3px 1px rgba(0, 0, 0, 0.15);\n",
              "      filter: drop-shadow(0px 1px 2px rgba(0, 0, 0, 0.3));\n",
              "      fill: #FFFFFF;\n",
              "    }\n",
              "  </style>\n",
              "\n",
              "      <script>\n",
              "        const buttonEl =\n",
              "          document.querySelector('#df-66ef65af-4218-4363-9539-f7ff1aa4d011 button.colab-df-convert');\n",
              "        buttonEl.style.display =\n",
              "          google.colab.kernel.accessAllowed ? 'block' : 'none';\n",
              "\n",
              "        async function convertToInteractive(key) {\n",
              "          const element = document.querySelector('#df-66ef65af-4218-4363-9539-f7ff1aa4d011');\n",
              "          const dataTable =\n",
              "            await google.colab.kernel.invokeFunction('convertToInteractive',\n",
              "                                                     [key], {});\n",
              "          if (!dataTable) return;\n",
              "\n",
              "          const docLinkHtml = 'Like what you see? Visit the ' +\n",
              "            '<a target=\"_blank\" href=https://colab.research.google.com/notebooks/data_table.ipynb>data table notebook</a>'\n",
              "            + ' to learn more about interactive tables.';\n",
              "          element.innerHTML = '';\n",
              "          dataTable['output_type'] = 'display_data';\n",
              "          await google.colab.output.renderOutput(dataTable, element);\n",
              "          const docLink = document.createElement('div');\n",
              "          docLink.innerHTML = docLinkHtml;\n",
              "          element.appendChild(docLink);\n",
              "        }\n",
              "      </script>\n",
              "    </div>\n",
              "  </div>\n",
              "  "
            ]
          },
          "metadata": {}
        }
      ]
    },
    {
      "cell_type": "markdown",
      "metadata": {
        "id": "OYImHz_G-nQa"
      },
      "source": [
        "### Métodos importantes para Análisis de Datos\n",
        "* Sobre `Series`: se heredan métodos de NumPy. Por ejemplo: `datos[variable].mean()`\n",
        "* Métodos adicionales de `Series`:\n",
        "  * `value_counts()`: contar veces que se repiten categorías en una variable categórica.\n",
        "  * `sort_values()`: ordenar valores de menor a mayor, se puede incorporar parámetro `ascending=False`. \n",
        "* Métodos para `DataFrame`s:\n",
        "  * `sort_values(lista_variables)`: ordenar base de datos según variable(s) en específico.\n",
        "  * `drop(columns = lista_variables)`: eliminar variables de base de datos.\n",
        "  * `isna().sum()`: utilizado para ver cantidad de datos faltantes por variable.\n",
        "  * `dropna()`: eliminar filas con datos faltantes.\n",
        "  * `drop_duplicates()`: eliminar filas que se encuentren duplicadas.\n",
        "  * `groupby(lista_columnas)`: Agrupar base de datos según variable. Se suele acompañar del método `agg`.\n",
        "  * `agg(lista_resumenes)`: Mostrar estadísticas de resumen para datos agrupados previamente por método `groupby` (opcional).\n",
        "  * Resúmenes para el método `agg`: Pueden ser funciones de `NumPy` o `\"mean\"`, `\"std\"`, `\"median\"`, `\"count\"`, etc."
      ]
    },
    {
      "cell_type": "code",
      "source": [
        "data_bitcoin.isna().sum().plot.bar()"
      ],
      "metadata": {
        "colab": {
          "base_uri": "https://localhost:8080/",
          "height": 319
        },
        "id": "UcyqGotsgizY",
        "outputId": "b4ea6203-e118-4708-8932-978db2d6cd66"
      },
      "execution_count": null,
      "outputs": [
        {
          "output_type": "execute_result",
          "data": {
            "text/plain": [
              "<matplotlib.axes._subplots.AxesSubplot at 0x7f9b139d0790>"
            ]
          },
          "metadata": {},
          "execution_count": 97
        },
        {
          "output_type": "display_data",
          "data": {
            "text/plain": [
              "<Figure size 432x288 with 1 Axes>"
            ],
            "image/png": "[encoded data removed]"
          },
          "metadata": {
            "needs_background": "light"
          }
        }
      ]
    },
    {
      "cell_type": "code",
      "source": [
        "display(data_bitcoin.sort_values([\"High\"])) # de menor a mayor\n",
        "print(\"====================\")\n",
        "display(data_bitcoin.sort_values([\"High\"], ascending=False)) # de mayor a menor\n"
      ],
      "metadata": {
        "colab": {
          "base_uri": "https://localhost:8080/",
          "height": 847
        },
        "id": "aTnxPyVPhJgI",
        "outputId": "51fb3eeb-5d0a-410f-f2ba-c27eff295fe2"
      },
      "execution_count": null,
      "outputs": [
        {
          "output_type": "display_data",
          "data": {
            "text/plain": [
              "           Date          Open          High           Low         Close  \\\n",
              "122  2015-01-17    207.834000    211.731003    194.875000    199.259995   \n",
              "125  2015-01-20    212.906998    215.240997    205.153000    211.315002   \n",
              "124  2015-01-19    211.470993    216.727997    207.317993    214.860992   \n",
              "123  2015-01-18    200.050003    218.695007    194.505997    210.339005   \n",
              "121  2015-01-16    209.070007    221.591003    199.770996    208.097000   \n",
              "...         ...           ...           ...           ...           ...   \n",
              "2590 2021-10-20  64284.585938  66930.390625  63610.675781  65992.835938   \n",
              "2609 2021-11-08  63344.066406  67673.742188  63344.066406  67566.828125   \n",
              "2610 2021-11-09  67549.734375  68530.335938  66382.062500  66971.828125   \n",
              "2611 2021-11-10  66953.335938  68789.625000  63208.113281  64995.230469   \n",
              "2869 2022-07-26           NaN           NaN           NaN           NaN   \n",
              "\n",
              "         Adj Close        Volume          Var  \n",
              "122     199.259995  2.346970e+07    16.856003  \n",
              "125     211.315002  2.405110e+07    10.087997  \n",
              "124     214.860992  1.865830e+07     9.410004  \n",
              "123     210.339005  3.008510e+07    24.189010  \n",
              "121     208.097000  3.842100e+07    21.820007  \n",
              "...            ...           ...          ...  \n",
              "2590  65992.835938  4.078896e+10  3319.714844  \n",
              "2609  67566.828125  4.112561e+10  4329.675782  \n",
              "2610  66971.828125  4.235799e+10  2148.273438  \n",
              "2611  64995.230469  4.873083e+10  5581.511719  \n",
              "2869           NaN           NaN          NaN  \n",
              "\n",
              "[2870 rows x 8 columns]"
            ],
            "text/html": [
              "\n",
              "  <div id=\"df-68564da2-a600-4296-bbec-47569ee1762b\">\n",
              "    <div class=\"colab-df-container\">\n",
              "      <div>\n",
              "<style scoped>\n",
              "    .dataframe tbody tr th:only-of-type {\n",
              "        vertical-align: middle;\n",
              "    }\n",
              "\n",
              "    .dataframe tbody tr th {\n",
              "        vertical-align: top;\n",
              "    }\n",
              "\n",
              "    .dataframe thead th {\n",
              "        text-align: right;\n",
              "    }\n",
              "</style>\n",
              "<table border=\"1\" class=\"dataframe\">\n",
              "  <thead>\n",
              "    <tr style=\"text-align: right;\">\n",
              "      <th></th>\n",
              "      <th>Date</th>\n",
              "      <th>Open</th>\n",
              "      <th>High</th>\n",
              "      <th>Low</th>\n",
              "      <th>Close</th>\n",
              "      <th>Adj Close</th>\n",
              "      <th>Volume</th>\n",
              "      <th>Var</th>\n",
              "    </tr>\n",
              "  </thead>\n",
              "  <tbody>\n",
              "    <tr>\n",
              "      <th>122</th>\n",
              "      <td>2015-01-17</td>\n",
              "      <td>207.834000</td>\n",
              "      <td>211.731003</td>\n",
              "      <td>194.875000</td>\n",
              "      <td>199.259995</td>\n",
              "      <td>199.259995</td>\n",
              "      <td>2.346970e+07</td>\n",
              "      <td>16.856003</td>\n",
              "    </tr>\n",
              "    <tr>\n",
              "      <th>125</th>\n",
              "      <td>2015-01-20</td>\n",
              "      <td>212.906998</td>\n",
              "      <td>215.240997</td>\n",
              "      <td>205.153000</td>\n",
              "      <td>211.315002</td>\n",
              "      <td>211.315002</td>\n",
              "      <td>2.405110e+07</td>\n",
              "      <td>10.087997</td>\n",
              "    </tr>\n",
              "    <tr>\n",
              "      <th>124</th>\n",
              "      <td>2015-01-19</td>\n",
              "      <td>211.470993</td>\n",
              "      <td>216.727997</td>\n",
              "      <td>207.317993</td>\n",
              "      <td>214.860992</td>\n",
              "      <td>214.860992</td>\n",
              "      <td>1.865830e+07</td>\n",
              "      <td>9.410004</td>\n",
              "    </tr>\n",
              "    <tr>\n",
              "      <th>123</th>\n",
              "      <td>2015-01-18</td>\n",
              "      <td>200.050003</td>\n",
              "      <td>218.695007</td>\n",
              "      <td>194.505997</td>\n",
              "      <td>210.339005</td>\n",
              "      <td>210.339005</td>\n",
              "      <td>3.008510e+07</td>\n",
              "      <td>24.189010</td>\n",
              "    </tr>\n",
              "    <tr>\n",
              "      <th>121</th>\n",
              "      <td>2015-01-16</td>\n",
              "      <td>209.070007</td>\n",
              "      <td>221.591003</td>\n",
              "      <td>199.770996</td>\n",
              "      <td>208.097000</td>\n",
              "      <td>208.097000</td>\n",
              "      <td>3.842100e+07</td>\n",
              "      <td>21.820007</td>\n",
              "    </tr>\n",
              "    <tr>\n",
              "      <th>...</th>\n",
              "      <td>...</td>\n",
              "      <td>...</td>\n",
              "      <td>...</td>\n",
              "      <td>...</td>\n",
              "      <td>...</td>\n",
              "      <td>...</td>\n",
              "      <td>...</td>\n",
              "      <td>...</td>\n",
              "    </tr>\n",
              "    <tr>\n",
              "      <th>2590</th>\n",
              "      <td>2021-10-20</td>\n",
              "      <td>64284.585938</td>\n",
              "      <td>66930.390625</td>\n",
              "      <td>63610.675781</td>\n",
              "      <td>65992.835938</td>\n",
              "      <td>65992.835938</td>\n",
              "      <td>4.078896e+10</td>\n",
              "      <td>3319.714844</td>\n",
              "    </tr>\n",
              "    <tr>\n",
              "      <th>2609</th>\n",
              "      <td>2021-11-08</td>\n",
              "      <td>63344.066406</td>\n",
              "      <td>67673.742188</td>\n",
              "      <td>63344.066406</td>\n",
              "      <td>67566.828125</td>\n",
              "      <td>67566.828125</td>\n",
              "      <td>4.112561e+10</td>\n",
              "      <td>4329.675782</td>\n",
              "    </tr>\n",
              "    <tr>\n",
              "      <th>2610</th>\n",
              "      <td>2021-11-09</td>\n",
              "      <td>67549.734375</td>\n",
              "      <td>68530.335938</td>\n",
              "      <td>66382.062500</td>\n",
              "      <td>66971.828125</td>\n",
              "      <td>66971.828125</td>\n",
              "      <td>4.235799e+10</td>\n",
              "      <td>2148.273438</td>\n",
              "    </tr>\n",
              "    <tr>\n",
              "      <th>2611</th>\n",
              "      <td>2021-11-10</td>\n",
              "      <td>66953.335938</td>\n",
              "      <td>68789.625000</td>\n",
              "      <td>63208.113281</td>\n",
              "      <td>64995.230469</td>\n",
              "      <td>64995.230469</td>\n",
              "      <td>4.873083e+10</td>\n",
              "      <td>5581.511719</td>\n",
              "    </tr>\n",
              "    <tr>\n",
              "      <th>2869</th>\n",
              "      <td>2022-07-26</td>\n",
              "      <td>NaN</td>\n",
              "      <td>NaN</td>\n",
              "      <td>NaN</td>\n",
              "      <td>NaN</td>\n",
              "      <td>NaN</td>\n",
              "      <td>NaN</td>\n",
              "      <td>NaN</td>\n",
              "    </tr>\n",
              "  </tbody>\n",
              "</table>\n",
              "<p>2870 rows × 8 columns</p>\n",
              "</div>\n",
              "      <button class=\"colab-df-convert\" onclick=\"convertToInteractive('df-68564da2-a600-4296-bbec-47569ee1762b')\"\n",
              "              title=\"Convert this dataframe to an interactive table.\"\n",
              "              style=\"display:none;\">\n",
              "        \n",
              "  <svg xmlns=\"http://www.w3.org/2000/svg\" height=\"24px\"viewBox=\"0 0 24 24\"\n",
              "       width=\"24px\">\n",
              "    <path d=\"M0 0h24v24H0V0z\" fill=\"none\"/>\n",
              "    <path d=\"M18.56 5.44l.94 2.06.94-2.06 2.06-.94-2.06-.94-.94-2.06-.94 2.06-2.06.94zm-11 1L8.5 8.5l.94-2.06 2.06-.94-2.06-.94L8.5 2.5l-.94 2.06-2.06.94zm10 10l.94 2.06.94-2.06 2.06-.94-2.06-.94-.94-2.06-.94 2.06-2.06.94z\"/><path d=\"M17.41 7.96l-1.37-1.37c-.4-.4-.92-.59-1.43-.59-.52 0-1.04.2-1.43.59L10.3 9.45l-7.72 7.72c-.78.78-.78 2.05 0 2.83L4 21.41c.39.39.9.59 1.41.59.51 0 1.02-.2 1.41-.59l7.78-7.78 2.81-2.81c.8-.78.8-2.07 0-2.86zM5.41 20L4 18.59l7.72-7.72 1.47 1.35L5.41 20z\"/>\n",
              "  </svg>\n",
              "      </button>\n",
              "      \n",
              "  <style>\n",
              "    .colab-df-container {\n",
              "      display:flex;\n",
              "      flex-wrap:wrap;\n",
              "      gap: 12px;\n",
              "    }\n",
              "\n",
              "    .colab-df-convert {\n",
              "      background-color: #E8F0FE;\n",
              "      border: none;\n",
              "      border-radius: 50%;\n",
              "      cursor: pointer;\n",
              "      display: none;\n",
              "      fill: #1967D2;\n",
              "      height: 32px;\n",
              "      padding: 0 0 0 0;\n",
              "      width: 32px;\n",
              "    }\n",
              "\n",
              "    .colab-df-convert:hover {\n",
              "      background-color: #E2EBFA;\n",
              "      box-shadow: 0px 1px 2px rgba(60, 64, 67, 0.3), 0px 1px 3px 1px rgba(60, 64, 67, 0.15);\n",
              "      fill: #174EA6;\n",
              "    }\n",
              "\n",
              "    [theme=dark] .colab-df-convert {\n",
              "      background-color: #3B4455;\n",
              "      fill: #D2E3FC;\n",
              "    }\n",
              "\n",
              "    [theme=dark] .colab-df-convert:hover {\n",
              "      background-color: #434B5C;\n",
              "      box-shadow: 0px 1px 3px 1px rgba(0, 0, 0, 0.15);\n",
              "      filter: drop-shadow(0px 1px 2px rgba(0, 0, 0, 0.3));\n",
              "      fill: #FFFFFF;\n",
              "    }\n",
              "  </style>\n",
              "\n",
              "      <script>\n",
              "        const buttonEl =\n",
              "          document.querySelector('#df-68564da2-a600-4296-bbec-47569ee1762b button.colab-df-convert');\n",
              "        buttonEl.style.display =\n",
              "          google.colab.kernel.accessAllowed ? 'block' : 'none';\n",
              "\n",
              "        async function convertToInteractive(key) {\n",
              "          const element = document.querySelector('#df-68564da2-a600-4296-bbec-47569ee1762b');\n",
              "          const dataTable =\n",
              "            await google.colab.kernel.invokeFunction('convertToInteractive',\n",
              "                                                     [key], {});\n",
              "          if (!dataTable) return;\n",
              "\n",
              "          const docLinkHtml = 'Like what you see? Visit the ' +\n",
              "            '<a target=\"_blank\" href=https://colab.research.google.com/notebooks/data_table.ipynb>data table notebook</a>'\n",
              "            + ' to learn more about interactive tables.';\n",
              "          element.innerHTML = '';\n",
              "          dataTable['output_type'] = 'display_data';\n",
              "          await google.colab.output.renderOutput(dataTable, element);\n",
              "          const docLink = document.createElement('div');\n",
              "          docLink.innerHTML = docLinkHtml;\n",
              "          element.appendChild(docLink);\n",
              "        }\n",
              "      </script>\n",
              "    </div>\n",
              "  </div>\n",
              "  "
            ]
          },
          "metadata": {}
        },
        {
          "output_type": "stream",
          "name": "stdout",
          "text": [
            "====================\n"
          ]
        },
        {
          "output_type": "display_data",
          "data": {
            "text/plain": [
              "           Date          Open          High           Low         Close  \\\n",
              "2611 2021-11-10  66953.335938  68789.625000  63208.113281  64995.230469   \n",
              "2610 2021-11-09  67549.734375  68530.335938  66382.062500  66971.828125   \n",
              "2609 2021-11-08  63344.066406  67673.742188  63344.066406  67566.828125   \n",
              "2590 2021-10-20  64284.585938  66930.390625  63610.675781  65992.835938   \n",
              "2591 2021-10-21  66002.234375  66600.546875  62117.410156  62210.171875   \n",
              "...         ...           ...           ...           ...           ...   \n",
              "123  2015-01-18    200.050003    218.695007    194.505997    210.339005   \n",
              "124  2015-01-19    211.470993    216.727997    207.317993    214.860992   \n",
              "125  2015-01-20    212.906998    215.240997    205.153000    211.315002   \n",
              "122  2015-01-17    207.834000    211.731003    194.875000    199.259995   \n",
              "2869 2022-07-26           NaN           NaN           NaN           NaN   \n",
              "\n",
              "         Adj Close        Volume          Var  \n",
              "2611  64995.230469  4.873083e+10  5581.511719  \n",
              "2610  66971.828125  4.235799e+10  2148.273438  \n",
              "2609  67566.828125  4.112561e+10  4329.675782  \n",
              "2590  65992.835938  4.078896e+10  3319.714844  \n",
              "2591  62210.171875  4.590812e+10  4483.136719  \n",
              "...            ...           ...          ...  \n",
              "123     210.339005  3.008510e+07    24.189010  \n",
              "124     214.860992  1.865830e+07     9.410004  \n",
              "125     211.315002  2.405110e+07    10.087997  \n",
              "122     199.259995  2.346970e+07    16.856003  \n",
              "2869           NaN           NaN          NaN  \n",
              "\n",
              "[2870 rows x 8 columns]"
            ],
            "text/html": [
              "\n",
              "  <div id=\"df-92bc80bc-adba-4d3c-a442-77ac5110e030\">\n",
              "    <div class=\"colab-df-container\">\n",
              "      <div>\n",
              "<style scoped>\n",
              "    .dataframe tbody tr th:only-of-type {\n",
              "        vertical-align: middle;\n",
              "    }\n",
              "\n",
              "    .dataframe tbody tr th {\n",
              "        vertical-align: top;\n",
              "    }\n",
              "\n",
              "    .dataframe thead th {\n",
              "        text-align: right;\n",
              "    }\n",
              "</style>\n",
              "<table border=\"1\" class=\"dataframe\">\n",
              "  <thead>\n",
              "    <tr style=\"text-align: right;\">\n",
              "      <th></th>\n",
              "      <th>Date</th>\n",
              "      <th>Open</th>\n",
              "      <th>High</th>\n",
              "      <th>Low</th>\n",
              "      <th>Close</th>\n",
              "      <th>Adj Close</th>\n",
              "      <th>Volume</th>\n",
              "      <th>Var</th>\n",
              "    </tr>\n",
              "  </thead>\n",
              "  <tbody>\n",
              "    <tr>\n",
              "      <th>2611</th>\n",
              "      <td>2021-11-10</td>\n",
              "      <td>66953.335938</td>\n",
              "      <td>68789.625000</td>\n",
              "      <td>63208.113281</td>\n",
              "      <td>64995.230469</td>\n",
              "      <td>64995.230469</td>\n",
              "      <td>4.873083e+10</td>\n",
              "      <td>5581.511719</td>\n",
              "    </tr>\n",
              "    <tr>\n",
              "      <th>2610</th>\n",
              "      <td>2021-11-09</td>\n",
              "      <td>67549.734375</td>\n",
              "      <td>68530.335938</td>\n",
              "      <td>66382.062500</td>\n",
              "      <td>66971.828125</td>\n",
              "      <td>66971.828125</td>\n",
              "      <td>4.235799e+10</td>\n",
              "      <td>2148.273438</td>\n",
              "    </tr>\n",
              "    <tr>\n",
              "      <th>2609</th>\n",
              "      <td>2021-11-08</td>\n",
              "      <td>63344.066406</td>\n",
              "      <td>67673.742188</td>\n",
              "      <td>63344.066406</td>\n",
              "      <td>67566.828125</td>\n",
              "      <td>67566.828125</td>\n",
              "      <td>4.112561e+10</td>\n",
              "      <td>4329.675782</td>\n",
              "    </tr>\n",
              "    <tr>\n",
              "      <th>2590</th>\n",
              "      <td>2021-10-20</td>\n",
              "      <td>64284.585938</td>\n",
              "      <td>66930.390625</td>\n",
              "      <td>63610.675781</td>\n",
              "      <td>65992.835938</td>\n",
              "      <td>65992.835938</td>\n",
              "      <td>4.078896e+10</td>\n",
              "      <td>3319.714844</td>\n",
              "    </tr>\n",
              "    <tr>\n",
              "      <th>2591</th>\n",
              "      <td>2021-10-21</td>\n",
              "      <td>66002.234375</td>\n",
              "      <td>66600.546875</td>\n",
              "      <td>62117.410156</td>\n",
              "      <td>62210.171875</td>\n",
              "      <td>62210.171875</td>\n",
              "      <td>4.590812e+10</td>\n",
              "      <td>4483.136719</td>\n",
              "    </tr>\n",
              "    <tr>\n",
              "      <th>...</th>\n",
              "      <td>...</td>\n",
              "      <td>...</td>\n",
              "      <td>...</td>\n",
              "      <td>...</td>\n",
              "      <td>...</td>\n",
              "      <td>...</td>\n",
              "      <td>...</td>\n",
              "      <td>...</td>\n",
              "    </tr>\n",
              "    <tr>\n",
              "      <th>123</th>\n",
              "      <td>2015-01-18</td>\n",
              "      <td>200.050003</td>\n",
              "      <td>218.695007</td>\n",
              "      <td>194.505997</td>\n",
              "      <td>210.339005</td>\n",
              "      <td>210.339005</td>\n",
              "      <td>3.008510e+07</td>\n",
              "      <td>24.189010</td>\n",
              "    </tr>\n",
              "    <tr>\n",
              "      <th>124</th>\n",
              "      <td>2015-01-19</td>\n",
              "      <td>211.470993</td>\n",
              "      <td>216.727997</td>\n",
              "      <td>207.317993</td>\n",
              "      <td>214.860992</td>\n",
              "      <td>214.860992</td>\n",
              "      <td>1.865830e+07</td>\n",
              "      <td>9.410004</td>\n",
              "    </tr>\n",
              "    <tr>\n",
              "      <th>125</th>\n",
              "      <td>2015-01-20</td>\n",
              "      <td>212.906998</td>\n",
              "      <td>215.240997</td>\n",
              "      <td>205.153000</td>\n",
              "      <td>211.315002</td>\n",
              "      <td>211.315002</td>\n",
              "      <td>2.405110e+07</td>\n",
              "      <td>10.087997</td>\n",
              "    </tr>\n",
              "    <tr>\n",
              "      <th>122</th>\n",
              "      <td>2015-01-17</td>\n",
              "      <td>207.834000</td>\n",
              "      <td>211.731003</td>\n",
              "      <td>194.875000</td>\n",
              "      <td>199.259995</td>\n",
              "      <td>199.259995</td>\n",
              "      <td>2.346970e+07</td>\n",
              "      <td>16.856003</td>\n",
              "    </tr>\n",
              "    <tr>\n",
              "      <th>2869</th>\n",
              "      <td>2022-07-26</td>\n",
              "      <td>NaN</td>\n",
              "      <td>NaN</td>\n",
              "      <td>NaN</td>\n",
              "      <td>NaN</td>\n",
              "      <td>NaN</td>\n",
              "      <td>NaN</td>\n",
              "      <td>NaN</td>\n",
              "    </tr>\n",
              "  </tbody>\n",
              "</table>\n",
              "<p>2870 rows × 8 columns</p>\n",
              "</div>\n",
              "      <button class=\"colab-df-convert\" onclick=\"convertToInteractive('df-92bc80bc-adba-4d3c-a442-77ac5110e030')\"\n",
              "              title=\"Convert this dataframe to an interactive table.\"\n",
              "              style=\"display:none;\">\n",
              "        \n",
              "  <svg xmlns=\"http://www.w3.org/2000/svg\" height=\"24px\"viewBox=\"0 0 24 24\"\n",
              "       width=\"24px\">\n",
              "    <path d=\"M0 0h24v24H0V0z\" fill=\"none\"/>\n",
              "    <path d=\"M18.56 5.44l.94 2.06.94-2.06 2.06-.94-2.06-.94-.94-2.06-.94 2.06-2.06.94zm-11 1L8.5 8.5l.94-2.06 2.06-.94-2.06-.94L8.5 2.5l-.94 2.06-2.06.94zm10 10l.94 2.06.94-2.06 2.06-.94-2.06-.94-.94-2.06-.94 2.06-2.06.94z\"/><path d=\"M17.41 7.96l-1.37-1.37c-.4-.4-.92-.59-1.43-.59-.52 0-1.04.2-1.43.59L10.3 9.45l-7.72 7.72c-.78.78-.78 2.05 0 2.83L4 21.41c.39.39.9.59 1.41.59.51 0 1.02-.2 1.41-.59l7.78-7.78 2.81-2.81c.8-.78.8-2.07 0-2.86zM5.41 20L4 18.59l7.72-7.72 1.47 1.35L5.41 20z\"/>\n",
              "  </svg>\n",
              "      </button>\n",
              "      \n",
              "  <style>\n",
              "    .colab-df-container {\n",
              "      display:flex;\n",
              "      flex-wrap:wrap;\n",
              "      gap: 12px;\n",
              "    }\n",
              "\n",
              "    .colab-df-convert {\n",
              "      background-color: #E8F0FE;\n",
              "      border: none;\n",
              "      border-radius: 50%;\n",
              "      cursor: pointer;\n",
              "      display: none;\n",
              "      fill: #1967D2;\n",
              "      height: 32px;\n",
              "      padding: 0 0 0 0;\n",
              "      width: 32px;\n",
              "    }\n",
              "\n",
              "    .colab-df-convert:hover {\n",
              "      background-color: #E2EBFA;\n",
              "      box-shadow: 0px 1px 2px rgba(60, 64, 67, 0.3), 0px 1px 3px 1px rgba(60, 64, 67, 0.15);\n",
              "      fill: #174EA6;\n",
              "    }\n",
              "\n",
              "    [theme=dark] .colab-df-convert {\n",
              "      background-color: #3B4455;\n",
              "      fill: #D2E3FC;\n",
              "    }\n",
              "\n",
              "    [theme=dark] .colab-df-convert:hover {\n",
              "      background-color: #434B5C;\n",
              "      box-shadow: 0px 1px 3px 1px rgba(0, 0, 0, 0.15);\n",
              "      filter: drop-shadow(0px 1px 2px rgba(0, 0, 0, 0.3));\n",
              "      fill: #FFFFFF;\n",
              "    }\n",
              "  </style>\n",
              "\n",
              "      <script>\n",
              "        const buttonEl =\n",
              "          document.querySelector('#df-92bc80bc-adba-4d3c-a442-77ac5110e030 button.colab-df-convert');\n",
              "        buttonEl.style.display =\n",
              "          google.colab.kernel.accessAllowed ? 'block' : 'none';\n",
              "\n",
              "        async function convertToInteractive(key) {\n",
              "          const element = document.querySelector('#df-92bc80bc-adba-4d3c-a442-77ac5110e030');\n",
              "          const dataTable =\n",
              "            await google.colab.kernel.invokeFunction('convertToInteractive',\n",
              "                                                     [key], {});\n",
              "          if (!dataTable) return;\n",
              "\n",
              "          const docLinkHtml = 'Like what you see? Visit the ' +\n",
              "            '<a target=\"_blank\" href=https://colab.research.google.com/notebooks/data_table.ipynb>data table notebook</a>'\n",
              "            + ' to learn more about interactive tables.';\n",
              "          element.innerHTML = '';\n",
              "          dataTable['output_type'] = 'display_data';\n",
              "          await google.colab.output.renderOutput(dataTable, element);\n",
              "          const docLink = document.createElement('div');\n",
              "          docLink.innerHTML = docLinkHtml;\n",
              "          element.appendChild(docLink);\n",
              "        }\n",
              "      </script>\n",
              "    </div>\n",
              "  </div>\n",
              "  "
            ]
          },
          "metadata": {}
        }
      ]
    },
    {
      "cell_type": "markdown",
      "metadata": {
        "id": "IQQ_pUYg-nQb"
      },
      "source": [
        "### Visualización de datos desde un DataFrame.\n",
        "* Se debe agregar método `plot` y dentro de este, las variables a graficar entre comillas.\n",
        "* Algunos tipos de gráficos disponibles desde el método: `bar`, `density`, `hist`, `kde`, `line`, `pie`, `scatter`, etc."
      ]
    },
    {
      "cell_type": "code",
      "execution_count": null,
      "metadata": {
        "id": "g9ThO-SD-nQb",
        "colab": {
          "base_uri": "https://localhost:8080/",
          "height": 296
        },
        "outputId": "8e0ae47b-bf4a-441a-cc4a-ddbffb0355cc"
      },
      "outputs": [
        {
          "output_type": "execute_result",
          "data": {
            "text/plain": [
              "<matplotlib.axes._subplots.AxesSubplot at 0x7f9b132fc290>"
            ]
          },
          "metadata": {},
          "execution_count": 101
        },
        {
          "output_type": "display_data",
          "data": {
            "text/plain": [
              "<Figure size 432x288 with 1 Axes>"
            ],
            "image/png": "[encoded data removed]"
          },
          "metadata": {
            "needs_background": "light"
          }
        }
      ],
      "source": [
        "# Ejemplo de gráfico de líneas: Gráficar variable High en el tiempo.\n",
        "data_bitcoin.plot.line(x=\"Date\", y=\"High\")"
      ]
    },
    {
      "cell_type": "markdown",
      "metadata": {
        "id": "SxniJ2Bw-nQb"
      },
      "source": [
        "### Visualización de datos desde un iterable\n",
        "\n",
        "<img src=\"https://interactivechaos.com/sites/default/files/inline-images/tutorial_matplotlib.png\" width=\"500px\">\n",
        "\n",
        "* Para ello debemos importar la librería `matplotlib`, que nos ofrece una amplia colección de módulos para realizar gráficos.\n",
        "* Por convención se importa el módulo `pyplot` de `matplotlib` con el alias `plt`.\n",
        "* Nos permite acceder a distintos tipos de gráficos desde el comando `plt`. Podemos indicar iterables como `array`s, `Series` (se transforman a `array`s internamente) y `listas`. "
      ]
    },
    {
      "cell_type": "code",
      "execution_count": null,
      "metadata": {
        "id": "uu1S_AzR-nQb",
        "colab": {
          "base_uri": "https://localhost:8080/",
          "height": 282
        },
        "outputId": "ac663251-1163-4061-a9e3-e65ada314bc0"
      },
      "outputs": [
        {
          "output_type": "execute_result",
          "data": {
            "text/plain": [
              "<BarContainer object of 3 artists>"
            ]
          },
          "metadata": {},
          "execution_count": 106
        },
        {
          "output_type": "display_data",
          "data": {
            "text/plain": [
              "<Figure size 432x288 with 1 Axes>"
            ],
            "image/png": "[encoded data removed]"
          },
          "metadata": {
            "needs_background": "light"
          }
        }
      ],
      "source": [
        "import matplotlib.pyplot as plt\n",
        "opciones = ['Si', 'No', 'No lo sé']\n",
        "cantidad = [20, 15, 10]\n",
        "# Graficar barras de una encuestra sobre si esta de acuerdo sobre la aprobación de cierta ley.\n",
        "plt.bar(opciones, cantidad)"
      ]
    },
    {
      "cell_type": "markdown",
      "metadata": {
        "id": "5NZYA6OK-nQb"
      },
      "source": [
        "## Actividad Práctica"
      ]
    },
    {
      "cell_type": "markdown",
      "metadata": {
        "id": "3QIeDaUY-nQb"
      },
      "source": [
        "### Pregunta 1\n",
        "Ingrese en su entorno de trabajo la base de datos `Sample - Superstore.xls` disponible en el siguiente [link](https://github.com/estebanrucan/taller-python/raw/master/data/Sample%20-%20Superstore.xls)."
      ]
    },
    {
      "cell_type": "code",
      "execution_count": 1,
      "metadata": {
        "id": "9b6GkU84-nQb"
      },
      "outputs": [],
      "source": [
        "# Desarrollo Pregunta 1\n",
        "\n",
        "# Ponga base de datos en directorio de trabajo, no realice este paso si utiliza el link directamente"
      ]
    },
    {
      "cell_type": "markdown",
      "metadata": {
        "id": "ym8PfVEi-nQb"
      },
      "source": [
        "### Pregunta 2\n",
        "Cargue la base de datos en una variable llamada `cadena_usa`."
      ]
    },
    {
      "cell_type": "code",
      "execution_count": 2,
      "metadata": {
        "id": "ZmxhteKR-nQc",
        "colab": {
          "base_uri": "https://localhost:8080/",
          "height": 630
        },
        "outputId": "cf3c13a6-d44f-4397-aedf-c9f992c7098d"
      },
      "outputs": [
        {
          "output_type": "execute_result",
          "data": {
            "text/plain": [
              "   Row ID        Order ID Order Date  Ship Date       Ship Mode Customer ID  \\\n",
              "0       1  CA-2016-152156 2016-11-08 2016-11-11    Second Class    CG-12520   \n",
              "1       2  CA-2016-152156 2016-11-08 2016-11-11    Second Class    CG-12520   \n",
              "2       3  CA-2016-138688 2016-06-12 2016-06-16    Second Class    DV-13045   \n",
              "3       4  US-2015-108966 2015-10-11 2015-10-18  Standard Class    SO-20335   \n",
              "4       5  US-2015-108966 2015-10-11 2015-10-18  Standard Class    SO-20335   \n",
              "\n",
              "     Customer Name    Segment        Country             City  ...  \\\n",
              "0      Claire Gute   Consumer  United States        Henderson  ...   \n",
              "1      Claire Gute   Consumer  United States        Henderson  ...   \n",
              "2  Darrin Van Huff  Corporate  United States      Los Angeles  ...   \n",
              "3   Sean O'Donnell   Consumer  United States  Fort Lauderdale  ...   \n",
              "4   Sean O'Donnell   Consumer  United States  Fort Lauderdale  ...   \n",
              "\n",
              "  Postal Code  Region       Product ID         Category Sub-Category  \\\n",
              "0       42420   South  FUR-BO-10001798        Furniture    Bookcases   \n",
              "1       42420   South  FUR-CH-10000454        Furniture       Chairs   \n",
              "2       90036    West  OFF-LA-10000240  Office Supplies       Labels   \n",
              "3       33311   South  FUR-TA-10000577        Furniture       Tables   \n",
              "4       33311   South  OFF-ST-10000760  Office Supplies      Storage   \n",
              "\n",
              "                                        Product Name     Sales  Quantity  \\\n",
              "0                  Bush Somerset Collection Bookcase  261.9600         2   \n",
              "1  Hon Deluxe Fabric Upholstered Stacking Chairs,...  731.9400         3   \n",
              "2  Self-Adhesive Address Labels for Typewriters b...   14.6200         2   \n",
              "3      Bretford CR4500 Series Slim Rectangular Table  957.5775         5   \n",
              "4                     Eldon Fold 'N Roll Cart System   22.3680         2   \n",
              "\n",
              "   Discount    Profit  \n",
              "0      0.00   41.9136  \n",
              "1      0.00  219.5820  \n",
              "2      0.00    6.8714  \n",
              "3      0.45 -383.0310  \n",
              "4      0.20    2.5164  \n",
              "\n",
              "[5 rows x 21 columns]"
            ],
            "text/html": [
              "\n",
              "  <div id=\"df-0b3d5c75-b185-48f4-a8ad-47495db09335\">\n",
              "    <div class=\"colab-df-container\">\n",
              "      <div>\n",
              "<style scoped>\n",
              "    .dataframe tbody tr th:only-of-type {\n",
              "        vertical-align: middle;\n",
              "    }\n",
              "\n",
              "    .dataframe tbody tr th {\n",
              "        vertical-align: top;\n",
              "    }\n",
              "\n",
              "    .dataframe thead th {\n",
              "        text-align: right;\n",
              "    }\n",
              "</style>\n",
              "<table border=\"1\" class=\"dataframe\">\n",
              "  <thead>\n",
              "    <tr style=\"text-align: right;\">\n",
              "      <th></th>\n",
              "      <th>Row ID</th>\n",
              "      <th>Order ID</th>\n",
              "      <th>Order Date</th>\n",
              "      <th>Ship Date</th>\n",
              "      <th>Ship Mode</th>\n",
              "      <th>Customer ID</th>\n",
              "      <th>Customer Name</th>\n",
              "      <th>Segment</th>\n",
              "      <th>Country</th>\n",
              "      <th>City</th>\n",
              "      <th>...</th>\n",
              "      <th>Postal Code</th>\n",
              "      <th>Region</th>\n",
              "      <th>Product ID</th>\n",
              "      <th>Category</th>\n",
              "      <th>Sub-Category</th>\n",
              "      <th>Product Name</th>\n",
              "      <th>Sales</th>\n",
              "      <th>Quantity</th>\n",
              "      <th>Discount</th>\n",
              "      <th>Profit</th>\n",
              "    </tr>\n",
              "  </thead>\n",
              "  <tbody>\n",
              "    <tr>\n",
              "      <th>0</th>\n",
              "      <td>1</td>\n",
              "      <td>CA-2016-152156</td>\n",
              "      <td>2016-11-08</td>\n",
              "      <td>2016-11-11</td>\n",
              "      <td>Second Class</td>\n",
              "      <td>CG-12520</td>\n",
              "      <td>Claire Gute</td>\n",
              "      <td>Consumer</td>\n",
              "      <td>United States</td>\n",
              "      <td>Henderson</td>\n",
              "      <td>...</td>\n",
              "      <td>42420</td>\n",
              "      <td>South</td>\n",
              "      <td>FUR-BO-10001798</td>\n",
              "      <td>Furniture</td>\n",
              "      <td>Bookcases</td>\n",
              "      <td>Bush Somerset Collection Bookcase</td>\n",
              "      <td>261.9600</td>\n",
              "      <td>2</td>\n",
              "      <td>0.00</td>\n",
              "      <td>41.9136</td>\n",
              "    </tr>\n",
              "    <tr>\n",
              "      <th>1</th>\n",
              "      <td>2</td>\n",
              "      <td>CA-2016-152156</td>\n",
              "      <td>2016-11-08</td>\n",
              "      <td>2016-11-11</td>\n",
              "      <td>Second Class</td>\n",
              "      <td>CG-12520</td>\n",
              "      <td>Claire Gute</td>\n",
              "      <td>Consumer</td>\n",
              "      <td>United States</td>\n",
              "      <td>Henderson</td>\n",
              "      <td>...</td>\n",
              "      <td>42420</td>\n",
              "      <td>South</td>\n",
              "      <td>FUR-CH-10000454</td>\n",
              "      <td>Furniture</td>\n",
              "      <td>Chairs</td>\n",
              "      <td>Hon Deluxe Fabric Upholstered Stacking Chairs,...</td>\n",
              "      <td>731.9400</td>\n",
              "      <td>3</td>\n",
              "      <td>0.00</td>\n",
              "      <td>219.5820</td>\n",
              "    </tr>\n",
              "    <tr>\n",
              "      <th>2</th>\n",
              "      <td>3</td>\n",
              "      <td>CA-2016-138688</td>\n",
              "      <td>2016-06-12</td>\n",
              "      <td>2016-06-16</td>\n",
              "      <td>Second Class</td>\n",
              "      <td>DV-13045</td>\n",
              "      <td>Darrin Van Huff</td>\n",
              "      <td>Corporate</td>\n",
              "      <td>United States</td>\n",
              "      <td>Los Angeles</td>\n",
              "      <td>...</td>\n",
              "      <td>90036</td>\n",
              "      <td>West</td>\n",
              "      <td>OFF-LA-10000240</td>\n",
              "      <td>Office Supplies</td>\n",
              "      <td>Labels</td>\n",
              "      <td>Self-Adhesive Address Labels for Typewriters b...</td>\n",
              "      <td>14.6200</td>\n",
              "      <td>2</td>\n",
              "      <td>0.00</td>\n",
              "      <td>6.8714</td>\n",
              "    </tr>\n",
              "    <tr>\n",
              "      <th>3</th>\n",
              "      <td>4</td>\n",
              "      <td>US-2015-108966</td>\n",
              "      <td>2015-10-11</td>\n",
              "      <td>2015-10-18</td>\n",
              "      <td>Standard Class</td>\n",
              "      <td>SO-20335</td>\n",
              "      <td>Sean O'Donnell</td>\n",
              "      <td>Consumer</td>\n",
              "      <td>United States</td>\n",
              "      <td>Fort Lauderdale</td>\n",
              "      <td>...</td>\n",
              "      <td>33311</td>\n",
              "      <td>South</td>\n",
              "      <td>FUR-TA-10000577</td>\n",
              "      <td>Furniture</td>\n",
              "      <td>Tables</td>\n",
              "      <td>Bretford CR4500 Series Slim Rectangular Table</td>\n",
              "      <td>957.5775</td>\n",
              "      <td>5</td>\n",
              "      <td>0.45</td>\n",
              "      <td>-383.0310</td>\n",
              "    </tr>\n",
              "    <tr>\n",
              "      <th>4</th>\n",
              "      <td>5</td>\n",
              "      <td>US-2015-108966</td>\n",
              "      <td>2015-10-11</td>\n",
              "      <td>2015-10-18</td>\n",
              "      <td>Standard Class</td>\n",
              "      <td>SO-20335</td>\n",
              "      <td>Sean O'Donnell</td>\n",
              "      <td>Consumer</td>\n",
              "      <td>United States</td>\n",
              "      <td>Fort Lauderdale</td>\n",
              "      <td>...</td>\n",
              "      <td>33311</td>\n",
              "      <td>South</td>\n",
              "      <td>OFF-ST-10000760</td>\n",
              "      <td>Office Supplies</td>\n",
              "      <td>Storage</td>\n",
              "      <td>Eldon Fold 'N Roll Cart System</td>\n",
              "      <td>22.3680</td>\n",
              "      <td>2</td>\n",
              "      <td>0.20</td>\n",
              "      <td>2.5164</td>\n",
              "    </tr>\n",
              "  </tbody>\n",
              "</table>\n",
              "<p>5 rows × 21 columns</p>\n",
              "</div>\n",
              "      <button class=\"colab-df-convert\" onclick=\"convertToInteractive('df-0b3d5c75-b185-48f4-a8ad-47495db09335')\"\n",
              "              title=\"Convert this dataframe to an interactive table.\"\n",
              "              style=\"display:none;\">\n",
              "        \n",
              "  <svg xmlns=\"http://www.w3.org/2000/svg\" height=\"24px\"viewBox=\"0 0 24 24\"\n",
              "       width=\"24px\">\n",
              "    <path d=\"M0 0h24v24H0V0z\" fill=\"none\"/>\n",
              "    <path d=\"M18.56 5.44l.94 2.06.94-2.06 2.06-.94-2.06-.94-.94-2.06-.94 2.06-2.06.94zm-11 1L8.5 8.5l.94-2.06 2.06-.94-2.06-.94L8.5 2.5l-.94 2.06-2.06.94zm10 10l.94 2.06.94-2.06 2.06-.94-2.06-.94-.94-2.06-.94 2.06-2.06.94z\"/><path d=\"M17.41 7.96l-1.37-1.37c-.4-.4-.92-.59-1.43-.59-.52 0-1.04.2-1.43.59L10.3 9.45l-7.72 7.72c-.78.78-.78 2.05 0 2.83L4 21.41c.39.39.9.59 1.41.59.51 0 1.02-.2 1.41-.59l7.78-7.78 2.81-2.81c.8-.78.8-2.07 0-2.86zM5.41 20L4 18.59l7.72-7.72 1.47 1.35L5.41 20z\"/>\n",
              "  </svg>\n",
              "      </button>\n",
              "      \n",
              "  <style>\n",
              "    .colab-df-container {\n",
              "      display:flex;\n",
              "      flex-wrap:wrap;\n",
              "      gap: 12px;\n",
              "    }\n",
              "\n",
              "    .colab-df-convert {\n",
              "      background-color: #E8F0FE;\n",
              "      border: none;\n",
              "      border-radius: 50%;\n",
              "      cursor: pointer;\n",
              "      display: none;\n",
              "      fill: #1967D2;\n",
              "      height: 32px;\n",
              "      padding: 0 0 0 0;\n",
              "      width: 32px;\n",
              "    }\n",
              "\n",
              "    .colab-df-convert:hover {\n",
              "      background-color: #E2EBFA;\n",
              "      box-shadow: 0px 1px 2px rgba(60, 64, 67, 0.3), 0px 1px 3px 1px rgba(60, 64, 67, 0.15);\n",
              "      fill: #174EA6;\n",
              "    }\n",
              "\n",
              "    [theme=dark] .colab-df-convert {\n",
              "      background-color: #3B4455;\n",
              "      fill: #D2E3FC;\n",
              "    }\n",
              "\n",
              "    [theme=dark] .colab-df-convert:hover {\n",
              "      background-color: #434B5C;\n",
              "      box-shadow: 0px 1px 3px 1px rgba(0, 0, 0, 0.15);\n",
              "      filter: drop-shadow(0px 1px 2px rgba(0, 0, 0, 0.3));\n",
              "      fill: #FFFFFF;\n",
              "    }\n",
              "  </style>\n",
              "\n",
              "      <script>\n",
              "        const buttonEl =\n",
              "          document.querySelector('#df-0b3d5c75-b185-48f4-a8ad-47495db09335 button.colab-df-convert');\n",
              "        buttonEl.style.display =\n",
              "          google.colab.kernel.accessAllowed ? 'block' : 'none';\n",
              "\n",
              "        async function convertToInteractive(key) {\n",
              "          const element = document.querySelector('#df-0b3d5c75-b185-48f4-a8ad-47495db09335');\n",
              "          const dataTable =\n",
              "            await google.colab.kernel.invokeFunction('convertToInteractive',\n",
              "                                                     [key], {});\n",
              "          if (!dataTable) return;\n",
              "\n",
              "          const docLinkHtml = 'Like what you see? Visit the ' +\n",
              "            '<a target=\"_blank\" href=https://colab.research.google.com/notebooks/data_table.ipynb>data table notebook</a>'\n",
              "            + ' to learn more about interactive tables.';\n",
              "          element.innerHTML = '';\n",
              "          dataTable['output_type'] = 'display_data';\n",
              "          await google.colab.output.renderOutput(dataTable, element);\n",
              "          const docLink = document.createElement('div');\n",
              "          docLink.innerHTML = docLinkHtml;\n",
              "          element.appendChild(docLink);\n",
              "        }\n",
              "      </script>\n",
              "    </div>\n",
              "  </div>\n",
              "  "
            ]
          },
          "metadata": {},
          "execution_count": 2
        }
      ],
      "source": [
        "# Desarrollo Pregunta 2\n",
        "#!pip install xlrd pandas --force\n",
        "import pandas as pd\n",
        "cadena_usa = pd.read_excel(\"https://github.com/estebanrucan/taller-python/raw/master/data/Sample%20-%20Superstore.xls\")\n",
        "display(cadena_usa.head())"
      ]
    },
    {
      "cell_type": "markdown",
      "metadata": {
        "id": "cfLy8rNc-nQc"
      },
      "source": [
        "### Pregunta 3\n",
        "Realice un Análisis Exploratorio que permita descubrir el efecto que tiene el porcentaje de descuento sobre el profit obtenido con los productos vendidos, incluya gráficos en el análisis ¿Qué conclusiones se logran obtener? ¿Cuál sería su recomendación?"
      ]
    },
    {
      "cell_type": "code",
      "execution_count": 3,
      "metadata": {
        "id": "6Q4hqn84-nQc",
        "colab": {
          "base_uri": "https://localhost:8080/",
          "height": 275
        },
        "outputId": "e0d6655a-74d7-408c-db34-ea4ca00e0045"
      },
      "outputs": [
        {
          "output_type": "execute_result",
          "data": {
            "text/plain": [
              "<matplotlib.axes._subplots.AxesSubplot at 0x7fcb4c88bd50>"
            ]
          },
          "metadata": {},
          "execution_count": 3
        },
        {
          "output_type": "display_data",
          "data": {
            "text/plain": [
              "<Figure size 432x288 with 2 Axes>"
            ],
            "image/png": "[encoded data removed]"
          },
          "metadata": {
            "needs_background": "light"
          }
        }
      ],
      "source": [
        "# Desarrollo Pregunta 3\n",
        "# %matplotlib inline: pegar abajo si no les muestra el gráfico\n",
        "cadena_usa.plot.scatter(\"Sales\", \"Profit\", c = \"Discount\", cmap = \"viridis\")\n",
        "# c: colorear puntos de acuerdo a una variable\n",
        "# cmap: paleta de colores del gráfico, en este caso usamos paleta viridis."
      ]
    },
    {
      "cell_type": "markdown",
      "metadata": {
        "id": "BMhTvjxT-nQc"
      },
      "source": [
        "### Pregunta 4\n",
        "¿Que categoría de producto genera mayores ingresos? ¿Cuál es la categoría de producto más vendida?"
      ]
    },
    {
      "cell_type": "code",
      "execution_count": 7,
      "metadata": {
        "id": "q1Mk9KEg-nQc",
        "colab": {
          "base_uri": "https://localhost:8080/",
          "height": 333
        },
        "outputId": "81ffed86-6748-4952-ecc8-3b135010636b"
      },
      "outputs": [
        {
          "output_type": "display_data",
          "data": {
            "text/plain": [
              "                      Profit\n",
              "Category                    \n",
              "Furniture         18451.2728\n",
              "Office Supplies  122490.8008\n",
              "Technology       145454.9481"
            ],
            "text/html": [
              "\n",
              "  <div id=\"df-cc5cfbce-a712-48d9-923f-bf62dabe7347\">\n",
              "    <div class=\"colab-df-container\">\n",
              "      <div>\n",
              "<style scoped>\n",
              "    .dataframe tbody tr th:only-of-type {\n",
              "        vertical-align: middle;\n",
              "    }\n",
              "\n",
              "    .dataframe tbody tr th {\n",
              "        vertical-align: top;\n",
              "    }\n",
              "\n",
              "    .dataframe thead th {\n",
              "        text-align: right;\n",
              "    }\n",
              "</style>\n",
              "<table border=\"1\" class=\"dataframe\">\n",
              "  <thead>\n",
              "    <tr style=\"text-align: right;\">\n",
              "      <th></th>\n",
              "      <th>Profit</th>\n",
              "    </tr>\n",
              "    <tr>\n",
              "      <th>Category</th>\n",
              "      <th></th>\n",
              "    </tr>\n",
              "  </thead>\n",
              "  <tbody>\n",
              "    <tr>\n",
              "      <th>Furniture</th>\n",
              "      <td>18451.2728</td>\n",
              "    </tr>\n",
              "    <tr>\n",
              "      <th>Office Supplies</th>\n",
              "      <td>122490.8008</td>\n",
              "    </tr>\n",
              "    <tr>\n",
              "      <th>Technology</th>\n",
              "      <td>145454.9481</td>\n",
              "    </tr>\n",
              "  </tbody>\n",
              "</table>\n",
              "</div>\n",
              "      <button class=\"colab-df-convert\" onclick=\"convertToInteractive('df-cc5cfbce-a712-48d9-923f-bf62dabe7347')\"\n",
              "              title=\"Convert this dataframe to an interactive table.\"\n",
              "              style=\"display:none;\">\n",
              "        \n",
              "  <svg xmlns=\"http://www.w3.org/2000/svg\" height=\"24px\"viewBox=\"0 0 24 24\"\n",
              "       width=\"24px\">\n",
              "    <path d=\"M0 0h24v24H0V0z\" fill=\"none\"/>\n",
              "    <path d=\"M18.56 5.44l.94 2.06.94-2.06 2.06-.94-2.06-.94-.94-2.06-.94 2.06-2.06.94zm-11 1L8.5 8.5l.94-2.06 2.06-.94-2.06-.94L8.5 2.5l-.94 2.06-2.06.94zm10 10l.94 2.06.94-2.06 2.06-.94-2.06-.94-.94-2.06-.94 2.06-2.06.94z\"/><path d=\"M17.41 7.96l-1.37-1.37c-.4-.4-.92-.59-1.43-.59-.52 0-1.04.2-1.43.59L10.3 9.45l-7.72 7.72c-.78.78-.78 2.05 0 2.83L4 21.41c.39.39.9.59 1.41.59.51 0 1.02-.2 1.41-.59l7.78-7.78 2.81-2.81c.8-.78.8-2.07 0-2.86zM5.41 20L4 18.59l7.72-7.72 1.47 1.35L5.41 20z\"/>\n",
              "  </svg>\n",
              "      </button>\n",
              "      \n",
              "  <style>\n",
              "    .colab-df-container {\n",
              "      display:flex;\n",
              "      flex-wrap:wrap;\n",
              "      gap: 12px;\n",
              "    }\n",
              "\n",
              "    .colab-df-convert {\n",
              "      background-color: #E8F0FE;\n",
              "      border: none;\n",
              "      border-radius: 50%;\n",
              "      cursor: pointer;\n",
              "      display: none;\n",
              "      fill: #1967D2;\n",
              "      height: 32px;\n",
              "      padding: 0 0 0 0;\n",
              "      width: 32px;\n",
              "    }\n",
              "\n",
              "    .colab-df-convert:hover {\n",
              "      background-color: #E2EBFA;\n",
              "      box-shadow: 0px 1px 2px rgba(60, 64, 67, 0.3), 0px 1px 3px 1px rgba(60, 64, 67, 0.15);\n",
              "      fill: #174EA6;\n",
              "    }\n",
              "\n",
              "    [theme=dark] .colab-df-convert {\n",
              "      background-color: #3B4455;\n",
              "      fill: #D2E3FC;\n",
              "    }\n",
              "\n",
              "    [theme=dark] .colab-df-convert:hover {\n",
              "      background-color: #434B5C;\n",
              "      box-shadow: 0px 1px 3px 1px rgba(0, 0, 0, 0.15);\n",
              "      filter: drop-shadow(0px 1px 2px rgba(0, 0, 0, 0.3));\n",
              "      fill: #FFFFFF;\n",
              "    }\n",
              "  </style>\n",
              "\n",
              "      <script>\n",
              "        const buttonEl =\n",
              "          document.querySelector('#df-cc5cfbce-a712-48d9-923f-bf62dabe7347 button.colab-df-convert');\n",
              "        buttonEl.style.display =\n",
              "          google.colab.kernel.accessAllowed ? 'block' : 'none';\n",
              "\n",
              "        async function convertToInteractive(key) {\n",
              "          const element = document.querySelector('#df-cc5cfbce-a712-48d9-923f-bf62dabe7347');\n",
              "          const dataTable =\n",
              "            await google.colab.kernel.invokeFunction('convertToInteractive',\n",
              "                                                     [key], {});\n",
              "          if (!dataTable) return;\n",
              "\n",
              "          const docLinkHtml = 'Like what you see? Visit the ' +\n",
              "            '<a target=\"_blank\" href=https://colab.research.google.com/notebooks/data_table.ipynb>data table notebook</a>'\n",
              "            + ' to learn more about interactive tables.';\n",
              "          element.innerHTML = '';\n",
              "          dataTable['output_type'] = 'display_data';\n",
              "          await google.colab.output.renderOutput(dataTable, element);\n",
              "          const docLink = document.createElement('div');\n",
              "          docLink.innerHTML = docLinkHtml;\n",
              "          element.appendChild(docLink);\n",
              "        }\n",
              "      </script>\n",
              "    </div>\n",
              "  </div>\n",
              "  "
            ]
          },
          "metadata": {}
        },
        {
          "output_type": "display_data",
          "data": {
            "text/plain": [
              "                 Quantity\n",
              "Category                 \n",
              "Furniture            8028\n",
              "Office Supplies     22906\n",
              "Technology           6939"
            ],
            "text/html": [
              "\n",
              "  <div id=\"df-726fd9fa-aaf6-4b35-aaf7-74af5e6dc6e0\">\n",
              "    <div class=\"colab-df-container\">\n",
              "      <div>\n",
              "<style scoped>\n",
              "    .dataframe tbody tr th:only-of-type {\n",
              "        vertical-align: middle;\n",
              "    }\n",
              "\n",
              "    .dataframe tbody tr th {\n",
              "        vertical-align: top;\n",
              "    }\n",
              "\n",
              "    .dataframe thead th {\n",
              "        text-align: right;\n",
              "    }\n",
              "</style>\n",
              "<table border=\"1\" class=\"dataframe\">\n",
              "  <thead>\n",
              "    <tr style=\"text-align: right;\">\n",
              "      <th></th>\n",
              "      <th>Quantity</th>\n",
              "    </tr>\n",
              "    <tr>\n",
              "      <th>Category</th>\n",
              "      <th></th>\n",
              "    </tr>\n",
              "  </thead>\n",
              "  <tbody>\n",
              "    <tr>\n",
              "      <th>Furniture</th>\n",
              "      <td>8028</td>\n",
              "    </tr>\n",
              "    <tr>\n",
              "      <th>Office Supplies</th>\n",
              "      <td>22906</td>\n",
              "    </tr>\n",
              "    <tr>\n",
              "      <th>Technology</th>\n",
              "      <td>6939</td>\n",
              "    </tr>\n",
              "  </tbody>\n",
              "</table>\n",
              "</div>\n",
              "      <button class=\"colab-df-convert\" onclick=\"convertToInteractive('df-726fd9fa-aaf6-4b35-aaf7-74af5e6dc6e0')\"\n",
              "              title=\"Convert this dataframe to an interactive table.\"\n",
              "              style=\"display:none;\">\n",
              "        \n",
              "  <svg xmlns=\"http://www.w3.org/2000/svg\" height=\"24px\"viewBox=\"0 0 24 24\"\n",
              "       width=\"24px\">\n",
              "    <path d=\"M0 0h24v24H0V0z\" fill=\"none\"/>\n",
              "    <path d=\"M18.56 5.44l.94 2.06.94-2.06 2.06-.94-2.06-.94-.94-2.06-.94 2.06-2.06.94zm-11 1L8.5 8.5l.94-2.06 2.06-.94-2.06-.94L8.5 2.5l-.94 2.06-2.06.94zm10 10l.94 2.06.94-2.06 2.06-.94-2.06-.94-.94-2.06-.94 2.06-2.06.94z\"/><path d=\"M17.41 7.96l-1.37-1.37c-.4-.4-.92-.59-1.43-.59-.52 0-1.04.2-1.43.59L10.3 9.45l-7.72 7.72c-.78.78-.78 2.05 0 2.83L4 21.41c.39.39.9.59 1.41.59.51 0 1.02-.2 1.41-.59l7.78-7.78 2.81-2.81c.8-.78.8-2.07 0-2.86zM5.41 20L4 18.59l7.72-7.72 1.47 1.35L5.41 20z\"/>\n",
              "  </svg>\n",
              "      </button>\n",
              "      \n",
              "  <style>\n",
              "    .colab-df-container {\n",
              "      display:flex;\n",
              "      flex-wrap:wrap;\n",
              "      gap: 12px;\n",
              "    }\n",
              "\n",
              "    .colab-df-convert {\n",
              "      background-color: #E8F0FE;\n",
              "      border: none;\n",
              "      border-radius: 50%;\n",
              "      cursor: pointer;\n",
              "      display: none;\n",
              "      fill: #1967D2;\n",
              "      height: 32px;\n",
              "      padding: 0 0 0 0;\n",
              "      width: 32px;\n",
              "    }\n",
              "\n",
              "    .colab-df-convert:hover {\n",
              "      background-color: #E2EBFA;\n",
              "      box-shadow: 0px 1px 2px rgba(60, 64, 67, 0.3), 0px 1px 3px 1px rgba(60, 64, 67, 0.15);\n",
              "      fill: #174EA6;\n",
              "    }\n",
              "\n",
              "    [theme=dark] .colab-df-convert {\n",
              "      background-color: #3B4455;\n",
              "      fill: #D2E3FC;\n",
              "    }\n",
              "\n",
              "    [theme=dark] .colab-df-convert:hover {\n",
              "      background-color: #434B5C;\n",
              "      box-shadow: 0px 1px 3px 1px rgba(0, 0, 0, 0.15);\n",
              "      filter: drop-shadow(0px 1px 2px rgba(0, 0, 0, 0.3));\n",
              "      fill: #FFFFFF;\n",
              "    }\n",
              "  </style>\n",
              "\n",
              "      <script>\n",
              "        const buttonEl =\n",
              "          document.querySelector('#df-726fd9fa-aaf6-4b35-aaf7-74af5e6dc6e0 button.colab-df-convert');\n",
              "        buttonEl.style.display =\n",
              "          google.colab.kernel.accessAllowed ? 'block' : 'none';\n",
              "\n",
              "        async function convertToInteractive(key) {\n",
              "          const element = document.querySelector('#df-726fd9fa-aaf6-4b35-aaf7-74af5e6dc6e0');\n",
              "          const dataTable =\n",
              "            await google.colab.kernel.invokeFunction('convertToInteractive',\n",
              "                                                     [key], {});\n",
              "          if (!dataTable) return;\n",
              "\n",
              "          const docLinkHtml = 'Like what you see? Visit the ' +\n",
              "            '<a target=\"_blank\" href=https://colab.research.google.com/notebooks/data_table.ipynb>data table notebook</a>'\n",
              "            + ' to learn more about interactive tables.';\n",
              "          element.innerHTML = '';\n",
              "          dataTable['output_type'] = 'display_data';\n",
              "          await google.colab.output.renderOutput(dataTable, element);\n",
              "          const docLink = document.createElement('div');\n",
              "          docLink.innerHTML = docLinkHtml;\n",
              "          element.appendChild(docLink);\n",
              "        }\n",
              "      </script>\n",
              "    </div>\n",
              "  </div>\n",
              "  "
            ]
          },
          "metadata": {}
        }
      ],
      "source": [
        "# Desarrollo Pregunta 4\n",
        "# Para ver categoría mayores ingresos\n",
        "display(cadena_usa.groupby([\"Category\"]).agg({\"Profit\": \"sum\"}))\n",
        "display(cadena_usa.groupby([\"Category\"]).agg({\"Quantity\": \"sum\"}))"
      ]
    },
    {
      "cell_type": "markdown",
      "metadata": {
        "id": "P0QZW7wL-nQc"
      },
      "source": [
        "### Pregunta 5\n",
        "Cree un ciclo que obtenga tablas sobre la sub-categoría que genera más ventas en dólares en cada estado de USA. Los resultados deben ser almacenados en un diccionario. ¿Cuál es la categoría más vendida en New York?"
      ]
    },
    {
      "cell_type": "code",
      "execution_count": 8,
      "metadata": {
        "id": "xbxiSO_i-nQc",
        "colab": {
          "base_uri": "https://localhost:8080/"
        },
        "outputId": "17bbd9ba-144a-44a7-d82f-040dd2c80d54"
      },
      "outputs": [
        {
          "output_type": "execute_result",
          "data": {
            "text/plain": [
              "array(['Kentucky', 'California', 'Florida', 'North Carolina',\n",
              "       'Washington', 'Texas', 'Wisconsin', 'Utah', 'Nebraska',\n",
              "       'Pennsylvania', 'Illinois', 'Minnesota', 'Michigan', 'Delaware',\n",
              "       'Indiana', 'New York', 'Arizona', 'Virginia', 'Tennessee',\n",
              "       'Alabama', 'South Carolina', 'Oregon', 'Colorado', 'Iowa', 'Ohio',\n",
              "       'Missouri', 'Oklahoma', 'New Mexico', 'Louisiana', 'Connecticut',\n",
              "       'New Jersey', 'Massachusetts', 'Georgia', 'Nevada', 'Rhode Island',\n",
              "       'Mississippi', 'Arkansas', 'Montana', 'New Hampshire', 'Maryland',\n",
              "       'District of Columbia', 'Kansas', 'Vermont', 'Maine',\n",
              "       'South Dakota', 'Idaho', 'North Dakota', 'Wyoming',\n",
              "       'West Virginia'], dtype=object)"
            ]
          },
          "metadata": {},
          "execution_count": 8
        }
      ],
      "source": [
        "# Desarrollo Pregunta 5\n",
        "estados = cadena_usa[\"State\"].unique() # Obtengo valores únicos de variable State\n",
        "estados"
      ]
    },
    {
      "cell_type": "code",
      "source": [
        "diccionario_estados = dict() # Creo diccionario vacío\n",
        "\n",
        "for estado in estados:\n",
        "    filtro_estado      = cadena_usa[cadena_usa[\"State\"] == estado]\n",
        "    ventas_subcat      = filtro_estado.groupby([\"Sub-Category\"]).agg({\"Sales\": \"sum\"})\n",
        "    ventas_ordenadas   = ventas_subcat.sort_values(\"Sales\", ascending = False)\n",
        "    indices            = ventas_ordenadas.index\n",
        "    subcat_mas_vendida = indices[0]\n",
        "    diccionario_estados[estado] = subcat_mas_vendida\n",
        "  \n",
        "print(diccionario_estados[\"New York\"])"
      ],
      "metadata": {
        "colab": {
          "base_uri": "https://localhost:8080/"
        },
        "id": "rt4u-rjVpOXE",
        "outputId": "a28fdb1b-3c1f-4884-c903-42b4c057c22b"
      },
      "execution_count": 10,
      "outputs": [
        {
          "output_type": "stream",
          "name": "stdout",
          "text": [
            "Phones\n"
          ]
        }
      ]
    },
    {
      "cell_type": "markdown",
      "source": [
        "Por lo tanto la categoría más vendida es Phones."
      ],
      "metadata": {
        "id": "37_jSEaupYKn"
      }
    },
    {
      "cell_type": "markdown",
      "metadata": {
        "id": "xwObjczu-nQd"
      },
      "source": [
        "### Pregunta 6\n",
        "Ha sido un largo día, tome un descanso. Ejecute el siguiente bloque de código:"
      ]
    },
    {
      "cell_type": "code",
      "execution_count": 11,
      "metadata": {
        "id": "J5wDtExN-nQd",
        "colab": {
          "base_uri": "https://localhost:8080/",
          "height": 468,
          "referenced_widgets": [
            "b8632375821f444581088efe35a854a2",
            "c4159cf9eba94f1e98f5946344178471",
            "845bf41c7c5b416b8a8f1a3a68f72603",
            "d56316d123534757b5578f239ab168db",
            "802ee675fad44300a6d5534828efff46",
            "ad66f3eb2e4c4517a1975dcdd286f9d4",
            "b02fc45144c3454e9b2bdb23b4a81ac9",
            "14d2104d71a549e79809bb13c3f0438d",
            "e6fc30cd5875437d96df4a3bca8b8732",
            "9164ab707052499ea49fb0153d8805c1",
            "bc0c7b3e9fb34d41875fc07361f94739"
          ]
        },
        "outputId": "754d24bc-e7bd-4f55-fd33-40fbbe2a6bea"
      },
      "outputs": [
        {
          "output_type": "stream",
          "name": "stdout",
          "text": [
            "Looking in indexes: https://pypi.org/simple, https://us-python.pkg.dev/colab-wheels/public/simple/\n",
            "Collecting sweetviz\n",
            "  Downloading sweetviz-2.1.4-py3-none-any.whl (15.1 MB)\n",
            "\u001b[K     |████████████████████████████████| 15.1 MB 19.3 MB/s \n",
            "\u001b[?25hRequirement already satisfied: pandas!=1.0.0,!=1.0.1,!=1.0.2,>=0.25.3 in /usr/local/lib/python3.7/dist-packages (from sweetviz) (1.3.5)\n",
            "Requirement already satisfied: importlib-resources>=1.2.0 in /usr/local/lib/python3.7/dist-packages (from sweetviz) (5.9.0)\n",
            "Requirement already satisfied: numpy>=1.16.0 in /usr/local/lib/python3.7/dist-packages (from sweetviz) (1.21.6)\n",
            "Requirement already satisfied: jinja2>=2.11.1 in /usr/local/lib/python3.7/dist-packages (from sweetviz) (2.11.3)\n",
            "Requirement already satisfied: matplotlib>=3.1.3 in /usr/local/lib/python3.7/dist-packages (from sweetviz) (3.2.2)\n",
            "Requirement already satisfied: scipy>=1.3.2 in /usr/local/lib/python3.7/dist-packages (from sweetviz) (1.7.3)\n",
            "Requirement already satisfied: tqdm>=4.43.0 in /usr/local/lib/python3.7/dist-packages (from sweetviz) (4.64.0)\n",
            "Requirement already satisfied: zipp>=3.1.0 in /usr/local/lib/python3.7/dist-packages (from importlib-resources>=1.2.0->sweetviz) (3.8.1)\n",
            "Requirement already satisfied: MarkupSafe>=0.23 in /usr/local/lib/python3.7/dist-packages (from jinja2>=2.11.1->sweetviz) (2.0.1)\n",
            "Requirement already satisfied: pyparsing!=2.0.4,!=2.1.2,!=2.1.6,>=2.0.1 in /usr/local/lib/python3.7/dist-packages (from matplotlib>=3.1.3->sweetviz) (3.0.9)\n",
            "Requirement already satisfied: kiwisolver>=1.0.1 in /usr/local/lib/python3.7/dist-packages (from matplotlib>=3.1.3->sweetviz) (1.4.4)\n",
            "Requirement already satisfied: python-dateutil>=2.1 in /usr/local/lib/python3.7/dist-packages (from matplotlib>=3.1.3->sweetviz) (2.8.2)\n",
            "Requirement already satisfied: cycler>=0.10 in /usr/local/lib/python3.7/dist-packages (from matplotlib>=3.1.3->sweetviz) (0.11.0)\n",
            "Requirement already satisfied: typing-extensions in /usr/local/lib/python3.7/dist-packages (from kiwisolver>=1.0.1->matplotlib>=3.1.3->sweetviz) (4.1.1)\n",
            "Requirement already satisfied: pytz>=2017.3 in /usr/local/lib/python3.7/dist-packages (from pandas!=1.0.0,!=1.0.1,!=1.0.2,>=0.25.3->sweetviz) (2022.1)\n",
            "Requirement already satisfied: six>=1.5 in /usr/local/lib/python3.7/dist-packages (from python-dateutil>=2.1->matplotlib>=3.1.3->sweetviz) (1.16.0)\n",
            "Installing collected packages: sweetviz\n",
            "Successfully installed sweetviz-2.1.4\n"
          ]
        },
        {
          "output_type": "display_data",
          "data": {
            "text/plain": [
              "                                             |          | [  0%]   00:00 -> (? left)"
            ],
            "application/vnd.jupyter.widget-view+json": {
              "version_major": 2,
              "version_minor": 0,
              "model_id": "b8632375821f444581088efe35a854a2"
            }
          },
          "metadata": {}
        },
        {
          "output_type": "stream",
          "name": "stdout",
          "text": [
            "Report SWEETVIZ_REPORT.html was generated! NOTEBOOK/COLAB USERS: the web browser MAY not pop up, regardless, the report IS saved in your notebook/colab files.\n"
          ]
        }
      ],
      "source": [
        "# Desarrollo Pregunta 6\n",
        "# En caso de que aún no la instalen:\n",
        "#!pip install sweetviz\n",
        "import sweetviz as sv\n",
        "\n",
        "analisis = sv.analyze(cadena_usa)\n",
        "analisis.show_html()\n",
        "# Ver archivo creado en el directorio principal de trabajo."
      ]
    },
    {
      "cell_type": "markdown",
      "metadata": {
        "id": "-IJomQCZ-nQd"
      },
      "source": [
        "## Referencias y material complementario\n",
        "\n",
        "### Referencias\n",
        "\n",
        "* A Python Data Analyst's Toolkit: Learn Python and Python-based Libraries whit Aplications in Data Analysis and Statistics. Año: 2021. Autor: Gayathri Rajagopalan. Editorial: APRESS.\n",
        "* Documentación de Numpy: <https://numpy.org/doc/>\n",
        "* Documentación de Pandas: <https://pandas.pydata.org/docs/>\n",
        "* Documentación de Matplotlib: <https://matplotlib.org/>\n",
        "\n",
        "### Links de interés\n",
        "\n",
        "* Programas de posgrado Facultad de Matemáticas UC: <http://www.mat.uc.cl//programas-de-postgrado.html>\n",
        "* Correos de contacto y consultas sobre procesos de admisión: <direccion.me@mat.uc.cl> y <subdip@mat.uc.cl>\n",
        "\n"
      ]
    }
  ],
  "metadata": {
    "colab": {
      "name": "workshop-python.ipynb",
      "provenance": [],
      "collapsed_sections": [],
      "include_colab_link": true
    },
    "kernelspec": {
      "display_name": "Python 3.9.12 ('default')",
      "language": "python",
      "name": "python3"
    },
    "language_info": {
      "codemirror_mode": {
        "name": "ipython",
        "version": 3
      },
      "file_extension": ".py",
      "mimetype": "text/x-python",
      "name": "python",
      "nbconvert_exporter": "python",
      "pygments_lexer": "ipython3",
      "version": "3.9.12"
    },
    "orig_nbformat": 4,
    "vscode": {
      "interpreter": {
        "hash": "3fb0f7d9ac85b35c4db44595658f206fada484d7743b0df944cbbd359afb2df3"
      }
    },
    "widgets": {
      "application/vnd.jupyter.widget-state+json": {
        "b8632375821f444581088efe35a854a2": {
          "model_module": "@jupyter-widgets/controls",
          "model_name": "HBoxModel",
          "model_module_version": "1.5.0",
          "state": {
            "_dom_classes": [],
            "_model_module": "@jupyter-widgets/controls",
            "_model_module_version": "1.5.0",
            "_model_name": "HBoxModel",
            "_view_count": null,
            "_view_module": "@jupyter-widgets/controls",
            "_view_module_version": "1.5.0",
            "_view_name": "HBoxView",
            "box_style": "",
            "children": [
              "IPY_MODEL_c4159cf9eba94f1e98f5946344178471",
              "IPY_MODEL_845bf41c7c5b416b8a8f1a3a68f72603",
              "IPY_MODEL_d56316d123534757b5578f239ab168db"
            ],
            "layout": "IPY_MODEL_802ee675fad44300a6d5534828efff46"
          }
        },
        "c4159cf9eba94f1e98f5946344178471": {
          "model_module": "@jupyter-widgets/controls",
          "model_name": "HTMLModel",
          "model_module_version": "1.5.0",
          "state": {
            "_dom_classes": [],
            "_model_module": "@jupyter-widgets/controls",
            "_model_module_version": "1.5.0",
            "_model_name": "HTMLModel",
            "_view_count": null,
            "_view_module": "@jupyter-widgets/controls",
            "_view_module_version": "1.5.0",
            "_view_name": "HTMLView",
            "description": "",
            "description_tooltip": null,
            "layout": "IPY_MODEL_ad66f3eb2e4c4517a1975dcdd286f9d4",
            "placeholder": "​",
            "style": "IPY_MODEL_b02fc45144c3454e9b2bdb23b4a81ac9",
            "value": "Done! Use &#x27;show&#x27; commands to display/save.   "
          }
        },
        "845bf41c7c5b416b8a8f1a3a68f72603": {
          "model_module": "@jupyter-widgets/controls",
          "model_name": "FloatProgressModel",
          "model_module_version": "1.5.0",
          "state": {
            "_dom_classes": [],
            "_model_module": "@jupyter-widgets/controls",
            "_model_module_version": "1.5.0",
            "_model_name": "FloatProgressModel",
            "_view_count": null,
            "_view_module": "@jupyter-widgets/controls",
            "_view_module_version": "1.5.0",
            "_view_name": "ProgressView",
            "bar_style": "success",
            "description": "",
            "description_tooltip": null,
            "layout": "IPY_MODEL_14d2104d71a549e79809bb13c3f0438d",
            "max": 1,
            "min": 0,
            "orientation": "horizontal",
            "style": "IPY_MODEL_e6fc30cd5875437d96df4a3bca8b8732",
            "value": 1
          }
        },
        "d56316d123534757b5578f239ab168db": {
          "model_module": "@jupyter-widgets/controls",
          "model_name": "HTMLModel",
          "model_module_version": "1.5.0",
          "state": {
            "_dom_classes": [],
            "_model_module": "@jupyter-widgets/controls",
            "_model_module_version": "1.5.0",
            "_model_name": "HTMLModel",
            "_view_count": null,
            "_view_module": "@jupyter-widgets/controls",
            "_view_module_version": "1.5.0",
            "_view_name": "HTMLView",
            "description": "",
            "description_tooltip": null,
            "layout": "IPY_MODEL_9164ab707052499ea49fb0153d8805c1",
            "placeholder": "​",
            "style": "IPY_MODEL_bc0c7b3e9fb34d41875fc07361f94739",
            "value": " [100%]   00:00 -&gt; (00:00 left)"
          }
        },
        "802ee675fad44300a6d5534828efff46": {
          "model_module": "@jupyter-widgets/base",
          "model_name": "LayoutModel",
          "model_module_version": "1.2.0",
          "state": {
            "_model_module": "@jupyter-widgets/base",
            "_model_module_version": "1.2.0",
            "_model_name": "LayoutModel",
            "_view_count": null,
            "_view_module": "@jupyter-widgets/base",
            "_view_module_version": "1.2.0",
            "_view_name": "LayoutView",
            "align_content": null,
            "align_items": null,
            "align_self": null,
            "border": null,
            "bottom": null,
            "display": "inline-flex",
            "flex": null,
            "flex_flow": "row wrap",
            "grid_area": null,
            "grid_auto_columns": null,
            "grid_auto_flow": null,
            "grid_auto_rows": null,
            "grid_column": null,
            "grid_gap": null,
            "grid_row": null,
            "grid_template_areas": null,
            "grid_template_columns": null,
            "grid_template_rows": null,
            "height": null,
            "justify_content": null,
            "justify_items": null,
            "left": null,
            "margin": null,
            "max_height": null,
            "max_width": null,
            "min_height": null,
            "min_width": null,
            "object_fit": null,
            "object_position": null,
            "order": null,
            "overflow": null,
            "overflow_x": null,
            "overflow_y": null,
            "padding": null,
            "right": null,
            "top": null,
            "visibility": null,
            "width": "100%"
          }
        },
        "ad66f3eb2e4c4517a1975dcdd286f9d4": {
          "model_module": "@jupyter-widgets/base",
          "model_name": "LayoutModel",
          "model_module_version": "1.2.0",
          "state": {
            "_model_module": "@jupyter-widgets/base",
            "_model_module_version": "1.2.0",
            "_model_name": "LayoutModel",
            "_view_count": null,
            "_view_module": "@jupyter-widgets/base",
            "_view_module_version": "1.2.0",
            "_view_name": "LayoutView",
            "align_content": null,
            "align_items": null,
            "align_self": null,
            "border": null,
            "bottom": null,
            "display": null,
            "flex": null,
            "flex_flow": null,
            "grid_area": null,
            "grid_auto_columns": null,
            "grid_auto_flow": null,
            "grid_auto_rows": null,
            "grid_column": null,
            "grid_gap": null,
            "grid_row": null,
            "grid_template_areas": null,
            "grid_template_columns": null,
            "grid_template_rows": null,
            "height": null,
            "justify_content": null,
            "justify_items": null,
            "left": null,
            "margin": null,
            "max_height": null,
            "max_width": null,
            "min_height": null,
            "min_width": null,
            "object_fit": null,
            "object_position": null,
            "order": null,
            "overflow": null,
            "overflow_x": null,
            "overflow_y": null,
            "padding": null,
            "right": null,
            "top": null,
            "visibility": null,
            "width": null
          }
        },
        "b02fc45144c3454e9b2bdb23b4a81ac9": {
          "model_module": "@jupyter-widgets/controls",
          "model_name": "DescriptionStyleModel",
          "model_module_version": "1.5.0",
          "state": {
            "_model_module": "@jupyter-widgets/controls",
            "_model_module_version": "1.5.0",
            "_model_name": "DescriptionStyleModel",
            "_view_count": null,
            "_view_module": "@jupyter-widgets/base",
            "_view_module_version": "1.2.0",
            "_view_name": "StyleView",
            "description_width": ""
          }
        },
        "14d2104d71a549e79809bb13c3f0438d": {
          "model_module": "@jupyter-widgets/base",
          "model_name": "LayoutModel",
          "model_module_version": "1.2.0",
          "state": {
            "_model_module": "@jupyter-widgets/base",
            "_model_module_version": "1.2.0",
            "_model_name": "LayoutModel",
            "_view_count": null,
            "_view_module": "@jupyter-widgets/base",
            "_view_module_version": "1.2.0",
            "_view_name": "LayoutView",
            "align_content": null,
            "align_items": null,
            "align_self": null,
            "border": null,
            "bottom": null,
            "display": null,
            "flex": "2",
            "flex_flow": null,
            "grid_area": null,
            "grid_auto_columns": null,
            "grid_auto_flow": null,
            "grid_auto_rows": null,
            "grid_column": null,
            "grid_gap": null,
            "grid_row": null,
            "grid_template_areas": null,
            "grid_template_columns": null,
            "grid_template_rows": null,
            "height": null,
            "justify_content": null,
            "justify_items": null,
            "left": null,
            "margin": null,
            "max_height": null,
            "max_width": null,
            "min_height": null,
            "min_width": null,
            "object_fit": null,
            "object_position": null,
            "order": null,
            "overflow": null,
            "overflow_x": null,
            "overflow_y": null,
            "padding": null,
            "right": null,
            "top": null,
            "visibility": null,
            "width": null
          }
        },
        "e6fc30cd5875437d96df4a3bca8b8732": {
          "model_module": "@jupyter-widgets/controls",
          "model_name": "ProgressStyleModel",
          "model_module_version": "1.5.0",
          "state": {
            "_model_module": "@jupyter-widgets/controls",
            "_model_module_version": "1.5.0",
            "_model_name": "ProgressStyleModel",
            "_view_count": null,
            "_view_module": "@jupyter-widgets/base",
            "_view_module_version": "1.2.0",
            "_view_name": "StyleView",
            "bar_color": null,
            "description_width": ""
          }
        },
        "9164ab707052499ea49fb0153d8805c1": {
          "model_module": "@jupyter-widgets/base",
          "model_name": "LayoutModel",
          "model_module_version": "1.2.0",
          "state": {
            "_model_module": "@jupyter-widgets/base",
            "_model_module_version": "1.2.0",
            "_model_name": "LayoutModel",
            "_view_count": null,
            "_view_module": "@jupyter-widgets/base",
            "_view_module_version": "1.2.0",
            "_view_name": "LayoutView",
            "align_content": null,
            "align_items": null,
            "align_self": null,
            "border": null,
            "bottom": null,
            "display": null,
            "flex": null,
            "flex_flow": null,
            "grid_area": null,
            "grid_auto_columns": null,
            "grid_auto_flow": null,
            "grid_auto_rows": null,
            "grid_column": null,
            "grid_gap": null,
            "grid_row": null,
            "grid_template_areas": null,
            "grid_template_columns": null,
            "grid_template_rows": null,
            "height": null,
            "justify_content": null,
            "justify_items": null,
            "left": null,
            "margin": null,
            "max_height": null,
            "max_width": null,
            "min_height": null,
            "min_width": null,
            "object_fit": null,
            "object_position": null,
            "order": null,
            "overflow": null,
            "overflow_x": null,
            "overflow_y": null,
            "padding": null,
            "right": null,
            "top": null,
            "visibility": null,
            "width": null
          }
        },
        "bc0c7b3e9fb34d41875fc07361f94739": {
          "model_module": "@jupyter-widgets/controls",
          "model_name": "DescriptionStyleModel",
          "model_module_version": "1.5.0",
          "state": {
            "_model_module": "@jupyter-widgets/controls",
            "_model_module_version": "1.5.0",
            "_model_name": "DescriptionStyleModel",
            "_view_count": null,
            "_view_module": "@jupyter-widgets/base",
            "_view_module_version": "1.2.0",
            "_view_name": "StyleView",
            "description_width": ""
          }
        }
      }
    }
  },
  "nbformat": 4,
  "nbformat_minor": 0
}